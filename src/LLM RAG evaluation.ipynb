{
 "cells": [
  {
   "cell_type": "code",
   "execution_count": 2,
   "metadata": {},
   "outputs": [
    {
     "data": {
      "text/plain": [
       "True"
      ]
     },
     "execution_count": 2,
     "metadata": {},
     "output_type": "execute_result"
    }
   ],
   "source": [
    "import os\n",
    "\n",
    "from dotenv import load_dotenv\n",
    "\n",
    "load_dotenv()"
   ]
  },
  {
   "cell_type": "code",
   "execution_count": 3,
   "metadata": {},
   "outputs": [],
   "source": [
    "import os"
   ]
  },
  {
   "cell_type": "code",
   "execution_count": 1,
   "metadata": {},
   "outputs": [
    {
     "name": "stderr",
     "output_type": "stream",
     "text": [
      "{\"action\":\"startup\",\"default_vectorizer_module\":\"none\",\"level\":\"info\",\"msg\":\"the default vectorizer modules is set to \\\"none\\\", as a result all new schema classes without an explicit vectorizer setting, will use this vectorizer\",\"time\":\"2024-10-10T22:00:09Z\"}\n",
      "{\"action\":\"startup\",\"auto_schema_enabled\":true,\"level\":\"info\",\"msg\":\"auto schema enabled setting is set to \\\"true\\\"\",\"time\":\"2024-10-10T22:00:09Z\"}\n",
      "{\"level\":\"info\",\"msg\":\"No resource limits set, weaviate will use all available memory and CPU. To limit resources, set LIMIT_RESOURCES=true\",\"time\":\"2024-10-10T22:00:09Z\"}\n",
      "{\"level\":\"info\",\"msg\":\"module offload-s3 is enabled\",\"time\":\"2024-10-10T22:00:09Z\"}\n",
      "{\"level\":\"warning\",\"msg\":\"Multiple vector spaces are present, GraphQL Explore and REST API list objects endpoint module include params has been disabled as a result.\",\"time\":\"2024-10-10T22:00:09Z\"}\n",
      "{\"level\":\"info\",\"msg\":\"open cluster service\",\"servers\":{\"Embedded_at_8079\":36507},\"time\":\"2024-10-10T22:00:09Z\"}\n",
      "{\"address\":\"172.17.0.2:36508\",\"level\":\"info\",\"msg\":\"starting cloud rpc server ...\",\"time\":\"2024-10-10T22:00:09Z\"}\n",
      "{\"level\":\"info\",\"msg\":\"starting raft sub-system ...\",\"time\":\"2024-10-10T22:00:09Z\"}\n",
      "{\"address\":\"172.17.0.2:36507\",\"level\":\"info\",\"msg\":\"tcp transport\",\"tcpMaxPool\":3,\"tcpTimeout\":10000000000,\"time\":\"2024-10-10T22:00:09Z\"}\n",
      "{\"level\":\"info\",\"msg\":\"loading local db\",\"time\":\"2024-10-10T22:00:09Z\"}\n",
      "{\"level\":\"info\",\"msg\":\"local DB successfully loaded\",\"time\":\"2024-10-10T22:00:09Z\"}\n",
      "{\"level\":\"info\",\"msg\":\"schema manager loaded\",\"n\":0,\"time\":\"2024-10-10T22:00:09Z\"}\n",
      "{\"level\":\"info\",\"metadata_only_voters\":false,\"msg\":\"construct a new raft node\",\"name\":\"Embedded_at_8079\",\"time\":\"2024-10-10T22:00:09Z\"}\n",
      "{\"action\":\"raft\",\"index\":1,\"level\":\"info\",\"msg\":\"raft initial configuration\",\"servers\":\"[[{Suffrage:Voter ID:Embedded_at_8079 Address:172.17.0.2:57363}]]\",\"time\":\"2024-10-10T22:00:09Z\"}\n",
      "{\"last_snapshot_index\":0,\"last_store_applied_index\":0,\"last_store_log_applied_index\":5,\"level\":\"info\",\"msg\":\"raft node constructed\",\"raft_applied_index\":0,\"raft_last_index\":8,\"time\":\"2024-10-10T22:00:09Z\"}\n",
      "{\"action\":\"raft\",\"follower\":{},\"leader-address\":\"\",\"leader-id\":\"\",\"level\":\"info\",\"msg\":\"raft entering follower state\",\"time\":\"2024-10-10T22:00:09Z\"}\n",
      "{\"action\":\"raft\",\"last-leader-addr\":\"\",\"last-leader-id\":\"\",\"level\":\"warning\",\"msg\":\"raft heartbeat timeout reached, starting election\",\"time\":\"2024-10-10T22:00:10Z\"}\n",
      "{\"action\":\"raft\",\"level\":\"info\",\"msg\":\"raft entering candidate state\",\"node\":{},\"term\":7,\"time\":\"2024-10-10T22:00:10Z\"}\n",
      "{\"action\":\"raft\",\"level\":\"info\",\"msg\":\"raft election won\",\"tally\":1,\"term\":7,\"time\":\"2024-10-10T22:00:11Z\"}\n",
      "{\"action\":\"raft\",\"leader\":{},\"level\":\"info\",\"msg\":\"raft entering leader state\",\"time\":\"2024-10-10T22:00:11Z\"}\n",
      "{\"level\":\"info\",\"msg\":\"reload local db: update schema ...\",\"time\":\"2024-10-10T22:00:11Z\"}\n",
      "{\"index\":\"Index1\",\"level\":\"info\",\"msg\":\"reload local index\",\"time\":\"2024-10-10T22:00:11Z\"}\n",
      "{\"action\":\"raft\",\"command\":0,\"level\":\"info\",\"msg\":\"raft updating configuration\",\"server-addr\":\"172.17.0.2:36507\",\"server-id\":\"Embedded_at_8079\",\"servers\":\"[[{Suffrage:Voter ID:Embedded_at_8079 Address:172.17.0.2:36507}]]\",\"time\":\"2024-10-10T22:00:11Z\"}\n",
      "{\"action\":\"bootstrap\",\"leader\":\"172.17.0.2:36507\",\"level\":\"info\",\"msg\":\"successfully joined cluster\",\"time\":\"2024-10-10T22:00:11Z\"}\n",
      "{\"docker_image_tag\":\"unknown\",\"level\":\"info\",\"msg\":\"configured versions\",\"server_version\":\"1.26.1\",\"time\":\"2024-10-10T22:00:11Z\"}\n",
      "{\"action\":\"grpc_startup\",\"level\":\"info\",\"msg\":\"grpc server listening at [::]:50060\",\"time\":\"2024-10-10T22:00:11Z\"}\n",
      "{\"address\":\"172.17.0.2:36507\",\"level\":\"info\",\"msg\":\"current Leader\",\"time\":\"2024-10-10T22:00:11Z\"}\n",
      "{\"action\":\"restapi_management\",\"docker_image_tag\":\"unknown\",\"level\":\"info\",\"msg\":\"Serving weaviate at http://127.0.0.1:8079\",\"time\":\"2024-10-10T22:00:11Z\"}\n"
     ]
    },
    {
     "data": {
      "text/plain": [
       "<weaviate.client.WeaviateClient at 0x7f75cd1856d0>"
      ]
     },
     "execution_count": 1,
     "metadata": {},
     "output_type": "execute_result"
    }
   ],
   "source": [
    "import weaviate\n",
    "from weaviate.embedded import EmbeddedOptions\n",
    "\n",
    "# client = weaviate.connect_to_embedded()\n",
    "\n",
    "weaviate_client = weaviate.WeaviateClient(\n",
    "    embedded_options=EmbeddedOptions(\n",
    "        persistence_data_path=\"../weaviate_persistence\"\n",
    "    )\n",
    ")\n",
    "\n",
    "weaviate_client"
   ]
  },
  {
   "cell_type": "code",
   "execution_count": null,
   "metadata": {},
   "outputs": [],
   "source": [
    "from unstructured.chunking.title import chunk_by_title\n",
    "from langchain_core.documents import Document\n",
    "from unstructured.partition.auto import partition\n",
    "\n",
    "def get_langchain_docs(elements, filename):\n",
    "\n",
    "    # create chunks to better rag\n",
    "    chunks = chunk_by_title(elements, max_characters=1500, new_after_n_chars=1000, overlap=150)\n",
    "    \n",
    "    documents = []\n",
    "    # convert to the Langchain format\n",
    "    for chunk in chunks:\n",
    "        metadata = chunk.metadata.to_dict()\n",
    "        # print(\"---------------------\")\n",
    "        # print(metadata)\n",
    "        # print(\"---------------------\")\n",
    "        # print(chunk.text)\n",
    "\n",
    "        del metadata[\"languages\"]\n",
    "        if \"filename\" in metadata:\n",
    "            metadata[\"source\"] = metadata[\"filename\"]\n",
    "        else:\n",
    "            metadata[\"source\"] = filename\n",
    "            metadata[\"filename\"] = filename\n",
    "\n",
    "        documents.append(Document(page_content=chunk.text, metadata=metadata))\n",
    "\n",
    "    return documents"
   ]
  },
  {
   "cell_type": "code",
   "execution_count": null,
   "metadata": {},
   "outputs": [],
   "source": [
    "folder_path = \"../docs\"\n",
    "\n",
    "path, dirs, files = next(os.walk(folder_path))\n",
    "        \n",
    "documents_all = []\n",
    "for file in files:\n",
    "    with open( os.path.join(path, file), 'rb') as f:\n",
    "        print(f'Opening file: {file}')\n",
    "        \n",
    "        # open file, clean, segment\n",
    "        elements = partition(file=f)\n",
    "        \n",
    "        documents = get_langchain_docs(elements, file)\n",
    "        documents_all.extend(documents)\n",
    "\n",
    "documents_all"
   ]
  },
  {
   "cell_type": "code",
   "execution_count": null,
   "metadata": {},
   "outputs": [],
   "source": [
    "print( documents_all[0].page_content )"
   ]
  },
  {
   "cell_type": "code",
   "execution_count": 4,
   "metadata": {},
   "outputs": [
    {
     "name": "stderr",
     "output_type": "stream",
     "text": [
      "/workspaces/llm-rag-evaluation-ragas/.venv/lib/python3.11/site-packages/pydantic/_internal/_fields.py:132: UserWarning: Field \"model_name\" in GPT4AllEmbeddings has conflict with protected namespace \"model_\".\n",
      "\n",
      "You may be able to resolve this warning by setting `model_config['protected_namespaces'] = ()`.\n",
      "  warnings.warn(\n",
      "Failed to load libllamamodel-mainline-cuda.so: dlopen: libcudart.so.11.0: cannot open shared object file: No such file or directory\n",
      "Failed to load libllamamodel-mainline-cuda-avxonly.so: dlopen: libcudart.so.11.0: cannot open shared object file: No such file or directory\n"
     ]
    },
    {
     "data": {
      "text/plain": [
       "GPT4AllEmbeddings(model_name='nomic-embed-text-v1.f16.gguf', n_threads=None, device='cpu', gpt4all_kwargs={'allow_download': 'True'}, client=<gpt4all.gpt4all.Embed4All object at 0x7f75cc42ab50>)"
      ]
     },
     "execution_count": 4,
     "metadata": {},
     "output_type": "execute_result"
    }
   ],
   "source": [
    "from langchain_community.embeddings import GPT4AllEmbeddings\n",
    "        \n",
    "model_name = \"nomic-embed-text-v1.f16.gguf\"\n",
    "\n",
    "gpt4all_kwargs = {'allow_download': 'True'}\n",
    "\n",
    "embeddings_provider = GPT4AllEmbeddings(\n",
    "    model_name=model_name,\n",
    "    gpt4all_kwargs=gpt4all_kwargs\n",
    ")\n",
    "embeddings_provider"
   ]
  },
  {
   "cell_type": "code",
   "execution_count": 7,
   "metadata": {},
   "outputs": [],
   "source": [
    "from langchain_weaviate.vectorstores import WeaviateVectorStore\n",
    "\n",
    "index_name = \"index1\""
   ]
  },
  {
   "cell_type": "code",
   "execution_count": null,
   "metadata": {},
   "outputs": [],
   "source": [
    "weaviate_client.connect()\n",
    "\n",
    "vector_store = WeaviateVectorStore.from_documents(documents,  embeddings_provider, client=weaviate_client, index_name=index_name)\n",
    "vector_store"
   ]
  },
  {
   "cell_type": "code",
   "execution_count": 9,
   "metadata": {},
   "outputs": [],
   "source": [
    "weaviate_client.connect()\n",
    "vector_store = WeaviateVectorStore(weaviate_client, index_name, \"text\", embedding=embeddings_provider)\n",
    "\n",
    "# retriever = vector_store.as_retriever(search_type=\"mmr\", fetch_k=20)\n",
    "retriever = vector_store.as_retriever(search_type=\"similarity\", k=4)  #default settings from langchain"
   ]
  },
  {
   "cell_type": "code",
   "execution_count": 10,
   "metadata": {},
   "outputs": [
    {
     "data": {
      "text/plain": [
       "[Document(metadata={'filetype': 'application/pdf', 'filename': 'PJe Mídias Desktop - Envio de Perícias em MP4.pdf', 'page_number': 4.0, 'orig_elements': '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', 'source': 'PJe Mídias Desktop - Envio de Perícias em MP4.pdf'}, page_content='Material elaborado pela SETIC/CIS\\n\\n3\\n\\nPODER JUDICIÁRIO TRIBUNAL REGIONAL DO TRABALHO Secretaria de Tecnologia de Informação e Comunicação Coordenadoria de Implantação de Sistemas\\n\\nCaso a máquina já possua uma versão do PJeMídias é necessário que ela\\n\\nseja desinstalada previamente para se fazer o novo download.\\n\\nAo final do download do arquivo podem aparecer as mensagens abaixo,\\n\\ndevendo-se clicar em “Mais informações”:\\n\\nE depois clicar em “Executar assim mesmo”:\\n\\nPode aparecer também a imagem abaixo, devendo-se clicar em “Manter”:\\n\\nMaterial elaborado pela SETIC/CIS\\n\\n4\\n\\nPODER JUDICIÁRIO TRIBUNAL REGIONAL DO TRABALHO Secretaria de Tecnologia de Informação e Comunicação Coordenadoria de Implantação de Sistemas\\n\\nImportante destacar que é necessário que na máquina o programa JAVA\\n\\nesteja instalado.\\n\\n4 - Envio de vídeos\\n\\nPara acessar o PJeMídias Desktop deve ser preenchido o CPF no campo\\n\\nusuário e a senha cadastrada. Realizado o login, o sistema direciona para a tela a\\n\\nseguir:\\n\\nMaterial elaborado pela SETIC/CIS\\n\\n5\\n\\nPODER JUDICIÁRIO TRIBUNAL REGIONAL DO TRABALHO Secretaria de Tecnologia de Informação e Comunicação Coordenadoria de Implantação de Sistemas\\n\\nNo menu localizado na parte superior, à esquerda, são exibidos as opções\\n\\nconforme a imagem abaixo:\\n\\nClique em “NovaPerícia / Prova” e preencha os campos em destaque:'),\n",
       " Document(metadata={'filetype': 'application/pdf', 'filename': 'PJe Mídias Desktop - Envio de Perícias em MP4.pdf', 'page_number': 4.0, 'orig_elements': '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', 'source': 'PJe Mídias Desktop - Envio de Perícias em MP4.pdf'}, page_content='Material elaborado pela SETIC/CIS\\n\\n3\\n\\nPODER JUDICIÁRIO TRIBUNAL REGIONAL DO TRABALHO Secretaria de Tecnologia de Informação e Comunicação Coordenadoria de Implantação de Sistemas\\n\\nCaso a máquina já possua uma versão do PJeMídias é necessário que ela\\n\\nseja desinstalada previamente para se fazer o novo download.\\n\\nAo final do download do arquivo podem aparecer as mensagens abaixo,\\n\\ndevendo-se clicar em “Mais informações”:\\n\\nE depois clicar em “Executar assim mesmo”:\\n\\nPode aparecer também a imagem abaixo, devendo-se clicar em “Manter”:\\n\\nMaterial elaborado pela SETIC/CIS\\n\\n4\\n\\nPODER JUDICIÁRIO TRIBUNAL REGIONAL DO TRABALHO Secretaria de Tecnologia de Informação e Comunicação Coordenadoria de Implantação de Sistemas\\n\\nImportante destacar que é necessário que na máquina o programa JAVA\\n\\nesteja instalado.\\n\\n4 - Envio de vídeos\\n\\nPara acessar o PJeMídias Desktop deve ser preenchido o CPF no campo\\n\\nusuário e a senha cadastrada. Realizado o login, o sistema direciona para a tela a\\n\\nseguir:\\n\\nMaterial elaborado pela SETIC/CIS\\n\\n5\\n\\nPODER JUDICIÁRIO TRIBUNAL REGIONAL DO TRABALHO Secretaria de Tecnologia de Informação e Comunicação Coordenadoria de Implantação de Sistemas\\n\\nNo menu localizado na parte superior, à esquerda, são exibidos as opções\\n\\nconforme a imagem abaixo:\\n\\nClique em “NovaPerícia / Prova” e preencha os campos em destaque:'),\n",
       " Document(metadata={'filetype': 'application/pdf', 'filename': 'PJe Mídias Desktop - Envio de Perícias em MP4.pdf', 'page_number': 7.0, 'orig_elements': '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', 'source': 'PJe Mídias Desktop - Envio de Perícias em MP4.pdf'}, page_content='Material elaborado pela SETIC/CIS\\n\\n6\\n\\nPODER JUDICIÁRIO TRIBUNAL REGIONAL DO TRABALHO Secretaria de Tecnologia de Informação e Comunicação Coordenadoria de Implantação de Sistemas\\n\\nRealizada essa etapa, clicar em “Concluir”. O sistema direciona para a tela a seguir:\\n\\nNesta etapa, deve-se clicar em “Finalizar” para importar o vídeo para o PJeMídias\\n\\nDesktop. Na próxima tela tela são exibidos o processo, a data, a situação e\\n\\ninformação de assinatura.\\n\\nMaterial elaborado pela SETIC/CIS\\n\\n7\\n\\nPODER JUDICIÁRIO TRIBUNAL REGIONAL DO TRABALHO Secretaria de Tecnologia de Informação e Comunicação Coordenadoria de Implantação de Sistemas\\n\\nAqui deve-se clicar em Assinar:\\n\\nO sistema direciona para a página de assinatura com o certificado digital,\\n\\ndevendo-se:\\n\\nClicar em assinar. Selecione o Certificado Digital a ser utilizado. Clique\\n\\nem Assinar.\\n\\nSe necessário utilize a opção “Atualizar tokens” caso tenha conectado\\n\\no certificado ao computador após a abertura desta tela, para\\n\\nrecarregar as opções de certificados disponíveis.\\n\\nMaterial elaborado pela SETIC/CIS\\n\\n8\\n\\nPODER JUDICIÁRIO TRIBUNAL REGIONAL DO TRABALHO Secretaria de Tecnologia de Informação e Comunicação Coordenadoria de Implantação de Sistemas\\n\\nRealizado esse procedimento é exibida a mensagem “Processo de'),\n",
       " Document(metadata={'filetype': 'application/pdf', 'filename': 'PJe Mídias Desktop - Envio de Perícias em MP4.pdf', 'page_number': 1.0, 'orig_elements': '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', 'source': 'PJe Mídias Desktop - Envio de Perícias em MP4.pdf'}, page_content='TRT04\\n\\nPJeMídias Desktop\\n\\nEnvio de Perícias em MP4\\n\\n1 - Cadastro de Peritos\\n\\n2 - Alterando a Senha\\n\\n3 - Instalação\\n\\n4 - Envio de vídeos\\n\\n5 - Erros e Soluções\\n\\n1\\n\\n1\\n\\n3\\n\\n5\\n\\n13\\n\\nPODER JUDICIÁRIO TRIBUNAL REGIONAL DO TRABALHO Secretaria de Tecnologia de Informação e Comunicação Coordenadoria de Implantação de Sistemas\\n\\n1 - Cadastro de Peritos\\n\\nPara poderem enviar e acessar vídeos no PJEMÍDIAS os peritos devem\\n\\nsolicitar o seu cadastramento junto ao TRT04, preenchendo o formulário de\\n\\nsolicitação de cadastramento disponibilizado pela Corregedoria.\\n\\nClique aqui para acessar o formulário\\n\\nApós o cadastramento no PJEMÍDIAS, você receberá um email da\\n\\nCorregedoria informando a realização do cadastro, com orientações.\\n\\nApós\\n\\no\\n\\nrecebimento\\n\\nda\\n\\nconfirmação\\n\\nde\\n\\nseu\\n\\ncadastro,\\n\\nacesse\\n\\nhttps://midias.pje.jus.br/midias/web/site/login e informe seu CPF no campo usuário e\\n\\nrealize em seguida a alteração da senha.\\n\\n2 - Alterando a Senha\\n\\nPara fazer a alteração da senha deve-se acessar o site Portal de audiência e\\n\\nclicar em “Esqueceu a senha?” Esta ação fará com que apareçam duas opções de\\n\\nusuário logo abaixo dos campos CPF e Senha.')]"
      ]
     },
     "execution_count": 10,
     "metadata": {},
     "output_type": "execute_result"
    }
   ],
   "source": [
    "retriever.invoke(\"pje\")"
   ]
  },
  {
   "cell_type": "code",
   "execution_count": 11,
   "metadata": {},
   "outputs": [],
   "source": [
    "from langchain_core.prompts import PromptTemplate\n",
    "\n",
    "prompt_rag_basic = (\n",
    "    \"You are an assistant for question-answering tasks. \"\n",
    "    \"Use the following pieces of retrieved context to answer the question. \"\n",
    "    \"If you don't know the answer, just say that you don't know. \"\n",
    "    \"Use three sentences maximum and keep the answer concise.\"\n",
    "    \"Question: {question} \"\n",
    "    \"Context: {context} \"\n",
    "    \"Answer: \"\n",
    ")\n",
    "\n",
    "prompt_rag_basic_lc = PromptTemplate.from_template(prompt_rag_basic)"
   ]
  },
  {
   "cell_type": "code",
   "execution_count": 12,
   "metadata": {},
   "outputs": [],
   "source": [
    "from langchain_google_genai import ChatGoogleGenerativeAI\n",
    "\n",
    "llm_gemini = ChatGoogleGenerativeAI(\n",
    "    model=\"gemini-1.5-flash-latest\",\n",
    "    temperature=0.5,\n",
    "    max_tokens=None,\n",
    "    timeout=None,\n",
    "    max_retries=500,\n",
    ")"
   ]
  },
  {
   "cell_type": "code",
   "execution_count": 13,
   "metadata": {},
   "outputs": [],
   "source": [
    "from langchain.schema import StrOutputParser\n",
    "from langchain_core.runnables import RunnablePassthrough\n",
    "\n",
    "context_docs_used = None\n",
    "\n",
    "def format_docs(docs):\n",
    "    # print(\"Documents retrieved used as context:\")\n",
    "    # for doc in docs:\n",
    "    #     print(f\"=============================== Filename: {doc.metadata['filename']}\")\n",
    "    #     print(doc.page_content)\n",
    "\n",
    "    global context_docs_used\n",
    "    context_docs_used = docs\n",
    "\n",
    "    return \"\\n\\n\".join(doc.page_content for doc in docs)\n",
    "\n",
    "\n",
    "rag_chain_1_basic = (\n",
    "    {\"context\": retriever | format_docs, \"question\": RunnablePassthrough()}\n",
    "    | prompt_rag_basic_lc\n",
    "    | llm_gemini\n",
    "    | StrOutputParser()\n",
    ")"
   ]
  },
  {
   "cell_type": "code",
   "execution_count": 14,
   "metadata": {},
   "outputs": [
    {
     "name": "stdout",
     "output_type": "stream",
     "text": [
      "================== AI response\n",
      "To access PJeMídias Desktop, you need to enter your CPF in the username field and your registered password. Once you log in, the system will direct you to the main screen.  You can then access the \"NovaPerícia / Prova\" option from the menu at the top left of the screen. \n",
      "\n"
     ]
    }
   ],
   "source": [
    "response = rag_chain_1_basic.invoke(\"como acessar o PJe?\")\n",
    "\n",
    "print(\"================== AI response\")\n",
    "print( response )"
   ]
  },
  {
   "cell_type": "code",
   "execution_count": 19,
   "metadata": {},
   "outputs": [],
   "source": [
    "from langchain.schema import AIMessage, HumanMessage\n",
    "\n",
    "def gr_rag_chain_1_basic(message, history):\n",
    "    response = rag_chain_1_basic.invoke(message)\n",
    "    \n",
    "    return response"
   ]
  },
  {
   "cell_type": "code",
   "execution_count": 20,
   "metadata": {},
   "outputs": [
    {
     "name": "stderr",
     "output_type": "stream",
     "text": [
      "/workspaces/llm-rag-evaluation-ragas/.venv/lib/python3.11/site-packages/gradio/http_server.py:119: ResourceWarning: unclosed <socket.socket fd=89, family=2, type=1, proto=0, laddr=('0.0.0.0', 0)>\n",
      "  s = socket.socket()\n",
      "ResourceWarning: Enable tracemalloc to get the object allocation traceback\n",
      "/workspaces/llm-rag-evaluation-ragas/.venv/lib/python3.11/site-packages/gradio/http_server.py:119: ResourceWarning: unclosed <socket.socket fd=90, family=2, type=1, proto=0, laddr=('0.0.0.0', 0)>\n",
      "  s = socket.socket()\n",
      "ResourceWarning: Enable tracemalloc to get the object allocation traceback\n"
     ]
    },
    {
     "name": "stdout",
     "output_type": "stream",
     "text": [
      "* Running on local URL:  http://127.0.0.1:7864\n",
      "* Running on public URL: https://4eb6abf01c65894bc8.gradio.live\n",
      "\n",
      "This share link expires in 72 hours. For free permanent hosting and GPU upgrades, run `gradio deploy` from the terminal in the working directory to deploy to Hugging Face Spaces (https://huggingface.co/spaces)\n"
     ]
    },
    {
     "data": {
      "text/html": [
       "<div><iframe src=\"https://4eb6abf01c65894bc8.gradio.live\" width=\"100%\" height=\"500\" allow=\"autoplay; camera; microphone; clipboard-read; clipboard-write;\" frameborder=\"0\" allowfullscreen></iframe></div>"
      ],
      "text/plain": [
       "<IPython.core.display.HTML object>"
      ]
     },
     "metadata": {},
     "output_type": "display_data"
    },
    {
     "data": {
      "text/plain": []
     },
     "execution_count": 20,
     "metadata": {},
     "output_type": "execute_result"
    },
    {
     "name": "stderr",
     "output_type": "stream",
     "text": [
      "/workspaces/llm-rag-evaluation-ragas/.venv/lib/python3.11/site-packages/starlette/templating.py:161: DeprecationWarning: The `name` is not the first parameter anymore. The first parameter should be the `Request` instance.\n",
      "Replace `TemplateResponse(name, {\"request\": request})` by `TemplateResponse(request, name)`.\n",
      "  warnings.warn(\n"
     ]
    }
   ],
   "source": [
    "import gradio as gr\n",
    "\n",
    "chat_ui = gr.ChatInterface(gr_rag_chain_1_basic, type=\"messages\")\n",
    "\n",
    "chat_ui.launch(share=True)"
   ]
  },
  {
   "cell_type": "code",
   "execution_count": null,
   "metadata": {},
   "outputs": [],
   "source": []
  },
  {
   "cell_type": "code",
   "execution_count": null,
   "metadata": {},
   "outputs": [],
   "source": []
  },
  {
   "cell_type": "code",
   "execution_count": null,
   "metadata": {},
   "outputs": [],
   "source": []
  },
  {
   "cell_type": "code",
   "execution_count": null,
   "metadata": {},
   "outputs": [],
   "source": [
    "from langchain.schema import AIMessage, HumanMessage\n",
    "\n",
    "def gr_rag_chain_1_basic(message, history):\n",
    "    history_langchain_format = []\n",
    "\n",
    "    for msg in history:\n",
    "        if msg['role'] == \"user\":\n",
    "            history_langchain_format.append(HumanMessage(content=msg['content']))\n",
    "        elif msg['role'] == \"assistant\":\n",
    "            history_langchain_format.append(AIMessage(content=msg['content']))\n",
    "    \n",
    "    history_langchain_format.append(HumanMessage(content=message))\n",
    "    \n",
    "    gpt_response = rag_chain_1_basic.invoke(history_langchain_format)\n",
    "    \n",
    "    return gpt_response.content"
   ]
  },
  {
   "cell_type": "code",
   "execution_count": null,
   "metadata": {},
   "outputs": [],
   "source": []
  }
 ],
 "metadata": {
  "kernelspec": {
   "display_name": "Python 3 (ipykernel)",
   "language": "python",
   "name": "python3"
  },
  "language_info": {
   "codemirror_mode": {
    "name": "ipython",
    "version": 3
   },
   "file_extension": ".py",
   "mimetype": "text/x-python",
   "name": "python",
   "nbconvert_exporter": "python",
   "pygments_lexer": "ipython3",
   "version": "3.11.2"
  }
 },
 "nbformat": 4,
 "nbformat_minor": 4
}
