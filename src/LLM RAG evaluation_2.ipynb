{
 "cells": [
  {
   "cell_type": "markdown",
   "metadata": {},
   "source": [
    "# RAG system evaluation"
   ]
  },
  {
   "cell_type": "code",
   "execution_count": 17,
   "metadata": {},
   "outputs": [
    {
     "data": {
      "text/plain": [
       "True"
      ]
     },
     "execution_count": 17,
     "metadata": {},
     "output_type": "execute_result"
    }
   ],
   "source": [
    "import os\n",
    "import pandas as pd\n",
    "\n",
    "from dotenv import load_dotenv\n",
    "\n",
    "load_dotenv()"
   ]
  },
  {
   "cell_type": "markdown",
   "metadata": {},
   "source": [
    "# Generate questions based in the documents\n",
    "\n",
    "This questions will be used to evaluate the system later."
   ]
  },
  {
   "cell_type": "markdown",
   "metadata": {},
   "source": [
    "## Opening files\n",
    "\n",
    "Unstructured is the best to open and clean pdf files. It also partition the file to better undestand its structure, but we dont use the partitions in this step."
   ]
  },
  {
   "cell_type": "code",
   "execution_count": 3,
   "metadata": {},
   "outputs": [
    {
     "name": "stdout",
     "output_type": "stream",
     "text": [
      "Opening file: Manual_de_utilização_do_PJe_sem_certificado_digital.pdf\n",
      "Opening file: processo_judicial_eletronico_grafica2.pdf\n",
      "Opening file: TRT04 - Guia para participação em audiências_sessões com a ferramenta Zoom.pdf\n",
      "Opening file: TRT04 - PJE 2.10.1 - Manual de autuação no  painel do procurador.pdf\n",
      "Opening file: guiapje-tribunal.pdf\n",
      "Opening file: guiapje-usuarios.pdf\n",
      "Opening file: Instalação do PJePortable v. 1.13.10 - para uso do PJe.pdf\n",
      "Opening file: PJe Mídias Desktop - Envio de Perícias em MP4.pdf\n",
      "Opening file: TRT04 - MANUAL PJE 2.10.1 - PAINEL DO ADVOGADO.pdf\n",
      "Opening file: Zoom - CDTI OAB.pdf\n",
      "Opening file: PJeMídias - Acesso à gravação de audiências ou perícias.pdf\n",
      "Opening file: TRT04 - Manual para advogados e peritos (cadastramento de dados bancários para créditos em processos do TRT04).pdf\n",
      "Opening file: PJeMídiasDesktop - Envio de Provas em MP4.pdf\n",
      "Opening file: PROCEDIMENTOS PARA ENVIO DE CÁLCULOS DO PJECALC NO PJE PARA ADVOGADOS.pdf\n",
      "Opening file: guiapje-advogados.pdf\n",
      "Opening file: Cadastramento inicial no PJe.pdf\n",
      "Opening file: MANUAL FUNCIONAMENTO DAS PROCURADORIAS NO PJE.pdf\n",
      "Opening file: Manual.pdf\n",
      "Opening file: PJE - Processo Judicial Eletrônico.pdf\n"
     ]
    },
    {
     "data": {
      "text/plain": [
       "19"
      ]
     },
     "execution_count": 3,
     "metadata": {},
     "output_type": "execute_result"
    }
   ],
   "source": [
    "from unstructured.partition.auto import partition\n",
    "\n",
    "folder_path = \"../docs\"\n",
    "\n",
    "path, dirs, files = next(os.walk(folder_path))\n",
    "        \n",
    "documents_all = []\n",
    "for file in files:\n",
    "    with open( os.path.join(path, file), 'rb') as f:\n",
    "        print(f'Opening file: {file}')\n",
    "        \n",
    "        # open file, clean, segment\n",
    "        elements = partition(file=f)\n",
    "        \n",
    "        doc = \"\\n\".join( [element.text for element in elements] )\n",
    "            \n",
    "        documents_all.append(doc)\n",
    "\n",
    "len( documents_all )"
   ]
  },
  {
   "cell_type": "code",
   "execution_count": 4,
   "metadata": {},
   "outputs": [],
   "source": [
    "from pydantic import BaseModel, Field\n",
    "\n",
    "class QuestionSchema(BaseModel):\n",
    "    question: str = Field(..., description=\"The actual question text.\")\n",
    "\n",
    "class QuestionListSchema(BaseModel):\n",
    "    questionList: list[QuestionSchema] = Field(..., description=\"A list of Question\")"
   ]
  },
  {
   "cell_type": "code",
   "execution_count": 10,
   "metadata": {},
   "outputs": [],
   "source": [
    "from langchain_core.prompts import PromptTemplate\n",
    "\n",
    "prompt_generate_questions = (\n",
    "    \"I'm creating a RAG system that works with knowledge base from a company.\\n\"\n",
    "    \"You are expert in RAG systems.\\n\"\n",
    "    \"I need you to create a set of questions based in the document provided.\\n\"\n",
    "    \"This questions will be used to evaluate the system later.\\n\"\n",
    "    \"The questions should be similar to what a employee would ask in the system.\\n\"\n",
    "    \"This is very important for the future of the company and my carreer!\\n\"\n",
    "    \"Output format: You should output in JSON format considering the provided schema.\\n\"\n",
    "    \"QUANTITY OF QUESTIONS: {QUANTITY}\\n\"\n",
    "    \"DOCUMENT:\\n\\n {DOCUMENT}\\n\\n\"\n",
    ")\n",
    "\n",
    "prompt_generate_questions_lc = PromptTemplate.from_template(prompt_generate_questions)"
   ]
  },
  {
   "cell_type": "code",
   "execution_count": 11,
   "metadata": {},
   "outputs": [],
   "source": [
    "from langchain_openai import ChatOpenAI\n",
    "\n",
    "llm_openai = ChatOpenAI(\n",
    "    model=\"gpt-4o-mini\",\n",
    "    temperature=0.5,\n",
    "    max_tokens=None,\n",
    "    timeout=None,\n",
    "    max_retries=500,\n",
    "    api_key=os.getenv(\"OPENAI_API_KEY\")\n",
    ").with_structured_output(QuestionListSchema)"
   ]
  },
  {
   "cell_type": "code",
   "execution_count": 12,
   "metadata": {},
   "outputs": [],
   "source": [
    "from langchain.schema import StrOutputParser\n",
    "from langchain_core.runnables import RunnablePassthrough\n",
    "\n",
    "chain_generate_questions = (\n",
    "    prompt_generate_questions_lc\n",
    "    | llm_openai\n",
    ")"
   ]
  },
  {
   "cell_type": "code",
   "execution_count": 13,
   "metadata": {},
   "outputs": [],
   "source": [
    "responses = []\n",
    "for doc in documents_all:\n",
    "    response = chain_generate_questions.invoke({\n",
    "        \"DOCUMENT\": doc,\n",
    "        \"QUANTITY\": 5\n",
    "    })\n",
    "    responses.append(response)"
   ]
  },
  {
   "cell_type": "code",
   "execution_count": 14,
   "metadata": {},
   "outputs": [
    {
     "data": {
      "text/plain": [
       "95"
      ]
     },
     "execution_count": 14,
     "metadata": {},
     "output_type": "execute_result"
    }
   ],
   "source": [
    "questions = []\n",
    "for response in responses:\n",
    "    for question in response.questionList:\n",
    "        q = {\"question\": question.question}\n",
    "        questions.append(q)\n",
    "len(questions)"
   ]
  },
  {
   "cell_type": "code",
   "execution_count": 16,
   "metadata": {},
   "outputs": [
    {
     "data": {
      "text/plain": [
       "[{'question': 'Como posso acessar o PJe sem um certificado digital?'},\n",
       " {'question': 'Quais são as restrições para usuários que acessam o PJe sem certificado digital?'},\n",
       " {'question': 'Quais documentos são necessários para cadastrar um novo usuário sem certificado digital?'},\n",
       " {'question': 'Como um usuário existente com certificado digital pode criar uma senha de acesso ao PJe?'},\n",
       " {'question': 'Quais procedimentos devem ser seguidos pela secretaria do tribunal para cadastrar um usuário no PJe?'},\n",
       " {'question': 'Qual é o principal objetivo do sistema Processo Judicial Eletrônico (PJe)?'},\n",
       " {'question': 'Como o PJe pode reduzir o tempo necessário para chegar a uma decisão judicial?'},\n",
       " {'question': 'Quais são as principais mudanças na gestão dos tribunais com a implementação do PJe?'},\n",
       " {'question': 'De que maneira o PJe melhora a segurança e a liberdade dos usuários no sistema?'},\n",
       " {'question': 'Quais são os requisitos de infraestrutura tecnológica necessários para a instalação do PJe?'},\n",
       " {'question': 'Quais são os requisitos para participar de uma audiência por videoconferência no Zoom?'},\n",
       " {'question': 'Como posso acessar o link para a audiência ou sessão no Zoom?'},\n",
       " {'question': 'O que devo fazer se eu precisar alterar meu nome antes de entrar na audiência?'},\n",
       " {'question': 'Quais são as recomendações para participar de audiências usando o celular?'},\n",
       " {'question': 'Como devo me comportar e me preparar para uma audiência por videoconferência?'},\n",
       " {'question': 'Como posso protocolar um novo processo no PJe KZ?'},\n",
       " {'question': 'Quais informações são necessárias para cadastrar as partes no processo?'},\n",
       " {'question': 'O que devo fazer se o sistema não permitir anexar documentos ao protocolo?'},\n",
       " {'question': 'Como posso visualizar todos os processos que não foram finalizados no protocolo?'},\n",
       " {'question': 'Quais são as opções disponíveis na aba de características do processo?'},\n",
       " {'question': 'Quais são os requisitos mínimos para acessar o sistema PJe?'},\n",
       " {'question': 'Como posso cadastrar um novo representante no sistema PJe?'},\n",
       " {'question': 'O que devo fazer se não encontrar o órgão judicial que quero incluir no polo passivo?'},\n",
       " {'question': 'Como posso responder a uma intimação recebida no PJe?'},\n",
       " {'question': 'Quais passos devo seguir para criar um assistente no sistema PJe?'},\n",
       " {'question': 'Quais são os requisitos mínimos para acessar o sistema PJe?'},\n",
       " {'question': 'Como posso me cadastrar no sistema PJe pela primeira vez?'},\n",
       " {'question': 'O que devo fazer para realizar um peticionamento inicial no PJe?'},\n",
       " {'question': 'Como posso verificar minhas intimações pendentes no sistema?'},\n",
       " {'question': 'Quais são os passos para responder a uma intimação no PJe?'},\n",
       " {'question': 'Como posso baixar o PJePortable?'},\n",
       " {'question': 'Quais são os requisitos para usar o PJePortable?'},\n",
       " {'question': 'O que devo fazer antes de instalar o PJePortable?'},\n",
       " {'question': 'Como posso resolver problemas de instalação do PJePortable?'},\n",
       " {'question': 'O que fazer se o arquivo PjePortable-1.13.10.exe não aparecer na tela após o download?'},\n",
       " {'question': 'Como faço para me cadastrar como perito no PJEMÍDIAS?'},\n",
       " {'question': 'O que devo fazer se eu esquecer minha senha de acesso ao PJeMídias?'},\n",
       " {'question': 'Quais são os requisitos para instalar o PJeMídias Desktop?'},\n",
       " {'question': 'Como posso enviar vídeos pelo PJeMídias Desktop?'},\n",
       " {'question': \"O que fazer se eu receber a mensagem 'Ação Cancelada pelo Usuário' após assinar um vídeo?\"},\n",
       " {'question': 'Como posso pesquisar processos pelo nome da parte no PJe?'},\n",
       " {'question': 'O que foi alterado na tela de peticionamento na versão 2.10.1 do PJe?'},\n",
       " {'question': 'Quais correções foram feitas no filtro por Órgão Julgador na Consulta Processual?'},\n",
       " {'question': 'Por que não consigo enviar e-mails para processos não protocolados?'},\n",
       " {'question': 'O que devo fazer se o valor da causa for inferior a 40 salários mínimos em um processo com ente público?'},\n",
       " {'question': 'Como posso acessar a sala de audiência no Zoom sem instalar o cliente?'},\n",
       " {'question': 'Quais são as etapas para configurar meu nome de exibição no Zoom antes da audiência?'},\n",
       " {'question': 'O que devo fazer se meu microfone não estiver funcionando durante a audiência?'},\n",
       " {'question': 'Quais são as orientações sobre o uso de planos de fundo durante as audiências no Zoom?'},\n",
       " {'question': 'Como posso modificar o layout da tela durante uma sessão no Zoom?'},\n",
       " {'question': 'Como posso acessar as gravações de audiências no TRT4?'},\n",
       " {'question': 'O que é necessário para se cadastrar no sistema PJe Mídias?'},\n",
       " {'question': 'Como faço para recuperar minha senha no Escritório Digital?'},\n",
       " {'question': 'Quais informações preciso para pesquisar vídeos de audiências no PJe Mídias?'},\n",
       " {'question': 'O que acontece após eu me cadastrar no Escritório Digital?'},\n",
       " {'question': 'Como posso cadastrar meus dados bancários no sistema do TRT04?'},\n",
       " {'question': 'Quais informações são necessárias para o cadastro de dados bancários?'},\n",
       " {'question': 'O que devo fazer se a conta bancária estiver vinculada a mais de um CPF?'},\n",
       " {'question': 'É possível utilizar o mesmo cadastro para contas do Banco do Brasil e da Caixa Econômica Federal?'},\n",
       " {'question': 'Como posso acessar o relatório de alvarás pagos no sistema?'},\n",
       " {'question': 'Como posso me cadastrar no PJe Mídias?'},\n",
       " {'question': 'Quais formatos de arquivo são aceitos pelo PJe Mídias Desktop?'},\n",
       " {'question': 'O que devo fazer se encontrar o erro CKR_DEVICE_ERROR ao assinar mídias?'},\n",
       " {'question': 'Como posso sincronizar um vídeo no PJe Mídias após a assinatura?'},\n",
       " {'question': 'O que devo fazer se o sistema não permitir a remessa de vídeos sigilosos?'},\n",
       " {'question': 'Como posso exportar um cálculo no PJe-Calc?'},\n",
       " {'question': 'Quais documentos fiscais são necessários para enviar um cálculo ao PJe?'},\n",
       " {'question': 'O que devo fazer se encontrar caracteres especiais nos nomes das partes no PJe?'},\n",
       " {'question': 'Como adicionar um anexo em PDF a uma petição no sistema?'},\n",
       " {'question': 'O que devo verificar antes de enviar um cálculo em PJC?'},\n",
       " {'question': 'Quais são os requisitos mínimos para acessar o sistema PJe?'},\n",
       " {'question': 'Como posso realizar o cadastramento no sistema PJe?'},\n",
       " {'question': 'O que devo fazer para peticionar um novo processo no PJe?'},\n",
       " {'question': 'Como posso visualizar e responder a intimações no sistema?'},\n",
       " {'question': 'Quais são os passos para criar um assistente no sistema PJe?'},\n",
       " {'question': 'Como posso realizar meu cadastramento inicial no PJe?'},\n",
       " {'question': 'O que devo fazer se sou procurador público e preciso me cadastrar no PJe?'},\n",
       " {'question': 'Quais são os passos para peritos já cadastrados no CPTEC-TRT4 acessarem o PJe?'},\n",
       " {'question': 'Como posso solicitar o cadastramento de uma nova procuradoria no PJe?'},\n",
       " {'question': 'Onde posso encontrar os contatos das unidades judiciárias para obter suporte?'},\n",
       " {'question': 'Como posso acessar todos os processos da procuradoria que represento?'},\n",
       " {'question': 'Quais são os passos para cadastrar um novo procurador no sistema PJe?'},\n",
       " {'question': 'O que devo fazer se não estou visualizando as intimações dos processos da procuradoria?'},\n",
       " {'question': 'Como posso protocolar um novo processo no sistema PJe?'},\n",
       " {'question': 'Quais são as diferenças entre os perfis de procurador gestor e assistente de procuradoria?'},\n",
       " {'question': 'Como posso adicionar uma defensoria representante de uma parte no PJe?'},\n",
       " {'question': 'Quais são as etapas para adicionar uma procuradoria representando uma parte no sistema?'},\n",
       " {'question': 'Como posso visualizar os detalhes de um processo em que há uma defensoria e uma procuradoria?'},\n",
       " {'question': 'Quais são as permissões de um representante processual configurado como gestor?'},\n",
       " {'question': 'Como posso alterar os dados de uma procuradoria no sistema?'},\n",
       " {'question': 'Como posso habilitar um advogado inativo em um processo no PJe?'},\n",
       " {'question': 'Quais são as novidades na versão 2.10.1 do PJe para advogados?'},\n",
       " {'question': 'Como posso visualizar os processos arquivados no meu painel do PJe?'},\n",
       " {'question': 'O que devo fazer se não conseguir baixar documentos filtrados no PJe?'},\n",
       " {'question': 'Como posso entrar em contato com a unidade judiciária em caso de problemas no PJe?'}]"
      ]
     },
     "execution_count": 16,
     "metadata": {},
     "output_type": "execute_result"
    }
   ],
   "source": [
    "questions"
   ]
  },
  {
   "cell_type": "code",
   "execution_count": 18,
   "metadata": {},
   "outputs": [
    {
     "name": "stdout",
     "output_type": "stream",
     "text": [
      "<class 'pandas.core.frame.DataFrame'>\n",
      "RangeIndex: 95 entries, 0 to 94\n",
      "Data columns (total 1 columns):\n",
      " #   Column    Non-Null Count  Dtype \n",
      "---  ------    --------------  ----- \n",
      " 0   question  95 non-null     object\n",
      "dtypes: object(1)\n",
      "memory usage: 892.0+ bytes\n"
     ]
    }
   ],
   "source": [
    "df_questions = pd.DataFrame(questions)\n",
    "df_questions.info()"
   ]
  },
  {
   "cell_type": "code",
   "execution_count": 19,
   "metadata": {},
   "outputs": [
    {
     "data": {
      "text/html": [
       "<div>\n",
       "<style scoped>\n",
       "    .dataframe tbody tr th:only-of-type {\n",
       "        vertical-align: middle;\n",
       "    }\n",
       "\n",
       "    .dataframe tbody tr th {\n",
       "        vertical-align: top;\n",
       "    }\n",
       "\n",
       "    .dataframe thead th {\n",
       "        text-align: right;\n",
       "    }\n",
       "</style>\n",
       "<table border=\"1\" class=\"dataframe\">\n",
       "  <thead>\n",
       "    <tr style=\"text-align: right;\">\n",
       "      <th></th>\n",
       "      <th>question</th>\n",
       "    </tr>\n",
       "  </thead>\n",
       "  <tbody>\n",
       "    <tr>\n",
       "      <th>0</th>\n",
       "      <td>Como posso acessar o PJe sem um certificado di...</td>\n",
       "    </tr>\n",
       "    <tr>\n",
       "      <th>1</th>\n",
       "      <td>Quais são as restrições para usuários que aces...</td>\n",
       "    </tr>\n",
       "    <tr>\n",
       "      <th>2</th>\n",
       "      <td>Quais documentos são necessários para cadastra...</td>\n",
       "    </tr>\n",
       "    <tr>\n",
       "      <th>3</th>\n",
       "      <td>Como um usuário existente com certificado digi...</td>\n",
       "    </tr>\n",
       "    <tr>\n",
       "      <th>4</th>\n",
       "      <td>Quais procedimentos devem ser seguidos pela se...</td>\n",
       "    </tr>\n",
       "  </tbody>\n",
       "</table>\n",
       "</div>"
      ],
      "text/plain": [
       "                                            question\n",
       "0  Como posso acessar o PJe sem um certificado di...\n",
       "1  Quais são as restrições para usuários que aces...\n",
       "2  Quais documentos são necessários para cadastra...\n",
       "3  Como um usuário existente com certificado digi...\n",
       "4  Quais procedimentos devem ser seguidos pela se..."
      ]
     },
     "execution_count": 19,
     "metadata": {},
     "output_type": "execute_result"
    }
   ],
   "source": [
    "df_questions.head()"
   ]
  },
  {
   "cell_type": "code",
   "execution_count": 21,
   "metadata": {},
   "outputs": [],
   "source": [
    "df_questions.to_csv(\"df_questions.csv\", index=False)"
   ]
  },
  {
   "cell_type": "markdown",
   "metadata": {},
   "source": [
    "# File ingestion and chunking\n",
    "\n",
    "\n",
    "- load pdf with pymuPDFLoader\n",
    "    - partition \n",
    "- load with unstructured\n",
    "    - use partion from unstrutured\n",
    "- embbed\n",
    "    - gemini\n",
    "    - gpt4all\n",
    "    - allmini (multilingual)\n",
    "- create a idnex for each one"
   ]
  },
  {
   "cell_type": "markdown",
   "metadata": {},
   "source": [
    "## Document loading"
   ]
  },
  {
   "cell_type": "markdown",
   "metadata": {},
   "source": [
    "### Simple loading"
   ]
  },
  {
   "cell_type": "code",
   "execution_count": 24,
   "metadata": {},
   "outputs": [
    {
     "name": "stdout",
     "output_type": "stream",
     "text": [
      "Opening file: ../docs/Manual_de_utilização_do_PJe_sem_certificado_digital.pdf\n",
      "Opening file: ../docs/processo_judicial_eletronico_grafica2.pdf\n",
      "Opening file: ../docs/TRT04 - Guia para participação em audiências_sessões com a ferramenta Zoom.pdf\n",
      "Opening file: ../docs/TRT04 - PJE 2.10.1 - Manual de autuação no  painel do procurador.pdf\n",
      "Opening file: ../docs/guiapje-tribunal.pdf\n",
      "Opening file: ../docs/guiapje-usuarios.pdf\n",
      "Opening file: ../docs/Instalação do PJePortable v. 1.13.10 - para uso do PJe.pdf\n",
      "Opening file: ../docs/PJe Mídias Desktop - Envio de Perícias em MP4.pdf\n",
      "Opening file: ../docs/TRT04 - MANUAL PJE 2.10.1 - PAINEL DO ADVOGADO.pdf\n"
     ]
    },
    {
     "name": "stderr",
     "output_type": "stream",
     "text": [
      "/workspaces/llm-rag-evaluation/.venv/lib/python3.11/site-packages/langchain_community/document_loaders/parsers/pdf.py:299: UserWarning: Warning: Empty content on page 22 of document ../docs/processo_judicial_eletronico_grafica2.pdf\n",
      "  warnings.warn(\n",
      "/workspaces/llm-rag-evaluation/.venv/lib/python3.11/site-packages/langchain_community/document_loaders/parsers/pdf.py:299: UserWarning: Warning: Empty content on page 3 of document ../docs/Zoom - CDTI OAB.pdf\n",
      "  warnings.warn(\n",
      "/workspaces/llm-rag-evaluation/.venv/lib/python3.11/site-packages/langchain_community/document_loaders/parsers/pdf.py:299: UserWarning: Warning: Empty content on page 4 of document ../docs/Zoom - CDTI OAB.pdf\n",
      "  warnings.warn(\n",
      "/workspaces/llm-rag-evaluation/.venv/lib/python3.11/site-packages/langchain_community/document_loaders/parsers/pdf.py:299: UserWarning: Warning: Empty content on page 5 of document ../docs/Zoom - CDTI OAB.pdf\n",
      "  warnings.warn(\n",
      "/workspaces/llm-rag-evaluation/.venv/lib/python3.11/site-packages/langchain_community/document_loaders/parsers/pdf.py:299: UserWarning: Warning: Empty content on page 6 of document ../docs/Zoom - CDTI OAB.pdf\n",
      "  warnings.warn(\n",
      "/workspaces/llm-rag-evaluation/.venv/lib/python3.11/site-packages/langchain_community/document_loaders/parsers/pdf.py:299: UserWarning: Warning: Empty content on page 7 of document ../docs/Zoom - CDTI OAB.pdf\n",
      "  warnings.warn(\n",
      "/workspaces/llm-rag-evaluation/.venv/lib/python3.11/site-packages/langchain_community/document_loaders/parsers/pdf.py:299: UserWarning: Warning: Empty content on page 8 of document ../docs/Zoom - CDTI OAB.pdf\n",
      "  warnings.warn(\n",
      "/workspaces/llm-rag-evaluation/.venv/lib/python3.11/site-packages/langchain_community/document_loaders/parsers/pdf.py:299: UserWarning: Warning: Empty content on page 9 of document ../docs/Zoom - CDTI OAB.pdf\n",
      "  warnings.warn(\n",
      "/workspaces/llm-rag-evaluation/.venv/lib/python3.11/site-packages/langchain_community/document_loaders/parsers/pdf.py:299: UserWarning: Warning: Empty content on page 10 of document ../docs/Zoom - CDTI OAB.pdf\n",
      "  warnings.warn(\n",
      "/workspaces/llm-rag-evaluation/.venv/lib/python3.11/site-packages/langchain_community/document_loaders/parsers/pdf.py:299: UserWarning: Warning: Empty content on page 11 of document ../docs/Zoom - CDTI OAB.pdf\n",
      "  warnings.warn(\n",
      "/workspaces/llm-rag-evaluation/.venv/lib/python3.11/site-packages/langchain_community/document_loaders/parsers/pdf.py:299: UserWarning: Warning: Empty content on page 12 of document ../docs/Zoom - CDTI OAB.pdf\n",
      "  warnings.warn(\n",
      "/workspaces/llm-rag-evaluation/.venv/lib/python3.11/site-packages/langchain_community/document_loaders/parsers/pdf.py:299: UserWarning: Warning: Empty content on page 13 of document ../docs/Zoom - CDTI OAB.pdf\n",
      "  warnings.warn(\n",
      "/workspaces/llm-rag-evaluation/.venv/lib/python3.11/site-packages/langchain_community/document_loaders/parsers/pdf.py:299: UserWarning: Warning: Empty content on page 17 of document ../docs/Zoom - CDTI OAB.pdf\n",
      "  warnings.warn(\n",
      "/workspaces/llm-rag-evaluation/.venv/lib/python3.11/site-packages/langchain_community/document_loaders/parsers/pdf.py:299: UserWarning: Warning: Empty content on page 18 of document ../docs/Zoom - CDTI OAB.pdf\n",
      "  warnings.warn(\n",
      "/workspaces/llm-rag-evaluation/.venv/lib/python3.11/site-packages/langchain_community/document_loaders/parsers/pdf.py:299: UserWarning: Warning: Empty content on page 19 of document ../docs/Zoom - CDTI OAB.pdf\n",
      "  warnings.warn(\n",
      "/workspaces/llm-rag-evaluation/.venv/lib/python3.11/site-packages/langchain_community/document_loaders/parsers/pdf.py:299: UserWarning: Warning: Empty content on page 20 of document ../docs/Zoom - CDTI OAB.pdf\n",
      "  warnings.warn(\n",
      "/workspaces/llm-rag-evaluation/.venv/lib/python3.11/site-packages/langchain_community/document_loaders/parsers/pdf.py:299: UserWarning: Warning: Empty content on page 22 of document ../docs/Zoom - CDTI OAB.pdf\n",
      "  warnings.warn(\n",
      "/workspaces/llm-rag-evaluation/.venv/lib/python3.11/site-packages/langchain_community/document_loaders/parsers/pdf.py:299: UserWarning: Warning: Empty content on page 25 of document ../docs/Zoom - CDTI OAB.pdf\n",
      "  warnings.warn(\n",
      "/workspaces/llm-rag-evaluation/.venv/lib/python3.11/site-packages/langchain_community/document_loaders/parsers/pdf.py:299: UserWarning: Warning: Empty content on page 26 of document ../docs/Zoom - CDTI OAB.pdf\n",
      "  warnings.warn(\n",
      "/workspaces/llm-rag-evaluation/.venv/lib/python3.11/site-packages/langchain_community/document_loaders/parsers/pdf.py:299: UserWarning: Warning: Empty content on page 27 of document ../docs/Zoom - CDTI OAB.pdf\n",
      "  warnings.warn(\n",
      "/workspaces/llm-rag-evaluation/.venv/lib/python3.11/site-packages/langchain_community/document_loaders/parsers/pdf.py:299: UserWarning: Warning: Empty content on page 41 of document ../docs/Zoom - CDTI OAB.pdf\n",
      "  warnings.warn(\n",
      "/workspaces/llm-rag-evaluation/.venv/lib/python3.11/site-packages/langchain_community/document_loaders/parsers/pdf.py:299: UserWarning: Warning: Empty content on page 42 of document ../docs/Zoom - CDTI OAB.pdf\n",
      "  warnings.warn(\n"
     ]
    },
    {
     "name": "stdout",
     "output_type": "stream",
     "text": [
      "Opening file: ../docs/Zoom - CDTI OAB.pdf\n",
      "Opening file: ../docs/PJeMídias - Acesso à gravação de audiências ou perícias.pdf\n",
      "Opening file: ../docs/TRT04 - Manual para advogados e peritos (cadastramento de dados bancários para créditos em processos do TRT04).pdf\n",
      "Opening file: ../docs/PJeMídiasDesktop - Envio de Provas em MP4.pdf\n",
      "Opening file: ../docs/PROCEDIMENTOS PARA ENVIO DE CÁLCULOS DO PJECALC NO PJE PARA ADVOGADOS.pdf\n",
      "Opening file: ../docs/guiapje-advogados.pdf\n",
      "Opening file: ../docs/Cadastramento inicial no PJe.pdf\n",
      "Opening file: ../docs/MANUAL FUNCIONAMENTO DAS PROCURADORIAS NO PJE.pdf\n",
      "Opening file: ../docs/Manual.pdf\n",
      "Opening file: ../docs/PJE - Processo Judicial Eletrônico.pdf\n"
     ]
    },
    {
     "data": {
      "text/plain": [
       "19"
      ]
     },
     "execution_count": 24,
     "metadata": {},
     "output_type": "execute_result"
    }
   ],
   "source": [
    "from langchain.document_loaders import PyMuPDFLoader\n",
    "\n",
    "folder_path = \"../docs\"\n",
    "\n",
    "path, dirs, files = next(os.walk(folder_path))\n",
    "        \n",
    "documents_all = []\n",
    "for file in files:\n",
    "    file_path = os.path.join(path, file)\n",
    "    print(f'Opening file: {file_path}')\n",
    "    \n",
    "    loader = PyMuPDFLoader(file_path)\n",
    "    documents = loader.load()\n",
    "\n",
    "    document = \"\\n\".join( [doc.page_content for doc in documents] )\n",
    "    \n",
    "    documents_all.append(document)\n",
    "\n",
    "len(documents_all)"
   ]
  },
  {
   "cell_type": "markdown",
   "metadata": {},
   "source": [
    "### Simple chunking\n",
    "\n",
    "Just for clarification, below is given examples of chunk_size."
   ]
  },
  {
   "cell_type": "code",
   "execution_count": 28,
   "metadata": {},
   "outputs": [
    {
     "name": "stdout",
     "output_type": "stream",
     "text": [
      "Characters count: 997\n"
     ]
    }
   ],
   "source": [
    "text = \"\"\"\n",
    "Guia\n",
    "do\n",
    "Rápido\n",
    "  Pendentes de ciência ou de seu registro: conjunto de atos de comunicação em relação ao qual ainda \n",
    "não há registro de ciência pelo destinatário, independentemente do meio de intimação utilizado. Quando \n",
    "se tratar de citação ou notificação eletrônica na forma da Lei n.º 11.419/2006, é incluída a informação do \n",
    "prazo máximo para ciência pelo destinatário, após o que ocorrerá a ciência ficta. O ícone “lupa vermelha” \n",
    "permite que o destinatário tome ciência do ato. O ícone de resposta levará à ciência e a uma página em que \n",
    "a resposta pode ser elaborada.\n",
    "  Ciência dada pelo destinatário direto ou indireto e dentro do prazo: conjunto de atos de comu­\n",
    "nicação em relação ao qual houve ciência pelo destinatário ou por quem o represente, independentemente \n",
    "do meio de intimação utilizado, e cujo prazo ainda está em curso. Caso o ato não tenha prazo para resposta, \n",
    "será exibido no agrupador “Sem prazo”. O prazo limite provável é exibido no canto inferior direito, assim como \n",
    "\"\"\"\n",
    "\n",
    "print(f\"Characters count: {len(text)}\")"
   ]
  },
  {
   "cell_type": "code",
   "execution_count": 29,
   "metadata": {},
   "outputs": [
    {
     "name": "stdout",
     "output_type": "stream",
     "text": [
      "Characters count: 1780\n"
     ]
    }
   ],
   "source": [
    "text = \"\"\"\n",
    "\n",
    "Guia\n",
    "do\n",
    "Rápido\n",
    "  Pendentes de ciência ou de seu registro: conjunto de atos de comunicação em relação ao qual ainda \n",
    "não há registro de ciência pelo destinatário, independentemente do meio de intimação utilizado. Quando \n",
    "se tratar de citação ou notificação eletrônica na forma da Lei n.º 11.419/2006, é incluída a informação do \n",
    "prazo máximo para ciência pelo destinatário, após o que ocorrerá a ciência ficta. O ícone “lupa vermelha” \n",
    "permite que o destinatário tome ciência do ato. O ícone de resposta levará à ciência e a uma página em que \n",
    "a resposta pode ser elaborada.\n",
    "  Ciência dada pelo destinatário direto ou indireto e dentro do prazo: conjunto de atos de comu­\n",
    "nicação em relação ao qual houve ciência pelo destinatário ou por quem o represente, independentemente \n",
    "do meio de intimação utilizado, e cujo prazo ainda está em curso. Caso o ato não tenha prazo para resposta, \n",
    "será exibido no agrupador “Sem prazo”. O prazo limite provável é exibido no canto inferior direito, assim como \n",
    "a informação do responsável pela ciência.\n",
    "  Ciência dada pelo PJe e dentro do prazo:  conjunto de atos de comunicação em relação aos quais \n",
    "houve ciência ficta por decurso do prazo de graça da Lei n.º 11.419/2006, nos casos de intimação eletrônica, \n",
    "e cujo prazo ainda está em curso.\n",
    "  Cujo prazo findou nos últimos 10 dias: conjunto de atos de comunicação cujo prazo expirou sem \n",
    "resposta nos últimos 10 dias.\n",
    "  Sem prazo:  conjunto de atos de comunicação em relação ao qual houve ciência pelo destinatário ou \n",
    "por quem o represente ou ciência ficta, independentemente do meio de intimação utilizado, e que não têm \n",
    "prazo para resposta.\n",
    "  Respondidos nos últimos 10 dias: conjunto de atos de comunicação que foram respondidos pelo \n",
    "intimado nos últimos 10 dias.\n",
    "www.cnj.jus.br\n",
    "15\n",
    "\n",
    "\"\"\"\n",
    "\n",
    "print(f\"Characters count: {len(text)}\")"
   ]
  },
  {
   "cell_type": "code",
   "execution_count": null,
   "metadata": {},
   "outputs": [],
   "source": [
    "from langchain_text_splitters import CharacterTextSplitter\n",
    "\n",
    "text_splitter = CharacterTextSplitter(\n",
    "    separator=\"\\n\\n\",\n",
    "    chunk_size=1000,\n",
    "    chunk_overlap=200,\n",
    "    length_function=len,\n",
    "    is_separator_regex=False,\n",
    ")\n",
    "texts = text_splitter.create_documents([state_of_the_union])\n",
    "print(texts[0])"
   ]
  },
  {
   "cell_type": "code",
   "execution_count": null,
   "metadata": {},
   "outputs": [],
   "source": []
  },
  {
   "cell_type": "code",
   "execution_count": null,
   "metadata": {},
   "outputs": [],
   "source": []
  }
 ],
 "metadata": {
  "kernelspec": {
   "display_name": ".venv",
   "language": "python",
   "name": "python3"
  },
  "language_info": {
   "codemirror_mode": {
    "name": "ipython",
    "version": 3
   },
   "file_extension": ".py",
   "mimetype": "text/x-python",
   "name": "python",
   "nbconvert_exporter": "python",
   "pygments_lexer": "ipython3",
   "version": "3.11.10"
  }
 },
 "nbformat": 4,
 "nbformat_minor": 4
}
