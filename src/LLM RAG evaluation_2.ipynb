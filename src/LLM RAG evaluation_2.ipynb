{
 "cells": [
  {
   "cell_type": "markdown",
   "metadata": {},
   "source": [
    "# RAG system evaluation"
   ]
  },
  {
   "cell_type": "code",
   "execution_count": 17,
   "metadata": {},
   "outputs": [
    {
     "data": {
      "text/plain": [
       "True"
      ]
     },
     "execution_count": 17,
     "metadata": {},
     "output_type": "execute_result"
    }
   ],
   "source": [
    "import os\n",
    "import pandas as pd\n",
    "\n",
    "from dotenv import load_dotenv\n",
    "\n",
    "load_dotenv()"
   ]
  },
  {
   "cell_type": "markdown",
   "metadata": {},
   "source": [
    "# Generate questions based in the documents\n",
    "\n",
    "This questions will be used to evaluate the system later."
   ]
  },
  {
   "cell_type": "markdown",
   "metadata": {},
   "source": [
    "## Opening files\n",
    "\n",
    "Unstructured is the best to open and clean pdf files. It also partition the file to better undestand its structure, but we dont use the partitions in this step."
   ]
  },
  {
   "cell_type": "code",
   "execution_count": 3,
   "metadata": {},
   "outputs": [
    {
     "name": "stdout",
     "output_type": "stream",
     "text": [
      "Opening file: Manual_de_utilização_do_PJe_sem_certificado_digital.pdf\n",
      "Opening file: processo_judicial_eletronico_grafica2.pdf\n",
      "Opening file: TRT04 - Guia para participação em audiências_sessões com a ferramenta Zoom.pdf\n",
      "Opening file: TRT04 - PJE 2.10.1 - Manual de autuação no  painel do procurador.pdf\n",
      "Opening file: guiapje-tribunal.pdf\n",
      "Opening file: guiapje-usuarios.pdf\n",
      "Opening file: Instalação do PJePortable v. 1.13.10 - para uso do PJe.pdf\n",
      "Opening file: PJe Mídias Desktop - Envio de Perícias em MP4.pdf\n",
      "Opening file: TRT04 - MANUAL PJE 2.10.1 - PAINEL DO ADVOGADO.pdf\n",
      "Opening file: Zoom - CDTI OAB.pdf\n",
      "Opening file: PJeMídias - Acesso à gravação de audiências ou perícias.pdf\n",
      "Opening file: TRT04 - Manual para advogados e peritos (cadastramento de dados bancários para créditos em processos do TRT04).pdf\n",
      "Opening file: PJeMídiasDesktop - Envio de Provas em MP4.pdf\n",
      "Opening file: PROCEDIMENTOS PARA ENVIO DE CÁLCULOS DO PJECALC NO PJE PARA ADVOGADOS.pdf\n",
      "Opening file: guiapje-advogados.pdf\n",
      "Opening file: Cadastramento inicial no PJe.pdf\n",
      "Opening file: MANUAL FUNCIONAMENTO DAS PROCURADORIAS NO PJE.pdf\n",
      "Opening file: Manual.pdf\n",
      "Opening file: PJE - Processo Judicial Eletrônico.pdf\n"
     ]
    },
    {
     "data": {
      "text/plain": [
       "19"
      ]
     },
     "execution_count": 3,
     "metadata": {},
     "output_type": "execute_result"
    }
   ],
   "source": [
    "from unstructured.partition.auto import partition\n",
    "\n",
    "folder_path = \"../docs\"\n",
    "\n",
    "path, dirs, files = next(os.walk(folder_path))\n",
    "        \n",
    "documents_all = []\n",
    "for file in files:\n",
    "    with open( os.path.join(path, file), 'rb') as f:\n",
    "        print(f'Opening file: {file}')\n",
    "        \n",
    "        # open file, clean, segment\n",
    "        elements = partition(file=f)\n",
    "        \n",
    "        doc = \"\\n\".join( [element.text for element in elements] )\n",
    "            \n",
    "        documents_all.append(doc)\n",
    "\n",
    "len( documents_all )"
   ]
  },
  {
   "cell_type": "code",
   "execution_count": 4,
   "metadata": {},
   "outputs": [],
   "source": [
    "from pydantic import BaseModel, Field\n",
    "\n",
    "class QuestionSchema(BaseModel):\n",
    "    question: str = Field(..., description=\"The actual question text.\")\n",
    "\n",
    "class QuestionListSchema(BaseModel):\n",
    "    questionList: list[QuestionSchema] = Field(..., description=\"A list of Question\")"
   ]
  },
  {
   "cell_type": "code",
   "execution_count": 10,
   "metadata": {},
   "outputs": [],
   "source": [
    "from langchain_core.prompts import PromptTemplate\n",
    "\n",
    "prompt_generate_questions = (\n",
    "    \"I'm creating a RAG system that works with knowledge base from a company.\\n\"\n",
    "    \"You are expert in RAG systems.\\n\"\n",
    "    \"I need you to create a set of questions based in the document provided.\\n\"\n",
    "    \"This questions will be used to evaluate the system later.\\n\"\n",
    "    \"The questions should be similar to what a employee would ask in the system.\\n\"\n",
    "    \"This is very important for the future of the company and my carreer!\\n\"\n",
    "    \"Output format: You should output in JSON format considering the provided schema.\\n\"\n",
    "    \"QUANTITY OF QUESTIONS: {QUANTITY}\\n\"\n",
    "    \"DOCUMENT:\\n\\n {DOCUMENT}\\n\\n\"\n",
    ")\n",
    "\n",
    "prompt_generate_questions_lc = PromptTemplate.from_template(prompt_generate_questions)"
   ]
  },
  {
   "cell_type": "code",
   "execution_count": 11,
   "metadata": {},
   "outputs": [],
   "source": [
    "from langchain_openai import ChatOpenAI\n",
    "\n",
    "llm_openai = ChatOpenAI(\n",
    "    model=\"gpt-4o-mini\",\n",
    "    temperature=0.5,\n",
    "    max_tokens=None,\n",
    "    timeout=None,\n",
    "    max_retries=500,\n",
    "    api_key=os.getenv(\"OPENAI_API_KEY\")\n",
    ").with_structured_output(QuestionListSchema)"
   ]
  },
  {
   "cell_type": "code",
   "execution_count": 12,
   "metadata": {},
   "outputs": [],
   "source": [
    "from langchain.schema import StrOutputParser\n",
    "from langchain_core.runnables import RunnablePassthrough\n",
    "\n",
    "chain_generate_questions = (\n",
    "    prompt_generate_questions_lc\n",
    "    | llm_openai\n",
    ")"
   ]
  },
  {
   "cell_type": "code",
   "execution_count": 13,
   "metadata": {},
   "outputs": [],
   "source": [
    "responses = []\n",
    "for doc in documents_all:\n",
    "    response = chain_generate_questions.invoke({\n",
    "        \"DOCUMENT\": doc,\n",
    "        \"QUANTITY\": 5\n",
    "    })\n",
    "    responses.append(response)"
   ]
  },
  {
   "cell_type": "code",
   "execution_count": 14,
   "metadata": {},
   "outputs": [
    {
     "data": {
      "text/plain": [
       "95"
      ]
     },
     "execution_count": 14,
     "metadata": {},
     "output_type": "execute_result"
    }
   ],
   "source": [
    "questions = []\n",
    "for response in responses:\n",
    "    for question in response.questionList:\n",
    "        q = {\"question\": question.question}\n",
    "        questions.append(q)\n",
    "len(questions)"
   ]
  },
  {
   "cell_type": "code",
   "execution_count": 16,
   "metadata": {},
   "outputs": [
    {
     "data": {
      "text/plain": [
       "[{'question': 'Como posso acessar o PJe sem um certificado digital?'},\n",
       " {'question': 'Quais são as restrições para usuários que acessam o PJe sem certificado digital?'},\n",
       " {'question': 'Quais documentos são necessários para cadastrar um novo usuário sem certificado digital?'},\n",
       " {'question': 'Como um usuário existente com certificado digital pode criar uma senha de acesso ao PJe?'},\n",
       " {'question': 'Quais procedimentos devem ser seguidos pela secretaria do tribunal para cadastrar um usuário no PJe?'},\n",
       " {'question': 'Qual é o principal objetivo do sistema Processo Judicial Eletrônico (PJe)?'},\n",
       " {'question': 'Como o PJe pode reduzir o tempo necessário para chegar a uma decisão judicial?'},\n",
       " {'question': 'Quais são as principais mudanças na gestão dos tribunais com a implementação do PJe?'},\n",
       " {'question': 'De que maneira o PJe melhora a segurança e a liberdade dos usuários no sistema?'},\n",
       " {'question': 'Quais são os requisitos de infraestrutura tecnológica necessários para a instalação do PJe?'},\n",
       " {'question': 'Quais são os requisitos para participar de uma audiência por videoconferência no Zoom?'},\n",
       " {'question': 'Como posso acessar o link para a audiência ou sessão no Zoom?'},\n",
       " {'question': 'O que devo fazer se eu precisar alterar meu nome antes de entrar na audiência?'},\n",
       " {'question': 'Quais são as recomendações para participar de audiências usando o celular?'},\n",
       " {'question': 'Como devo me comportar e me preparar para uma audiência por videoconferência?'},\n",
       " {'question': 'Como posso protocolar um novo processo no PJe KZ?'},\n",
       " {'question': 'Quais informações são necessárias para cadastrar as partes no processo?'},\n",
       " {'question': 'O que devo fazer se o sistema não permitir anexar documentos ao protocolo?'},\n",
       " {'question': 'Como posso visualizar todos os processos que não foram finalizados no protocolo?'},\n",
       " {'question': 'Quais são as opções disponíveis na aba de características do processo?'},\n",
       " {'question': 'Quais são os requisitos mínimos para acessar o sistema PJe?'},\n",
       " {'question': 'Como posso cadastrar um novo representante no sistema PJe?'},\n",
       " {'question': 'O que devo fazer se não encontrar o órgão judicial que quero incluir no polo passivo?'},\n",
       " {'question': 'Como posso responder a uma intimação recebida no PJe?'},\n",
       " {'question': 'Quais passos devo seguir para criar um assistente no sistema PJe?'},\n",
       " {'question': 'Quais são os requisitos mínimos para acessar o sistema PJe?'},\n",
       " {'question': 'Como posso me cadastrar no sistema PJe pela primeira vez?'},\n",
       " {'question': 'O que devo fazer para realizar um peticionamento inicial no PJe?'},\n",
       " {'question': 'Como posso verificar minhas intimações pendentes no sistema?'},\n",
       " {'question': 'Quais são os passos para responder a uma intimação no PJe?'},\n",
       " {'question': 'Como posso baixar o PJePortable?'},\n",
       " {'question': 'Quais são os requisitos para usar o PJePortable?'},\n",
       " {'question': 'O que devo fazer antes de instalar o PJePortable?'},\n",
       " {'question': 'Como posso resolver problemas de instalação do PJePortable?'},\n",
       " {'question': 'O que fazer se o arquivo PjePortable-1.13.10.exe não aparecer na tela após o download?'},\n",
       " {'question': 'Como faço para me cadastrar como perito no PJEMÍDIAS?'},\n",
       " {'question': 'O que devo fazer se eu esquecer minha senha de acesso ao PJeMídias?'},\n",
       " {'question': 'Quais são os requisitos para instalar o PJeMídias Desktop?'},\n",
       " {'question': 'Como posso enviar vídeos pelo PJeMídias Desktop?'},\n",
       " {'question': \"O que fazer se eu receber a mensagem 'Ação Cancelada pelo Usuário' após assinar um vídeo?\"},\n",
       " {'question': 'Como posso pesquisar processos pelo nome da parte no PJe?'},\n",
       " {'question': 'O que foi alterado na tela de peticionamento na versão 2.10.1 do PJe?'},\n",
       " {'question': 'Quais correções foram feitas no filtro por Órgão Julgador na Consulta Processual?'},\n",
       " {'question': 'Por que não consigo enviar e-mails para processos não protocolados?'},\n",
       " {'question': 'O que devo fazer se o valor da causa for inferior a 40 salários mínimos em um processo com ente público?'},\n",
       " {'question': 'Como posso acessar a sala de audiência no Zoom sem instalar o cliente?'},\n",
       " {'question': 'Quais são as etapas para configurar meu nome de exibição no Zoom antes da audiência?'},\n",
       " {'question': 'O que devo fazer se meu microfone não estiver funcionando durante a audiência?'},\n",
       " {'question': 'Quais são as orientações sobre o uso de planos de fundo durante as audiências no Zoom?'},\n",
       " {'question': 'Como posso modificar o layout da tela durante uma sessão no Zoom?'},\n",
       " {'question': 'Como posso acessar as gravações de audiências no TRT4?'},\n",
       " {'question': 'O que é necessário para se cadastrar no sistema PJe Mídias?'},\n",
       " {'question': 'Como faço para recuperar minha senha no Escritório Digital?'},\n",
       " {'question': 'Quais informações preciso para pesquisar vídeos de audiências no PJe Mídias?'},\n",
       " {'question': 'O que acontece após eu me cadastrar no Escritório Digital?'},\n",
       " {'question': 'Como posso cadastrar meus dados bancários no sistema do TRT04?'},\n",
       " {'question': 'Quais informações são necessárias para o cadastro de dados bancários?'},\n",
       " {'question': 'O que devo fazer se a conta bancária estiver vinculada a mais de um CPF?'},\n",
       " {'question': 'É possível utilizar o mesmo cadastro para contas do Banco do Brasil e da Caixa Econômica Federal?'},\n",
       " {'question': 'Como posso acessar o relatório de alvarás pagos no sistema?'},\n",
       " {'question': 'Como posso me cadastrar no PJe Mídias?'},\n",
       " {'question': 'Quais formatos de arquivo são aceitos pelo PJe Mídias Desktop?'},\n",
       " {'question': 'O que devo fazer se encontrar o erro CKR_DEVICE_ERROR ao assinar mídias?'},\n",
       " {'question': 'Como posso sincronizar um vídeo no PJe Mídias após a assinatura?'},\n",
       " {'question': 'O que devo fazer se o sistema não permitir a remessa de vídeos sigilosos?'},\n",
       " {'question': 'Como posso exportar um cálculo no PJe-Calc?'},\n",
       " {'question': 'Quais documentos fiscais são necessários para enviar um cálculo ao PJe?'},\n",
       " {'question': 'O que devo fazer se encontrar caracteres especiais nos nomes das partes no PJe?'},\n",
       " {'question': 'Como adicionar um anexo em PDF a uma petição no sistema?'},\n",
       " {'question': 'O que devo verificar antes de enviar um cálculo em PJC?'},\n",
       " {'question': 'Quais são os requisitos mínimos para acessar o sistema PJe?'},\n",
       " {'question': 'Como posso realizar o cadastramento no sistema PJe?'},\n",
       " {'question': 'O que devo fazer para peticionar um novo processo no PJe?'},\n",
       " {'question': 'Como posso visualizar e responder a intimações no sistema?'},\n",
       " {'question': 'Quais são os passos para criar um assistente no sistema PJe?'},\n",
       " {'question': 'Como posso realizar meu cadastramento inicial no PJe?'},\n",
       " {'question': 'O que devo fazer se sou procurador público e preciso me cadastrar no PJe?'},\n",
       " {'question': 'Quais são os passos para peritos já cadastrados no CPTEC-TRT4 acessarem o PJe?'},\n",
       " {'question': 'Como posso solicitar o cadastramento de uma nova procuradoria no PJe?'},\n",
       " {'question': 'Onde posso encontrar os contatos das unidades judiciárias para obter suporte?'},\n",
       " {'question': 'Como posso acessar todos os processos da procuradoria que represento?'},\n",
       " {'question': 'Quais são os passos para cadastrar um novo procurador no sistema PJe?'},\n",
       " {'question': 'O que devo fazer se não estou visualizando as intimações dos processos da procuradoria?'},\n",
       " {'question': 'Como posso protocolar um novo processo no sistema PJe?'},\n",
       " {'question': 'Quais são as diferenças entre os perfis de procurador gestor e assistente de procuradoria?'},\n",
       " {'question': 'Como posso adicionar uma defensoria representante de uma parte no PJe?'},\n",
       " {'question': 'Quais são as etapas para adicionar uma procuradoria representando uma parte no sistema?'},\n",
       " {'question': 'Como posso visualizar os detalhes de um processo em que há uma defensoria e uma procuradoria?'},\n",
       " {'question': 'Quais são as permissões de um representante processual configurado como gestor?'},\n",
       " {'question': 'Como posso alterar os dados de uma procuradoria no sistema?'},\n",
       " {'question': 'Como posso habilitar um advogado inativo em um processo no PJe?'},\n",
       " {'question': 'Quais são as novidades na versão 2.10.1 do PJe para advogados?'},\n",
       " {'question': 'Como posso visualizar os processos arquivados no meu painel do PJe?'},\n",
       " {'question': 'O que devo fazer se não conseguir baixar documentos filtrados no PJe?'},\n",
       " {'question': 'Como posso entrar em contato com a unidade judiciária em caso de problemas no PJe?'}]"
      ]
     },
     "execution_count": 16,
     "metadata": {},
     "output_type": "execute_result"
    }
   ],
   "source": [
    "questions"
   ]
  },
  {
   "cell_type": "code",
   "execution_count": 18,
   "metadata": {},
   "outputs": [
    {
     "name": "stdout",
     "output_type": "stream",
     "text": [
      "<class 'pandas.core.frame.DataFrame'>\n",
      "RangeIndex: 95 entries, 0 to 94\n",
      "Data columns (total 1 columns):\n",
      " #   Column    Non-Null Count  Dtype \n",
      "---  ------    --------------  ----- \n",
      " 0   question  95 non-null     object\n",
      "dtypes: object(1)\n",
      "memory usage: 892.0+ bytes\n"
     ]
    }
   ],
   "source": [
    "df_questions = pd.DataFrame(questions)\n",
    "df_questions.info()"
   ]
  },
  {
   "cell_type": "code",
   "execution_count": 19,
   "metadata": {},
   "outputs": [
    {
     "data": {
      "text/html": [
       "<div>\n",
       "<style scoped>\n",
       "    .dataframe tbody tr th:only-of-type {\n",
       "        vertical-align: middle;\n",
       "    }\n",
       "\n",
       "    .dataframe tbody tr th {\n",
       "        vertical-align: top;\n",
       "    }\n",
       "\n",
       "    .dataframe thead th {\n",
       "        text-align: right;\n",
       "    }\n",
       "</style>\n",
       "<table border=\"1\" class=\"dataframe\">\n",
       "  <thead>\n",
       "    <tr style=\"text-align: right;\">\n",
       "      <th></th>\n",
       "      <th>question</th>\n",
       "    </tr>\n",
       "  </thead>\n",
       "  <tbody>\n",
       "    <tr>\n",
       "      <th>0</th>\n",
       "      <td>Como posso acessar o PJe sem um certificado di...</td>\n",
       "    </tr>\n",
       "    <tr>\n",
       "      <th>1</th>\n",
       "      <td>Quais são as restrições para usuários que aces...</td>\n",
       "    </tr>\n",
       "    <tr>\n",
       "      <th>2</th>\n",
       "      <td>Quais documentos são necessários para cadastra...</td>\n",
       "    </tr>\n",
       "    <tr>\n",
       "      <th>3</th>\n",
       "      <td>Como um usuário existente com certificado digi...</td>\n",
       "    </tr>\n",
       "    <tr>\n",
       "      <th>4</th>\n",
       "      <td>Quais procedimentos devem ser seguidos pela se...</td>\n",
       "    </tr>\n",
       "  </tbody>\n",
       "</table>\n",
       "</div>"
      ],
      "text/plain": [
       "                                            question\n",
       "0  Como posso acessar o PJe sem um certificado di...\n",
       "1  Quais são as restrições para usuários que aces...\n",
       "2  Quais documentos são necessários para cadastra...\n",
       "3  Como um usuário existente com certificado digi...\n",
       "4  Quais procedimentos devem ser seguidos pela se..."
      ]
     },
     "execution_count": 19,
     "metadata": {},
     "output_type": "execute_result"
    }
   ],
   "source": [
    "df_questions.head()"
   ]
  },
  {
   "cell_type": "code",
   "execution_count": 21,
   "metadata": {},
   "outputs": [],
   "source": [
    "df_questions.to_csv(\"df_questions.csv\", index=False)"
   ]
  },
  {
   "cell_type": "markdown",
   "metadata": {},
   "source": []
  },
  {
   "cell_type": "markdown",
   "metadata": {},
   "source": [
    "# System configuration"
   ]
  },
  {
   "cell_type": "markdown",
   "metadata": {},
   "source": [
    "## Vector store provider"
   ]
  },
  {
   "cell_type": "code",
   "execution_count": 49,
   "metadata": {},
   "outputs": [
    {
     "name": "stderr",
     "output_type": "stream",
     "text": [
      "{\"action\":\"startup\",\"default_vectorizer_module\":\"none\",\"level\":\"info\",\"msg\":\"the default vectorizer modules is set to \\\"none\\\", as a result all new schema classes without an explicit vectorizer setting, will use this vectorizer\",\"time\":\"2024-10-15T19:19:11Z\"}\n",
      "{\"action\":\"startup\",\"auto_schema_enabled\":true,\"level\":\"info\",\"msg\":\"auto schema enabled setting is set to \\\"true\\\"\",\"time\":\"2024-10-15T19:19:11Z\"}\n",
      "{\"level\":\"info\",\"msg\":\"No resource limits set, weaviate will use all available memory and CPU. To limit resources, set LIMIT_RESOURCES=true\",\"time\":\"2024-10-15T19:19:11Z\"}\n",
      "{\"level\":\"info\",\"msg\":\"module offload-s3 is enabled\",\"time\":\"2024-10-15T19:19:11Z\"}\n",
      "{\"level\":\"warning\",\"msg\":\"Multiple vector spaces are present, GraphQL Explore and REST API list objects endpoint module include params has been disabled as a result.\",\"time\":\"2024-10-15T19:19:11Z\"}\n",
      "{\"level\":\"info\",\"msg\":\"open cluster service\",\"servers\":{\"Embedded_at_8079\":38347},\"time\":\"2024-10-15T19:19:11Z\"}\n",
      "{\"address\":\"172.17.0.2:38348\",\"level\":\"info\",\"msg\":\"starting cloud rpc server ...\",\"time\":\"2024-10-15T19:19:11Z\"}\n",
      "{\"level\":\"info\",\"msg\":\"starting raft sub-system ...\",\"time\":\"2024-10-15T19:19:11Z\"}\n",
      "{\"address\":\"172.17.0.2:38347\",\"level\":\"info\",\"msg\":\"tcp transport\",\"tcpMaxPool\":3,\"tcpTimeout\":10000000000,\"time\":\"2024-10-15T19:19:11Z\"}\n",
      "{\"level\":\"info\",\"msg\":\"loading local db\",\"time\":\"2024-10-15T19:19:11Z\"}\n",
      "{\"level\":\"info\",\"msg\":\"local DB successfully loaded\",\"time\":\"2024-10-15T19:19:11Z\"}\n",
      "{\"level\":\"info\",\"msg\":\"schema manager loaded\",\"n\":0,\"time\":\"2024-10-15T19:19:11Z\"}\n",
      "{\"level\":\"info\",\"metadata_only_voters\":false,\"msg\":\"construct a new raft node\",\"name\":\"Embedded_at_8079\",\"time\":\"2024-10-15T19:19:11Z\"}\n",
      "{\"action\":\"raft\",\"index\":0,\"level\":\"info\",\"msg\":\"raft initial configuration\",\"servers\":\"[[]]\",\"time\":\"2024-10-15T19:19:11Z\"}\n",
      "{\"last_snapshot_index\":0,\"last_store_applied_index\":0,\"last_store_log_applied_index\":0,\"level\":\"info\",\"msg\":\"raft node constructed\",\"raft_applied_index\":0,\"raft_last_index\":0,\"time\":\"2024-10-15T19:19:11Z\"}\n",
      "{\"action\":\"raft\",\"follower\":{},\"leader-address\":\"\",\"leader-id\":\"\",\"level\":\"info\",\"msg\":\"raft entering follower state\",\"time\":\"2024-10-15T19:19:11Z\"}\n",
      "{\"action\":\"bootstrap\",\"error\":\"could not join a cluster from [172.17.0.2:38347]\",\"level\":\"warning\",\"msg\":\"failed to join cluster, will notify next if voter\",\"servers\":[\"172.17.0.2:38347\"],\"time\":\"2024-10-15T19:19:13Z\",\"voter\":true}\n",
      "{\"action\":\"bootstrap\",\"candidates\":[{\"Suffrage\":0,\"ID\":\"Embedded_at_8079\",\"Address\":\"172.17.0.2:38347\"}],\"level\":\"info\",\"msg\":\"starting cluster bootstrapping\",\"time\":\"2024-10-15T19:19:13Z\"}\n",
      "{\"action\":\"bootstrap\",\"level\":\"info\",\"msg\":\"notified peers this node is ready to join as voter\",\"servers\":[\"172.17.0.2:38347\"],\"time\":\"2024-10-15T19:19:13Z\"}\n",
      "{\"action\":\"raft\",\"last-leader-addr\":\"\",\"last-leader-id\":\"\",\"level\":\"warning\",\"msg\":\"raft heartbeat timeout reached, starting election\",\"time\":\"2024-10-15T19:19:13Z\"}\n",
      "{\"action\":\"raft\",\"level\":\"info\",\"msg\":\"raft entering candidate state\",\"node\":{},\"term\":2,\"time\":\"2024-10-15T19:19:13Z\"}\n",
      "{\"action\":\"raft\",\"level\":\"info\",\"msg\":\"raft election won\",\"tally\":1,\"term\":2,\"time\":\"2024-10-15T19:19:13Z\"}\n",
      "{\"action\":\"raft\",\"leader\":{},\"level\":\"info\",\"msg\":\"raft entering leader state\",\"time\":\"2024-10-15T19:19:13Z\"}\n",
      "{\"docker_image_tag\":\"unknown\",\"level\":\"info\",\"msg\":\"configured versions\",\"server_version\":\"1.26.1\",\"time\":\"2024-10-15T19:19:13Z\"}\n",
      "{\"action\":\"grpc_startup\",\"level\":\"info\",\"msg\":\"grpc server listening at [::]:50060\",\"time\":\"2024-10-15T19:19:13Z\"}\n",
      "{\"address\":\"172.17.0.2:38347\",\"level\":\"info\",\"msg\":\"current Leader\",\"time\":\"2024-10-15T19:19:13Z\"}\n",
      "{\"level\":\"info\",\"msg\":\"starting migration from old schema\",\"time\":\"2024-10-15T19:19:13Z\"}\n",
      "{\"level\":\"info\",\"msg\":\"legacy schema is empty, nothing to migrate\",\"time\":\"2024-10-15T19:19:13Z\"}\n",
      "{\"level\":\"info\",\"msg\":\"migration from the old schema has been successfully completed\",\"time\":\"2024-10-15T19:19:13Z\"}\n",
      "{\"action\":\"restapi_management\",\"docker_image_tag\":\"unknown\",\"level\":\"info\",\"msg\":\"Serving weaviate at http://127.0.0.1:8079\",\"time\":\"2024-10-15T19:19:13Z\"}\n"
     ]
    },
    {
     "data": {
      "text/plain": [
       "<weaviate.client.WeaviateClient at 0x7f49ed6b4e90>"
      ]
     },
     "execution_count": 49,
     "metadata": {},
     "output_type": "execute_result"
    },
    {
     "name": "stderr",
     "output_type": "stream",
     "text": [
      "{\"action\":\"telemetry_push\",\"level\":\"info\",\"msg\":\"telemetry started\",\"payload\":\"\\u0026{MachineID:6e3a5ece-37ae-4f35-a9ee-46db3c96a43b Type:INIT Version:1.26.1 NumObjects:0 OS:linux Arch:amd64 UsedModules:[]}\",\"time\":\"2024-10-15T19:19:14Z\"}\n",
      "{\"action\":\"bootstrap\",\"level\":\"info\",\"msg\":\"node reporting ready, node has probably recovered cluster from raft config. Exiting bootstrap process\",\"time\":\"2024-10-15T19:19:14Z\"}\n"
     ]
    }
   ],
   "source": [
    "import weaviate\n",
    "from weaviate.embedded import EmbeddedOptions\n",
    "\n",
    "# client = weaviate.connect_to_embedded()\n",
    "\n",
    "weaviate_client = weaviate.WeaviateClient(\n",
    "    embedded_options=EmbeddedOptions(\n",
    "        persistence_data_path=\"../weaviate_persistence3\"\n",
    "    )\n",
    ")\n",
    "\n",
    "weaviate_client"
   ]
  },
  {
   "cell_type": "markdown",
   "metadata": {},
   "source": [
    "## Embedding provider"
   ]
  },
  {
   "cell_type": "code",
   "execution_count": 50,
   "metadata": {},
   "outputs": [
    {
     "name": "stderr",
     "output_type": "stream",
     "text": [
      "/workspaces/llm-rag-evaluation/.venv/lib/python3.11/site-packages/pydantic/_internal/_fields.py:132: UserWarning: Field \"model_name\" in GPT4AllEmbeddings has conflict with protected namespace \"model_\".\n",
      "\n",
      "You may be able to resolve this warning by setting `model_config['protected_namespaces'] = ()`.\n",
      "  warnings.warn(\n",
      "Failed to load libllamamodel-mainline-cuda.so: dlopen: libcudart.so.11.0: cannot open shared object file: No such file or directory\n",
      "Failed to load libllamamodel-mainline-cuda-avxonly.so: dlopen: libcudart.so.11.0: cannot open shared object file: No such file or directory\n"
     ]
    },
    {
     "data": {
      "text/plain": [
       "GPT4AllEmbeddings(model_name='nomic-embed-text-v1.f16.gguf', n_threads=None, device='cpu', gpt4all_kwargs={'allow_download': 'True'}, client=<gpt4all.gpt4all.Embed4All object at 0x7f49ed35e950>)"
      ]
     },
     "execution_count": 50,
     "metadata": {},
     "output_type": "execute_result"
    }
   ],
   "source": [
    "from langchain_community.embeddings import GPT4AllEmbeddings\n",
    "        \n",
    "model_name = \"nomic-embed-text-v1.f16.gguf\"\n",
    "\n",
    "gpt4all_kwargs = {'allow_download': 'True'}\n",
    "\n",
    "embeddings_provider = GPT4AllEmbeddings(\n",
    "    model_name=model_name,\n",
    "    gpt4all_kwargs=gpt4all_kwargs\n",
    ")\n",
    "embeddings_provider"
   ]
  },
  {
   "cell_type": "markdown",
   "metadata": {},
   "source": [
    "# File ingestion and chunking\n",
    "\n",
    "\n",
    "- load pdf with pymuPDFLoader\n",
    "    - partition \n",
    "- load with unstructured\n",
    "    - use partion from unstrutured\n",
    "- embbed\n",
    "    - gemini\n",
    "    - gpt4all\n",
    "    - allmini (multilingual)\n",
    "- create a idnex for each one"
   ]
  },
  {
   "cell_type": "markdown",
   "metadata": {},
   "source": [
    "## Document loading"
   ]
  },
  {
   "cell_type": "markdown",
   "metadata": {},
   "source": [
    "### Simple loading"
   ]
  },
  {
   "cell_type": "code",
   "execution_count": 31,
   "metadata": {},
   "outputs": [
    {
     "name": "stdout",
     "output_type": "stream",
     "text": [
      "Opening file: ../docs/Manual_de_utilização_do_PJe_sem_certificado_digital.pdf\n",
      "Opening file: ../docs/processo_judicial_eletronico_grafica2.pdf\n",
      "Opening file: ../docs/TRT04 - Guia para participação em audiências_sessões com a ferramenta Zoom.pdf\n",
      "Opening file: ../docs/TRT04 - PJE 2.10.1 - Manual de autuação no  painel do procurador.pdf\n",
      "Opening file: ../docs/guiapje-tribunal.pdf\n",
      "Opening file: ../docs/guiapje-usuarios.pdf\n",
      "Opening file: ../docs/Instalação do PJePortable v. 1.13.10 - para uso do PJe.pdf\n"
     ]
    },
    {
     "name": "stderr",
     "output_type": "stream",
     "text": [
      "/workspaces/llm-rag-evaluation/.venv/lib/python3.11/site-packages/langchain_community/document_loaders/parsers/pdf.py:299: UserWarning: Warning: Empty content on page 22 of document ../docs/processo_judicial_eletronico_grafica2.pdf\n",
      "  warnings.warn(\n",
      "/workspaces/llm-rag-evaluation/.venv/lib/python3.11/site-packages/langchain_community/document_loaders/parsers/pdf.py:299: UserWarning: Warning: Empty content on page 3 of document ../docs/Zoom - CDTI OAB.pdf\n",
      "  warnings.warn(\n",
      "/workspaces/llm-rag-evaluation/.venv/lib/python3.11/site-packages/langchain_community/document_loaders/parsers/pdf.py:299: UserWarning: Warning: Empty content on page 4 of document ../docs/Zoom - CDTI OAB.pdf\n",
      "  warnings.warn(\n",
      "/workspaces/llm-rag-evaluation/.venv/lib/python3.11/site-packages/langchain_community/document_loaders/parsers/pdf.py:299: UserWarning: Warning: Empty content on page 5 of document ../docs/Zoom - CDTI OAB.pdf\n",
      "  warnings.warn(\n",
      "/workspaces/llm-rag-evaluation/.venv/lib/python3.11/site-packages/langchain_community/document_loaders/parsers/pdf.py:299: UserWarning: Warning: Empty content on page 6 of document ../docs/Zoom - CDTI OAB.pdf\n",
      "  warnings.warn(\n",
      "/workspaces/llm-rag-evaluation/.venv/lib/python3.11/site-packages/langchain_community/document_loaders/parsers/pdf.py:299: UserWarning: Warning: Empty content on page 7 of document ../docs/Zoom - CDTI OAB.pdf\n",
      "  warnings.warn(\n",
      "/workspaces/llm-rag-evaluation/.venv/lib/python3.11/site-packages/langchain_community/document_loaders/parsers/pdf.py:299: UserWarning: Warning: Empty content on page 8 of document ../docs/Zoom - CDTI OAB.pdf\n",
      "  warnings.warn(\n",
      "/workspaces/llm-rag-evaluation/.venv/lib/python3.11/site-packages/langchain_community/document_loaders/parsers/pdf.py:299: UserWarning: Warning: Empty content on page 9 of document ../docs/Zoom - CDTI OAB.pdf\n",
      "  warnings.warn(\n",
      "/workspaces/llm-rag-evaluation/.venv/lib/python3.11/site-packages/langchain_community/document_loaders/parsers/pdf.py:299: UserWarning: Warning: Empty content on page 10 of document ../docs/Zoom - CDTI OAB.pdf\n",
      "  warnings.warn(\n",
      "/workspaces/llm-rag-evaluation/.venv/lib/python3.11/site-packages/langchain_community/document_loaders/parsers/pdf.py:299: UserWarning: Warning: Empty content on page 11 of document ../docs/Zoom - CDTI OAB.pdf\n",
      "  warnings.warn(\n",
      "/workspaces/llm-rag-evaluation/.venv/lib/python3.11/site-packages/langchain_community/document_loaders/parsers/pdf.py:299: UserWarning: Warning: Empty content on page 12 of document ../docs/Zoom - CDTI OAB.pdf\n",
      "  warnings.warn(\n",
      "/workspaces/llm-rag-evaluation/.venv/lib/python3.11/site-packages/langchain_community/document_loaders/parsers/pdf.py:299: UserWarning: Warning: Empty content on page 13 of document ../docs/Zoom - CDTI OAB.pdf\n",
      "  warnings.warn(\n",
      "/workspaces/llm-rag-evaluation/.venv/lib/python3.11/site-packages/langchain_community/document_loaders/parsers/pdf.py:299: UserWarning: Warning: Empty content on page 17 of document ../docs/Zoom - CDTI OAB.pdf\n",
      "  warnings.warn(\n",
      "/workspaces/llm-rag-evaluation/.venv/lib/python3.11/site-packages/langchain_community/document_loaders/parsers/pdf.py:299: UserWarning: Warning: Empty content on page 18 of document ../docs/Zoom - CDTI OAB.pdf\n",
      "  warnings.warn(\n",
      "/workspaces/llm-rag-evaluation/.venv/lib/python3.11/site-packages/langchain_community/document_loaders/parsers/pdf.py:299: UserWarning: Warning: Empty content on page 19 of document ../docs/Zoom - CDTI OAB.pdf\n",
      "  warnings.warn(\n",
      "/workspaces/llm-rag-evaluation/.venv/lib/python3.11/site-packages/langchain_community/document_loaders/parsers/pdf.py:299: UserWarning: Warning: Empty content on page 20 of document ../docs/Zoom - CDTI OAB.pdf\n",
      "  warnings.warn(\n",
      "/workspaces/llm-rag-evaluation/.venv/lib/python3.11/site-packages/langchain_community/document_loaders/parsers/pdf.py:299: UserWarning: Warning: Empty content on page 22 of document ../docs/Zoom - CDTI OAB.pdf\n",
      "  warnings.warn(\n",
      "/workspaces/llm-rag-evaluation/.venv/lib/python3.11/site-packages/langchain_community/document_loaders/parsers/pdf.py:299: UserWarning: Warning: Empty content on page 25 of document ../docs/Zoom - CDTI OAB.pdf\n",
      "  warnings.warn(\n",
      "/workspaces/llm-rag-evaluation/.venv/lib/python3.11/site-packages/langchain_community/document_loaders/parsers/pdf.py:299: UserWarning: Warning: Empty content on page 26 of document ../docs/Zoom - CDTI OAB.pdf\n",
      "  warnings.warn(\n",
      "/workspaces/llm-rag-evaluation/.venv/lib/python3.11/site-packages/langchain_community/document_loaders/parsers/pdf.py:299: UserWarning: Warning: Empty content on page 27 of document ../docs/Zoom - CDTI OAB.pdf\n",
      "  warnings.warn(\n",
      "/workspaces/llm-rag-evaluation/.venv/lib/python3.11/site-packages/langchain_community/document_loaders/parsers/pdf.py:299: UserWarning: Warning: Empty content on page 41 of document ../docs/Zoom - CDTI OAB.pdf\n",
      "  warnings.warn(\n",
      "/workspaces/llm-rag-evaluation/.venv/lib/python3.11/site-packages/langchain_community/document_loaders/parsers/pdf.py:299: UserWarning: Warning: Empty content on page 42 of document ../docs/Zoom - CDTI OAB.pdf\n",
      "  warnings.warn(\n"
     ]
    },
    {
     "name": "stdout",
     "output_type": "stream",
     "text": [
      "Opening file: ../docs/PJe Mídias Desktop - Envio de Perícias em MP4.pdf\n",
      "Opening file: ../docs/TRT04 - MANUAL PJE 2.10.1 - PAINEL DO ADVOGADO.pdf\n",
      "Opening file: ../docs/Zoom - CDTI OAB.pdf\n",
      "Opening file: ../docs/PJeMídias - Acesso à gravação de audiências ou perícias.pdf\n",
      "Opening file: ../docs/TRT04 - Manual para advogados e peritos (cadastramento de dados bancários para créditos em processos do TRT04).pdf\n",
      "Opening file: ../docs/PJeMídiasDesktop - Envio de Provas em MP4.pdf\n",
      "Opening file: ../docs/PROCEDIMENTOS PARA ENVIO DE CÁLCULOS DO PJECALC NO PJE PARA ADVOGADOS.pdf\n",
      "Opening file: ../docs/guiapje-advogados.pdf\n",
      "Opening file: ../docs/Cadastramento inicial no PJe.pdf\n",
      "Opening file: ../docs/MANUAL FUNCIONAMENTO DAS PROCURADORIAS NO PJE.pdf\n",
      "Opening file: ../docs/Manual.pdf\n",
      "Opening file: ../docs/PJE - Processo Judicial Eletrônico.pdf\n"
     ]
    },
    {
     "data": {
      "text/plain": [
       "19"
      ]
     },
     "execution_count": 31,
     "metadata": {},
     "output_type": "execute_result"
    }
   ],
   "source": [
    "from langchain.document_loaders import PyMuPDFLoader\n",
    "\n",
    "folder_path = \"../docs\"\n",
    "\n",
    "path, dirs, files = next(os.walk(folder_path))\n",
    "        \n",
    "documents_all = []\n",
    "for file in files:\n",
    "    file_path = os.path.join(path, file)\n",
    "    print(f'Opening file: {file_path}')\n",
    "    \n",
    "    loader = PyMuPDFLoader(file_path)\n",
    "    documents = loader.load()\n",
    "\n",
    "    document = \"\\n\".join( [doc.page_content for doc in documents] )\n",
    "    \n",
    "    documents_all.append( (file_path, document) )\n",
    "\n",
    "len(documents_all)"
   ]
  },
  {
   "cell_type": "code",
   "execution_count": 33,
   "metadata": {},
   "outputs": [
    {
     "data": {
      "text/plain": [
       "[('../docs/Manual_de_utilização_do_PJe_sem_certificado_digital.pdf',\n",
       "  '\\xa0\\n \\n\\xa0\\n\\nManual de utilização do PJe sem certificado \\ndigital \\n\\xa0\\nÍndice \\n\\xa0\\nIntrodução\\xa0\\nRestrições\\xa0de\\xa0acesso\\xa0ao\\xa0usuário\\xa0que\\xa0acessar\\xa0o\\xa0PJe\\xa0sem\\xa0certificado\\xa0digital\\xa0\\nProcedimento\\xa0para\\xa0criar\\xa0uma\\xa0senha\\xa0de\\xa0acesso\\xa0ao\\xa0sistema\\xa0sem\\xa0certificado\\xa0digital\\xa0\\nNovos\\xa0usuários\\xa0do\\xa0sistema\\xa0\\nUsuário\\xa0que\\xa0já\\xa0possuam\\xa0um\\xa0certificado\\xa0digital\\xa0\\nUsuário\\xa0sem\\xa0certificado\\xa0digital\\xa0\\nUsuário\\xa0já\\xa0existente\\xa0com\\xa0certificado\\xa0digital\\xa0\\nUsuário\\xa0cadastrado\\xa0como\\xa0Push,\\xa0sem\\xa0certificado\\xa0digital\\xa0\\nProcedimento\\xa0de\\xa0secretaria\\xa0nos\\xa0tribunais\\xa0\\nPossíveis\\xa0problemas\\xa0e\\xa0respostas\\xa0prováveis\\xa0\\nProcedimentos\\xa0para\\xa0o\\xa0administrador\\xa0do\\xa0sistema\\xa0\\nHabilitação\\xa0ou\\xa0restrição\\xa0da\\xa0funcionalidade\\xa0de\\xa0acesso\\xa0sem\\xa0o\\xa0certificado\\xa0digital\\xa0\\nConfiguração\\xa0do\\xa0modelo\\xa0do\\xa0texto\\xa0do\\xa0termo\\xa0de\\xa0compromisso\\xa0\\nConfiguração\\xa0do\\xa0modelo\\xa0do\\xa0texto\\xa0do\\xa0envio\\xa0do\\xa0link\\xa0para\\xa0cadastro\\xa0da\\xa0senha\\xa0\\nExemplo\\xa0de\\xa0modelo\\xa0de\\xa0texto\\xa0do\\xa0e\\xadmail\\xa0para\\xa0alteração/cadastro\\xa0da\\xa0senha\\xa0\\nAlteração\\xa0do\\xa0hash\\xa0para\\xa0a\\xa0troca\\xa0da\\xa0senha\\xa0no\\xa0banco\\xa0de\\xa0dados\\xa0\\nProcedimentos\\xa0para\\xa0os\\xa0desenvolvedores\\xa0do\\xa0sistema\\xa0\\nSimulando\\xa0o\\xa0acesso\\xa0com\\xa0certificado\\xa0digital\\xa0utilizando\\xa0usuário\\xa0e\\xa0senha\\xa0\\n\\xa0\\n\\xa0\\n\\xa0\\n1\\xa0\\n\\nI.\\nApresentação\\n \\nO projeto PJe originalmente foi criado com a restrição de só poder ser acessado por\\n\\xa0\\n\\xa0\\n\\xa0\\n\\xa0\\n\\xa0\\n\\xa0\\n\\xa0 \\xa0\\n\\xa0\\n\\xa0\\n\\xa0\\n\\xa0\\n\\xa0\\n\\xa0\\n\\xa0\\nusuários utilizando o certificado digital. Assim, qualquer operação do usuário dentro do sistema,\\n\\xa0\\n\\xa0 \\xa0\\n\\xa0\\n\\xa0\\n\\xa0\\n\\xa0\\n\\xa0\\n\\xa0\\n\\xa0\\n\\xa0\\n\\xa0\\n\\xa0\\nmesmo de leitura de documentos já conhecidos necessitava de uma comprovação da\\n\\xa0\\n\\xa0\\n\\xa0\\n\\xa0\\n\\xa0\\n\\xa0\\n\\xa0\\n\\xa0\\n\\xa0\\n\\xa0\\n\\xa0\\n\\xa0\\nidentidade\\xa0destes\\xa0usuários.\\xa0\\nContudo, para a utilização dos certificados digitais nos equipamentos que fazem acesso\\n\\xa0\\n\\xa0 \\xa0\\n\\xa0\\n\\xa0\\n\\xa0\\n\\xa0\\n\\xa0\\n\\xa0\\n\\xa0\\n\\xa0\\n\\xa0\\nao PJe é necessário que o \\u200bhardware utilizado disponha de entrada USB apropriada e de \\u200bdrivers\\n\\xa0\\n\\xa0 \\xa0\\n\\xa0\\n\\xa0 \\xa0\\n\\xa0\\n\\xa0\\n\\xa0\\n\\xa0\\n\\xa0\\n\\xa0\\n\\xa0 \\xa0\\n\\xa0\\n\\xa0\\nde reconhecimento da tecnologia do certificado. Limitando o acesso ao sistema PJe pelos\\n\\xa0\\n\\xa0\\n\\xa0\\n\\xa0\\n\\xa0\\n\\xa0\\n\\xa0\\n\\xa0\\n\\xa0\\n\\xa0\\n\\xa0\\n\\xa0\\n\\xa0\\nusuários que já possuíam o certificado digital, mas que pela mobilidade necessária no seu\\n\\xa0\\n\\xa0\\n\\xa0\\n\\xa0 \\xa0\\n\\xa0\\n\\xa0\\n\\xa0\\n\\xa0\\n\\xa0\\n\\xa0\\n\\xa0\\n\\xa0\\n\\xa0\\ndia\\xada\\xaddia não estavam no momento que precisassem com a possibilidade de acessar o\\n\\xa0\\n\\xa0\\n\\xa0\\n\\xa0\\n\\xa0\\n\\xa0\\n\\xa0\\n\\xa0\\n\\xa0\\n\\xa0\\n\\xa0\\n\\xa0\\n\\xa0\\nsistema.\\xa0\\nComplementarmente à dificuldade ferramental, a aquisição destes certificados digitais\\n\\xa0 \\xa0\\n\\xa0\\n\\xa0 \\xa0\\n\\xa0\\n\\xa0\\n\\xa0\\n\\xa0\\ndemanda\\xa0investimentos\\xa0que\\xa0podem\\xa0inviabilizar\\xa0o\\xa0uso\\xa0do\\xa0sistema\\xa0PJe\\xa0por\\xa0alguns\\xa0usuários.\\xa0\\nPor estes fatores, foi introduzida uma alteração no sistema PJe com o objetivo de\\n\\xa0\\n\\xa0\\n\\xa0\\n\\xa0\\n\\xa0\\n\\xa0\\n\\xa0\\n\\xa0\\n\\xa0\\n\\xa0\\n\\xa0\\n\\xa0\\n\\xa0\\n\\xa0\\npossibilitar que usuários consigam acessar o sistema sem a necessidade de se utilizar o\\n\\xa0\\n\\xa0\\n\\xa0\\n\\xa0\\n\\xa0\\n\\xa0\\n\\xa0\\n\\xa0\\n\\xa0\\n\\xa0\\n\\xa0\\n\\xa0\\n\\xa0 \\xa0\\ncertificado digital. Assim, tanto usuários sem certificado digital quanto os que já o possuem\\n\\xa0\\n\\xa0\\n\\xa0\\n\\xa0\\n\\xa0\\n\\xa0\\n\\xa0\\n\\xa0\\n\\xa0\\n\\xa0\\n\\xa0\\n\\xa0 \\xa0\\n\\xa0\\npoderão registrar uma senha que os possibilitará acessar o sistema. No entanto, este acesso,\\n\\xa0\\n\\xa0\\n\\xa0\\n\\xa0\\n\\xa0\\n\\xa0\\n\\xa0\\n\\xa0 \\xa0\\n\\xa0\\n\\xa0\\n\\xa0\\n\\xa0\\n\\xa0\\npor não poder garantir a identidade correta do usuário terá certas limitações. descritas neste\\n\\xa0\\n\\xa0\\n\\xa0\\n\\xa0 \\xa0\\n\\xa0\\n\\xa0\\n\\xa0\\n\\xa0\\n\\xa0\\n\\xa0\\n\\xa0\\n\\xa0\\n\\xa0\\ndocumento, no item próprio relativo às restrições de acesso ao usuário que acessar o PJe sem\\n\\xa0\\n\\xa0\\n\\xa0\\n\\xa0\\n\\xa0\\n\\xa0\\n\\xa0\\n\\xa0\\n\\xa0\\n\\xa0\\n\\xa0\\n\\xa0\\n\\xa0 \\xa0\\n\\xa0\\n\\xa0\\ncertificado\\xa0digital.\\xa0\\nHá também neste manual um item que indica quais devem ser os procedimentos a\\n\\xa0\\n\\xa0\\n\\xa0\\n\\xa0\\n\\xa0\\n\\xa0\\n\\xa0\\n\\xa0\\n\\xa0\\n\\xa0\\n\\xa0\\n\\xa0\\n\\xa0 \\xa0\\nserem adotados pelos usuários que pretendam gerar uma senha de acesso ao sistema,\\n\\xa0\\n\\xa0\\n\\xa0\\n\\xa0\\n\\xa0\\n\\xa0\\n\\xa0\\n\\xa0\\n\\xa0\\n\\xa0\\n\\xa0\\n\\xa0\\n\\xa0\\nprocedimento que será distinto entre os usuários que já possuem certificado digital e os que\\n\\xa0\\n\\xa0\\n\\xa0\\n\\xa0\\n\\xa0\\n\\xa0\\n\\xa0\\n\\xa0\\n\\xa0\\n\\xa0\\n\\xa0\\n\\xa0 \\xa0\\n\\xa0\\n\\xa0\\nainda\\xa0não\\xa0o\\xa0possuem.\\xa0\\nLogo em seguida, há um capítulo dedicado à descrição do procedimento a ser adotado\\n\\xa0\\n\\xa0\\n\\xa0\\n\\xa0\\n\\xa0\\n\\xa0\\n\\xa0 \\xa0\\n\\xa0\\n\\xa0\\n\\xa0 \\xa0\\n\\xa0\\n\\xa0\\npelas secretarias dos tribunais para o cadastramento e a manutenção do cadastro dos usuários\\n\\xa0\\n\\xa0\\n\\xa0\\n\\xa0\\n\\xa0 \\xa0\\n\\xa0 \\xa0 \\xa0\\n\\xa0\\n\\xa0\\n\\xa0\\n\\xa0\\n\\xa0\\nque\\xa0necessitem\\xa0acessar\\xa0o\\xa0sistema\\xa0sem\\xa0o\\xa0certificado\\xa0digital.\\xa0\\nPor\\nfim,\\nhá\\na\\ndescrição\\ndos\\nprocedimentos\\nque\\ndeverão\\nser\\nseguidos\\npela\\n\\xa0\\n\\xa0\\n\\xa0\\n\\xa0\\n\\xa0\\n\\xa0\\n\\xa0\\n\\xa0\\n\\xa0\\n\\xa0\\n\\xa0\\n\\xa0\\nadministração do sistema PJe para a configuração da funcionalidade de acesso sem certificado\\n\\xa0\\n\\xa0\\n\\xa0\\n\\xa0\\n\\xa0 \\xa0\\n\\xa0\\n\\xa0\\n\\xa0\\n\\xa0\\n\\xa0\\n\\xa0\\n\\xa0\\ndigital.\\xa0\\n\\xa0\\n\\xa0\\n\\xa0\\n2\\xa0\\n\\nII.\\nRestrições de acesso ao usuário que acessar o PJe sem\\n \\n \\n \\n \\n \\n \\n \\n \\n \\n \\ncertificado digital \\nAlém das restrições já presentes no sistema para usuários que façam o acesso\\n\\xa0\\n\\xa0\\n\\xa0\\n\\xa0\\n\\xa0\\n\\xa0\\n\\xa0\\n\\xa0\\n\\xa0\\n\\xa0\\n\\xa0\\n\\xa0\\n\\xa0\\nutilizando o certificado digital (ver documentação do sistema para saber mais). Ao usuário que\\n\\xa0 \\xa0\\n\\xa0\\n\\xa0\\n\\xa0\\n\\xa0\\n\\xa0\\n\\xa0\\n\\xa0\\n\\xa0\\n\\xa0\\n\\xa0\\n\\xa0\\n\\xa0\\nrealizar o acesso com login e senha (sem certificado digital), serão aplicadas as seguintes\\n\\xa0 \\xa0\\n\\xa0\\n\\xa0\\n\\xa0 \\xa0\\n\\xa0\\n\\xa0\\n\\xa0\\n\\xa0\\n\\xa0\\n\\xa0\\n\\xa0\\n\\xa0\\nrestrições:\\xa0\\xa0\\n\\xad\\nNão\\npoderão\\nser\\nvisualizados\\ndocumentos,\\nexpedientes,\\nprocessos\\nou\\npartes\\n\\xa0\\n\\xa0\\n\\xa0\\n\\xa0\\n\\xa0\\n\\xa0\\n\\xa0\\n\\xa0\\n\\xa0\\nclassificadas como sigilosos, mesmo que a lista de visibilidade destes itens indiquem o\\n\\xa0\\n\\xa0\\n\\xa0\\n\\xa0\\n\\xa0 \\xa0\\n\\xa0\\n\\xa0\\n\\xa0\\n\\xa0\\n\\xa0\\n\\xa0 \\xa0\\nusuário\\xa0como\\xa0visualizador\\xa0habilitado\\xa0a\\xa0eles;\\xa0\\n\\xad\\nNão será possível assinar petições e documentos incluídos no sistema, com isso, não\\n\\xa0\\n\\xa0\\n\\xa0\\n\\xa0\\n\\xa0 \\xa0\\n\\xa0\\n\\xa0\\n\\xa0\\n\\xa0\\n\\xa0\\n\\xa0\\n\\xa0\\nserá\\xa0possível\\xa0protocolar\\xa0novos\\xa0processos\\xa0ou\\xa0responder\\xa0expedientes;\\xa0\\n\\xad\\nNo entanto, será disponibilizado o botão para assinatura e se o usuário tiver um\\n\\xa0\\n\\xa0\\n\\xa0\\n\\xa0 \\xa0\\n\\xa0\\n\\xa0\\n\\xa0 \\xa0\\n\\xa0 \\xa0\\n\\xa0\\n\\xa0\\n\\xa0\\ncertificado\\xa0digital,\\xa0poderá\\xa0assinar\\xa0as\\xa0petições\\xa0e/ou\\xa0documentos\\xa0incluídos.\\xa0\\n\\xad\\nO\\nusuário\\nnão\\npoderá\\nregistrar\\na\\nciência\\nde\\nexpedientes\\nencaminhados\\n\\xa0\\n\\xa0\\n\\xa0\\n\\xa0\\n\\xa0\\n\\xa0\\n\\xa0\\n\\xa0\\n\\xa0\\n\\xa0\\neletronicamente.\\xa0\\n\\xad\\nNão será possível acessar serviços externos cuja autenticação exija o uso de certificado\\n\\xa0\\n\\xa0\\n\\xa0\\n\\xa0\\n\\xa0\\n\\xa0\\n\\xa0\\n\\xa0\\n\\xa0 \\xa0\\n\\xa0\\n\\xa0\\n\\xa0\\ndigital, isso quer dizer que serviços como o cadastro geral da OAB ou a Receita Federal\\n\\xa0\\n\\xa0\\n\\xa0\\n\\xa0\\n\\xa0\\n\\xa0\\n\\xa0 \\xa0\\n\\xa0\\n\\xa0\\n\\xa0\\n\\xa0\\n\\xa0 \\xa0\\n\\xa0\\n\\xa0\\nnão serão acessados sem o certificado digital. Desta forma, não será possível incluir\\n\\xa0\\n\\xa0\\n\\xa0\\n\\xa0 \\xa0\\n\\xa0\\n\\xa0\\n\\xa0\\n\\xa0\\n\\xa0\\n\\xa0\\n\\xa0\\n\\xa0\\npartes aos processos se estas partes ainda não estiverem na base de dados do PJe\\n\\xa0\\n\\xa0\\n\\xa0\\n\\xa0\\n\\xa0\\n\\xa0\\n\\xa0\\n\\xa0\\n\\xa0\\n\\xa0\\n\\xa0\\n\\xa0\\n\\xa0\\n\\xa0\\n\\xa0\\nutilizado.\\xa0\\n\\xa0\\n\\xa0\\n\\xa0\\n\\xa0\\n\\xa0\\n3\\xa0\\n\\nIII.\\nProcedimento para criar uma senha de acesso ao sistema\\n \\n \\n \\n \\n \\n \\n \\n \\n \\nsem certificado digital \\nTanto usuários que já possuam certificado digital quando os que ainda não possuam\\n\\xa0\\n\\xa0\\n\\xa0\\n\\xa0\\n\\xa0\\n\\xa0\\n\\xa0\\n\\xa0\\n\\xa0\\n\\xa0\\n\\xa0\\n\\xa0\\n\\xa0\\npoderão cadastrar uma senha de acesso ao PJe. Após o cadastro da senha de acesso ao\\n\\xa0\\n\\xa0\\n\\xa0\\n\\xa0\\n\\xa0\\n\\xa0\\n\\xa0\\n\\xa0\\n\\xa0 \\xa0\\n\\xa0\\n\\xa0\\n\\xa0\\n\\xa0\\n\\xa0\\n\\xa0\\nsistema o usuário poderá efetuar o login utilizando\\xadse do seu CPF (para pessoas físicas) ou de\\n\\xa0 \\xa0\\n\\xa0\\n\\xa0\\n\\xa0 \\xa0\\n\\xa0\\n\\xa0\\n\\xa0\\n\\xa0\\n\\xa0\\n\\xa0\\n\\xa0\\n\\xa0\\n\\xa0\\n\\xa0\\nseu CNPJ (para pessoas jurídicas) e a senha na página inicial do sistema e clicar em “Entrar”,\\n\\xa0\\n\\xa0\\n\\xa0\\n\\xa0\\n\\xa0 \\xa0 \\xa0\\n\\xa0\\n\\xa0\\n\\xa0\\n\\xa0\\n\\xa0\\n\\xa0 \\xa0\\n\\xa0\\n\\xa0\\n\\xa0\\nveja\\xa0a\\xa0tela\\xa0a\\xa0seguir:\\xa0\\n\\xa0\\n\\xa0\\nForam identificados neste tópico quais deverão ser os procedimentos a ser seguidos\\n\\xa0\\n\\xa0\\n\\xa0\\n\\xa0\\n\\xa0\\n\\xa0\\n\\xa0\\n\\xa0\\n\\xa0 \\xa0\\n\\xa0\\n\\xa0\\npara\\xa0os\\xa0usuários\\xa0que\\xa0necessitem\\xa0criar\\xa0uma\\xa0senha\\xa0para\\xa0acesso\\xa0sem\\xa0certificado\\xa0digital.\\xa0\\n\\xa0\\n\\xa0\\n\\xa0\\n4\\xa0\\n\\n1. Novos usuários do sistema \\nUsuários ainda não cadastrados no sistema têm duas opções de cadastro,\\n\\xa0\\n\\xa0\\n\\xa0\\n\\xa0\\n\\xa0\\n\\xa0\\n\\xa0\\n\\xa0\\n\\xa0\\n\\xa0\\n\\xa0\\ndependendo\\xa0da\\xa0posse\\xa0ou\\xa0não\\xa0de\\xa0um\\xa0certificado\\xa0digital.\\xa0\\n\\xa0\\na. Usuário que já possuam um certificado digital \\nNovos usuários do sistema que já possuam o certificado digital, não\\n\\xa0\\n\\xa0\\n\\xa0\\n\\xa0\\n\\xa0\\n\\xa0\\n\\xa0\\n\\xa0\\n\\xa0\\n\\xa0\\n\\xa0\\nprecisarão se deslocar ao tribunal para a realização do cadastramento. No\\n\\xa0\\n\\xa0\\n\\xa0\\n\\xa0\\n\\xa0\\n\\xa0\\n\\xa0\\n\\xa0\\n\\xa0\\n\\xa0\\n\\xa0\\nentanto, primeiramente deverão se cadastrar no sistema, utilizando o certificado\\n\\xa0\\n\\xa0\\n\\xa0\\n\\xa0\\n\\xa0\\n\\xa0\\n\\xa0\\n\\xa0 \\xa0\\n\\xa0\\ndigital, para posteriormente poderem solicitar o cadastro de uma senha de\\n\\xa0\\n\\xa0\\n\\xa0\\n\\xa0\\n\\xa0\\n\\xa0\\n\\xa0\\n\\xa0\\n\\xa0\\n\\xa0\\n\\xa0\\nacesso.\\xa0\\nPortanto, para se cadastrarem no PJe deverão estar de posse do seu\\n\\xa0\\n\\xa0\\n\\xa0\\n\\xa0\\n\\xa0\\n\\xa0\\n\\xa0\\n\\xa0\\n\\xa0\\n\\xa0\\n\\xa0\\n\\xa0\\ncertificado digital e em um equipamento já configurado para o seu uso e deverão\\n\\xa0\\n\\xa0 \\xa0\\n\\xa0\\n\\xa0\\n\\xa0 \\xa0\\n\\xa0\\n\\xa0 \\xa0\\n\\xa0\\n\\xa0 \\xa0\\n\\xa0\\nseguir\\xa0os\\xa0passos:\\xa0\\n1.\\nInsira seu dispositivo identificador na leitora (\\u200bsmartcards\\u200b) ou na\\n\\xa0\\n\\xa0\\n\\xa0\\n\\xa0\\n\\xa0\\n\\xa0\\n\\xa0\\n\\xa0\\n\\xa0\\nporta\\xa0USB\\xa0(\\u200btoken\\u200b).\\xa0\\n2.\\nNa\\xa0tela\\xa0principal\\xa0do\\xa0sistema,\\xa0acione\\xa0o\\xa0botão:\\xa0\\n\\xa0\\n3.\\nNeste momento, o PJe fará uma pesquisa na OAB e na Receita\\n\\xa0\\n\\xa0 \\xa0\\n\\xa0\\n\\xa0\\n\\xa0\\n\\xa0\\n\\xa0\\n\\xa0 \\xa0\\n\\xa0\\n\\xa0\\nFederal e se encontrar o registro do usuário como advogado, fará\\n\\xa0 \\xa0\\n\\xa0\\n\\xa0 \\xa0\\n\\xa0\\n\\xa0\\n\\xa0\\n\\xa0\\n\\xa0\\n\\xa0\\no seu cadastro com o perfil de Advogado, caso contrário o usuário\\n\\xa0\\n\\xa0\\n\\xa0\\n\\xa0 \\xa0\\n\\xa0\\n\\xa0\\n\\xa0\\n\\xa0\\n\\xa0 \\xa0\\n\\xa0\\nserá\\xa0cadastrado\\xa0como\\xa0JusPostulandi;\\xa0\\n5\\xa0\\n\\n4.\\nConfira se os dados estão corretos, inclusive o endereço e o\\n\\xa0\\n\\xa0\\n\\xa0\\n\\xa0\\n\\xa0\\n\\xa0\\n\\xa0\\n\\xa0\\n\\xa0\\n\\xa0 \\xa0\\ntelefone, pois o sistema poderá enviar notificações do PUSH para\\n\\xa0\\n\\xa0 \\xa0\\n\\xa0\\n\\xa0\\n\\xa0\\n\\xa0\\n\\xa0\\n\\xa0\\n\\xa0\\no\\xa0e\\xadmail\\xa0informado.\\xa0\\n5.\\nAcione o botão “Confirmar dados e prosseguir”. O sistema\\n\\xa0\\n\\xa0\\n\\xa0\\n\\xa0\\n\\xa0\\n\\xa0\\n\\xa0\\n\\xa0\\n\\xa0\\napresentará o documento de informações sobre o uso do sistema,\\n\\xa0 \\xa0\\n\\xa0\\n\\xa0\\n\\xa0\\n\\xa0 \\xa0\\n\\xa0\\n\\xa0\\n\\xa0\\nleia\\natentamente\\ne\\nacione\\no\\nbotão\\n“Assinar\\ntermo\\nde\\n\\xa0\\n\\xa0\\n\\xa0\\n\\xa0\\n\\xa0\\n\\xa0\\n\\xa0\\n\\xa0\\n\\xa0\\ncompromisso”;\\xa0\\n6.\\nO sistema deverá apresentar então, a tela de conclusão do\\n\\xa0\\n\\xa0\\n\\xa0\\n\\xa0\\n\\xa0\\n\\xa0\\n\\xa0\\n\\xa0\\n\\xa0\\n\\xa0\\ncadastramento, solicitando que seja realizado novamente o login\\n\\xa0\\n\\xa0\\n\\xa0\\n\\xa0\\n\\xa0\\n\\xa0 \\xa0\\n\\xa0\\nno\\xa0sistema.\\xa0\\n\\xa0\\nPronto!\\nNa\\npróxima\\ntentativa\\nde\\nlogin,\\nvocê\\nserá\\nencaminhado\\n\\xa0\\n\\xa0\\n\\xa0\\n\\xa0\\n\\xa0\\n\\xa0\\n\\xa0\\n\\xa0\\n\\xa0\\ndiretamente para a página do usuário, a mais utilizada pelos usuários no\\n\\xa0\\n\\xa0\\n\\xa0\\n\\xa0\\n\\xa0\\n\\xa0\\n\\xa0\\n\\xa0\\n\\xa0\\n\\xa0\\n\\xa0\\n\\xa0\\nsistema.\\xa0\\nA partir daqui, para o cadastro de uma senha de acesso, siga as\\n\\xa0\\n\\xa0\\n\\xa0\\n\\xa0\\n\\xa0\\n\\xa0\\n\\xa0\\n\\xa0\\n\\xa0\\n\\xa0\\n\\xa0\\n\\xa0\\n\\xa0\\ninstruções descritas neste manual, na sessão “Usuários já existentes com\\n\\xa0\\n\\xa0\\n\\xa0\\n\\xa0\\n\\xa0\\n\\xa0\\n\\xa0\\n\\xa0\\n\\xa0\\n\\xa0\\ncertificado\\xa0digital”.\\xa0\\n\\xa0\\nb. Usuário sem certificado digital \\nNovos usuários que não possuam certificado digital e desejem obter uma\\n\\xa0\\n\\xa0\\n\\xa0\\n\\xa0\\n\\xa0\\n\\xa0\\n\\xa0 \\xa0\\n\\xa0\\n\\xa0\\n\\xa0\\nsenha para acessar o sistema, deverão encaminhar\\xadse para a secretaria do\\n\\xa0\\n\\xa0\\n\\xa0\\n\\xa0\\n\\xa0\\n\\xa0\\n\\xa0\\n\\xa0 \\xa0\\n\\xa0\\n\\xa0\\ntribunal ao qual desejam obter acesso no sistema PJe, munidos dos seguintes\\n\\xa0\\n\\xa0\\n\\xa0\\n\\xa0\\n\\xa0\\n\\xa0\\n\\xa0\\n\\xa0\\n\\xa0\\n\\xa0\\n\\xa0\\n\\xa0\\ndocumentos:\\xa0\\n\\xad\\nCPF, RG e, no caso de advogado, o registro da OAB \\xad para\\n\\xa0\\n\\xa0\\n\\xa0\\n\\xa0\\n\\xa0\\n\\xa0\\n\\xa0\\n\\xa0\\n\\xa0\\n\\xa0\\n\\xa0 \\xa0\\n\\xa0\\npessoas\\xa0físicas;\\xa0\\n\\xad\\nCNPJ e documento de comprovação do relacionamento da\\n\\xa0\\n\\xa0\\n\\xa0\\n\\xa0\\n\\xa0\\n\\xa0\\n\\xa0\\n\\xa0\\npessoa responsável como representante da pessoa jurídica que\\n\\xa0\\n\\xa0\\n\\xa0\\n\\xa0\\n\\xa0\\n\\xa0\\n\\xa0\\n\\xa0\\nse\\xa0pretende\\xa0cadastrar;\\xa0\\n\\xad\\nTambém são necessários um telefone de contato e um e\\xadmail\\n\\xa0\\n\\xa0\\n\\xa0\\n\\xa0\\n\\xa0\\n\\xa0\\n\\xa0 \\xa0\\n\\xa0\\n\\xa0\\npara\\xa0o\\xa0envio\\xa0da\\xa0senha\\xa0de\\xa0acesso;\\xa0\\nO cadastro destes usuários será realizado presencialmente pela equipe\\n\\xa0\\n\\xa0\\n\\xa0\\n\\xa0\\n\\xa0\\n\\xa0\\n\\xa0\\n\\xa0\\n\\xa0\\ndo\\xa0tribunal,\\xa0responsável\\xa0por\\xa0este\\xa0procedimento\\u200b.\\xa0\\n \\n \\n \\n6\\xa0\\n\\n2. Usuário já existente com certificado digital \\nUsuários que já estejam cadastrados no PJe e que já possuam o certificado\\n\\xa0\\n\\xa0\\n\\xa0\\n\\xa0\\n\\xa0\\n\\xa0\\n\\xa0\\n\\xa0\\n\\xa0\\n\\xa0\\n\\xa0 \\xa0\\n\\xa0\\ndigital podem gerar uma senha de acesso para que possam acessar o sistema mesmo\\n\\xa0\\n\\xa0\\n\\xa0\\n\\xa0\\n\\xa0\\n\\xa0\\n\\xa0\\n\\xa0\\n\\xa0\\n\\xa0\\n\\xa0 \\xa0\\n\\xa0\\n\\xa0\\nde equipamentos em que não haja a possibilidade de se \\u200bplugar o certificado digital ou\\n\\xa0\\n\\xa0\\n\\xa0\\n\\xa0\\n\\xa0\\n\\xa0 \\xa0\\n\\xa0\\n\\xa0\\n\\xa0\\n\\xa0 \\xa0\\n\\xa0\\n\\xa0\\n\\xa0\\nque não tenham os \\u200bdrivers necessários para a utilização do dispositivo necessário ao\\n\\xa0\\n\\xa0\\n\\xa0\\n\\xa0\\n\\xa0\\n\\xa0\\n\\xa0 \\xa0\\n\\xa0\\n\\xa0\\n\\xa0\\n\\xa0\\n\\xa0\\nuso do certificado digital. Podendo com isso logar no sistema por qualquer dispositivo\\n\\xa0\\n\\xa0\\n\\xa0\\n\\xa0\\n\\xa0\\n\\xa0\\n\\xa0\\n\\xa0\\n\\xa0\\n\\xa0\\n\\xa0\\n\\xa0\\n\\xa0\\ncom acesso à Internet e que satisfaça os pré\\xadrequisitos do sistema (veja a lista de\\n\\xa0\\n\\xa0 \\xa0\\n\\xa0 \\xa0\\n\\xa0\\n\\xa0\\n\\xa0\\n\\xa0\\n\\xa0\\n\\xa0\\n\\xa0 \\xa0\\n\\xa0\\n\\xa0\\npré\\xadrequisitos\\xa0na\\xa0página\\xa0principal\\xa0do\\xa0sistema,\\xa0no\\xa0\\u200blink\\u200b\\xa0“Pré\\xadrequisitos\\xa0para\\xa0utilização”.\\xa0\\nPara\\xa0obter\\xa0a\\xa0senha\\xa0de\\xa0acesso,\\xa0é\\xa0necessário\\xa0acionar\\xa0o\\xa0botão:\\xa0\\xa0\\nE\\xa0confirmar\\xa0os\\xa0dados\\xa0de\\xa0CPF\\xa0(ou\\xa0CNPJ)\\xa0e\\xa0e\\xadmail\\xa0na\\xa0tela:\\xa0\\nPara que o sistema possa enviar um link para confirmação e criação da senha\\n\\xa0\\n\\xa0 \\xa0\\n\\xa0\\n\\xa0\\n\\xa0\\n\\xa0\\n\\xa0\\n\\xa0\\n\\xa0 \\xa0\\n\\xa0\\n\\xa0\\n\\xa0\\nde\\xa0acesso,\\xa0nesta\\xa0tela:\\xa0\\n7\\xa0\\n\\n\\xa0\\nDigite a senha de acesso nos campos indicados (lembrando que a senha\\n\\xa0 \\xa0\\n\\xa0\\n\\xa0\\n\\xa0\\n\\xa0\\n\\xa0\\n\\xa0\\n\\xa0\\n\\xa0 \\xa0\\n\\xa0\\ndeverá conter letras e números e deverá ter um tamanho entre 8 e 64\\n\\xa0\\n\\xa0\\n\\xa0\\n\\xa0\\n\\xa0\\n\\xa0\\n\\xa0\\n\\xa0\\n\\xa0\\n\\xa0\\n\\xa0\\n\\xa0\\n\\xa0\\n\\xa0\\ncaractéres)\\xa0e\\xa0acione\\xa0o\\xa0botão\\xa0“Cadastrar”\\xa0para\\xa0gerar\\xa0a\\xa0sua\\xa0senha\\xa0de\\xa0acesso.\\xa0\\nO sistema registrará e ativará a senha digitada, logo após a confirmação\\n\\xa0\\n\\xa0\\n\\xa0 \\xa0\\n\\xa0 \\xa0\\n\\xa0\\n\\xa0\\n\\xa0\\n\\xa0 \\xa0\\n\\xa0\\nda ativação da senha acione o botão “Ir para PJE” e teste o procedimento de\\n\\xa0\\n\\xa0\\n\\xa0\\n\\xa0\\n\\xa0 \\xa0\\n\\xa0\\n\\xa0\\n\\xa0\\n\\xa0 \\xa0\\n\\xa0 \\xa0\\n\\xa0\\n\\xa0\\nacesso ao sistema utilizando o seu CPF (ou CNPJ) e a senha cadastrada para o\\n\\xa0\\n\\xa0\\n\\xa0\\n\\xa0 \\xa0\\n\\xa0\\n\\xa0\\n\\xa0\\n\\xa0 \\xa0 \\xa0\\n\\xa0\\n\\xa0\\n\\xa0 \\xa0\\nacesso.\\xa0\\n\\xa0\\n\\xa0\\n\\xa0\\n8\\xa0\\n\\n3. Usuário cadastrado como Push, sem certificado digital \\nO acesso e o cadastro de usuários no Push é utilizado para que usuários\\n\\xa0\\n\\xa0 \\xa0 \\xa0\\n\\xa0\\n\\xa0\\n\\xa0\\n\\xa0\\n\\xa0 \\xa0\\n\\xa0\\n\\xa0\\n\\xa0\\n\\xa0\\nque não possuam o certificado digital possam acompanhar a movimentação de\\n\\xa0\\n\\xa0\\n\\xa0 \\xa0\\n\\xa0\\n\\xa0\\n\\xa0\\n\\xa0 \\xa0\\n\\xa0\\n\\xa0\\nprocessos\\xa0que\\xa0estejam\\xa0disponíveis\\xa0pela\\xa0consulta\\xa0pública.\\xa0\\nPor este acesso é possível que o usuário cadastre um e\\xadmail de contato\\n\\xa0\\n\\xa0\\n\\xa0 \\xa0\\n\\xa0\\n\\xa0 \\xa0\\n\\xa0\\n\\xa0\\n\\xa0\\n\\xa0\\n\\xa0\\n\\xa0\\ne\\xa0os\\xa0processos\\xa0que\\xa0deseja\\xa0acompanhar\\xa0as\\xa0movimentações.\\xa0\\nAo final do dia, o sistema enviará um e\\xadmail a estes usuários sempre que\\n\\xa0\\n\\xa0\\n\\xa0\\n\\xa0 \\xa0\\n\\xa0\\n\\xa0\\n\\xa0\\n\\xa0 \\xa0\\n\\xa0\\n\\xa0\\n\\xa0\\n\\xa0\\nhouver\\xa0alguma\\xa0nova\\xa0movimentação\\xa0nos\\xa0processos\\xa0cadastrados.\\xa0\\nNo entanto, este acesso apenas permite que o usuário cadastre\\n\\xa0\\n\\xa0\\n\\xa0\\n\\xa0\\n\\xa0\\n\\xa0\\n\\xa0\\n\\xa0\\n\\xa0\\n\\xa0\\nprocessos para acompanhamento e tenha uma visão básica dos seus dados,\\n\\xa0\\n\\xa0\\n\\xa0\\n\\xa0\\n\\xa0\\n\\xa0\\n\\xa0\\n\\xa0\\n\\xa0\\n\\xa0\\n\\xa0\\numa visão muito limitada, como se estivesse vendo o processo pela consulta\\n\\xa0\\n\\xa0\\n\\xa0\\n\\xa0\\n\\xa0\\n\\xa0\\n\\xa0\\n\\xa0 \\xa0\\n\\xa0\\n\\xa0\\n\\xa0\\npública\\xa0do\\xa0sistema,\\xa0mesmo\\xa0que\\xa0ele\\xa0seja\\xa0parte\\xa0do\\xa0processo.\\xa0\\nO acesso dos usuários via Push difere\\xadse do acesso direto ao sistema via\\n\\xa0\\n\\xa0\\n\\xa0\\n\\xa0\\n\\xa0\\n\\xa0\\n\\xa0\\n\\xa0\\n\\xa0\\n\\xa0\\n\\xa0\\n\\xa0\\n\\xa0\\nlogin e senha (sem certificado), pois no acesso direto o usuário terá perfis de\\n\\xa0 \\xa0\\n\\xa0\\n\\xa0\\n\\xa0\\n\\xa0\\n\\xa0\\n\\xa0\\n\\xa0 \\xa0\\n\\xa0\\n\\xa0\\n\\xa0\\n\\xa0\\nutilização do sistema. Estes perfis, em regra, permitem que o usuário consiga\\n\\xa0\\n\\xa0\\n\\xa0\\n\\xa0\\n\\xa0\\n\\xa0\\n\\xa0\\n\\xa0\\n\\xa0 \\xa0\\n\\xa0\\n\\xa0\\nvisualizar\\nexpedientes\\n(desde\\nque\\na\\nciência\\njá\\ntenha\\nsido\\ndada), criar\\n\\xa0\\n\\xa0\\n\\xa0\\n\\xa0\\n\\xa0\\n\\xa0\\n\\xa0\\n\\xa0\\n\\xa0\\n\\xa0\\n\\xa0\\ndocumentos e petições (mas não protocolá\\xadlos), visualizar mais dados dos\\n\\xa0\\n\\xa0\\n\\xa0\\n\\xa0\\n\\xa0\\n\\xa0\\n\\xa0\\n\\xa0\\n\\xa0\\n\\xa0\\nprocessos, além dos dados da consulta pública, visualizar todos os processos\\n\\xa0\\n\\xa0\\n\\xa0\\n\\xa0\\n\\xa0\\n\\xa0\\n\\xa0\\n\\xa0\\n\\xa0\\n\\xa0\\n\\xa0\\nem que ele seja parte (não apenas os processos cadastrados no Push) e outras\\n\\xa0\\n\\xa0\\n\\xa0\\n\\xa0\\n\\xa0\\n\\xa0\\n\\xa0\\n\\xa0\\n\\xa0\\n\\xa0\\n\\xa0\\n\\xa0 \\xa0\\n\\xa0\\nfuncionalidades do sistema (respeitadas as restrições descritas neste manual na\\n\\xa0\\n\\xa0\\n\\xa0\\n\\xa0\\n\\xa0\\n\\xa0\\n\\xa0\\n\\xa0\\n\\xa0\\n\\xa0\\nseção\\xa0correspondente\\xa0às\\xa0restrições\\xa0no\\xa0acesso\\xa0sem\\xa0certificado).\\xa0\\n\\xa0\\nFinalmente,\\ndentro\\nda\\nabrangência\\ndeste\\nmanual,\\nos\\nusuários\\n\\xa0\\n\\xa0\\n\\xa0\\n\\xa0\\n\\xa0\\n\\xa0\\n\\xa0\\n\\xa0\\ncadastrados no Push serão considerados novos usuários e portanto, deverão\\n\\xa0\\n\\xa0\\n\\xa0\\n\\xa0\\n\\xa0\\n\\xa0\\n\\xa0 \\xa0\\n\\xa0\\n\\xa0\\nseguir as informações descritas na seção correspondente a “Novos usuários do\\n\\xa0\\n\\xa0\\n\\xa0\\n\\xa0\\n\\xa0\\n\\xa0\\n\\xa0 \\xa0\\n\\xa0\\n\\xa0\\n\\xa0\\nsistema”.\\xa0\\n\\xa0\\n\\xa0\\n\\xa0\\n9\\xa0\\n\\nIV.\\nProcedimento de secretaria nos tribunais \\nCom a disponibilização da possibilidade de criação de senhas de acesso para usuários\\n\\xa0 \\xa0\\n\\xa0\\n\\xa0\\n\\xa0\\n\\xa0\\n\\xa0\\n\\xa0\\n\\xa0\\n\\xa0\\n\\xa0\\n\\xa0\\n\\xa0\\nque não possuam cetificado digital, cabe à secretaria do tribunal a responsabilidade de se\\n\\xa0\\n\\xa0\\n\\xa0\\n\\xa0\\n\\xa0\\n\\xa0\\n\\xa0\\n\\xa0\\n\\xa0\\n\\xa0 \\xa0\\n\\xa0\\n\\xa0\\n\\xa0\\nrealizar\\xa0o\\xa0cadastro\\xa0do\\xa0usuário\\xa0e\\xa0do\\xa0envio\\xa0do\\xa0e\\xadmail\\xa0para\\xa0o\\xa0cadastramento\\xa0da\\xa0senha\\xa0de\\xa0acesso.\\xa0\\nDesta forma, o servidor deverá seguir os seguintes passos para cadastrar o usuário no\\n\\xa0\\n\\xa0 \\xa0\\n\\xa0\\n\\xa0\\n\\xa0\\n\\xa0\\n\\xa0\\n\\xa0\\n\\xa0\\n\\xa0 \\xa0\\n\\xa0\\n\\xa0\\nsistema:\\xa0\\n1.\\nCadastrar o usuário \\xad dependendo da natureza da pessoa que se quer cadastrar\\n\\xa0 \\xa0\\n\\xa0 \\xa0\\n\\xa0\\n\\xa0\\n\\xa0\\n\\xa0\\n\\xa0\\n\\xa0\\n\\xa0\\n\\xa0\\n\\xa0\\ncomo usuário no sistema, pessoa física ou pessoa jurídica, deve\\xadse acessar o\\n\\xa0\\n\\xa0\\n\\xa0\\n\\xa0\\n\\xa0\\n\\xa0\\n\\xa0\\n\\xa0\\n\\xa0\\n\\xa0\\n\\xa0 \\xa0\\nsistema no menu: Configuração > Pessoa > Física ou Configuração > Pessoa\\n\\xa0\\n\\xa0\\n\\xa0\\n\\xa0 \\xa0\\n\\xa0 \\xa0\\n\\xa0\\n\\xa0\\n\\xa0 \\xa0\\n\\xa0\\nJurídica.\\xa0Veja\\xa0a\\xa0tela:\\xa0\\n\\xa0\\n2.\\nAbrir a aba “Pré\\xadCadastro”, inserir o CPF (ou o CNPJ) da pessoa que será\\n\\xa0\\n\\xa0\\n\\xa0\\n\\xa0\\n\\xa0\\n\\xa0\\n\\xa0\\n\\xa0 \\xa0\\n\\xa0\\n\\xa0\\n\\xa0\\n\\xa0\\n\\xa0\\ncadastrada e acionar o botão “Pesquisar”. O sistema buscará por mais\\n\\xa0\\n\\xa0\\n\\xa0\\n\\xa0\\n\\xa0\\n\\xa0\\n\\xa0\\n\\xa0\\n\\xa0\\n\\xa0\\n\\xa0\\ninformações da pessoa na Receita Federal, mostrará o nome desta pessoa e\\n\\xa0\\n\\xa0\\n\\xa0\\n\\xa0\\n\\xa0\\n\\xa0\\n\\xa0 \\xa0\\n\\xa0\\n\\xa0\\n\\xa0 \\xa0\\nsolicitará a confirmação, acione então o botão “Confirmar” para continuar o\\n\\xa0\\n\\xa0\\n\\xa0\\n\\xa0\\n\\xa0\\n\\xa0\\n\\xa0\\n\\xa0\\n\\xa0\\n\\xa0\\n\\xa0\\ncadastro:\\xa0\\n10\\xa0\\n\\n3.\\nPreencha, então, as demais informações do usuário com os dados fornecidos\\n\\xa0\\n\\xa0\\n\\xa0\\n\\xa0\\n\\xa0\\n\\xa0\\n\\xa0\\n\\xa0\\n\\xa0\\n\\xa0\\n\\xa0\\npor\\xa0ele\\xa0pessoalmente\\xa0no\\xa0tribunal:\\xa0\\n\\xa0\\nTela\\xa0de\\xa0cadastro\\xa0de\\xa0pessoa\\xa0física\\xa0\\nTela\\xa0de\\xa0cadastro\\xa0de\\xa0pessoa\\xa0jurídica:\\xa0\\n\\xa0\\n4.\\nAo salvar os dados a pessoa física (ou jurídica) estará cadastrada no sistema,\\n\\xa0\\n\\xa0\\n\\xa0\\n\\xa0 \\xa0\\n\\xa0\\n\\xa0\\n\\xa0\\n\\xa0\\n\\xa0\\n\\xa0\\n\\xa0\\n\\xa0\\nmas não conseguirá acessá\\xadlo ainda, sendo necessário que ela possúa um perfil\\n\\xa0\\n\\xa0\\n\\xa0\\n\\xa0\\n\\xa0\\n\\xa0\\n\\xa0\\n\\xa0\\n\\xa0\\n\\xa0\\n\\xa0\\n\\xa0\\nque\\xa0identifique\\xa0quais\\xa0são\\xa0as\\xa0permissões\\xa0que\\xa0esta\\xa0pessoa\\xa0terá\\xa0no\\xa0sistema.\\xa0\\n\\xad\\nO único perfil disponível para a pessoa jurídica é o de \\u200bJusPostulandi\\u200b,\\n\\xa0\\n\\xa0\\n\\xa0\\n\\xa0\\n\\xa0 \\xa0\\n\\xa0\\n\\xa0 \\xa0 \\xa0\\n\\xa0\\n\\xa0\\nque permite que o representante desta pessoa consiga visualizar\\n\\xa0\\n\\xa0\\n\\xa0\\n\\xa0\\n\\xa0\\n\\xa0\\n\\xa0\\n\\xa0\\n\\xa0\\ndetalhes do processo e expedientes em que a pessoa jurídica é parte ou\\n\\xa0\\n\\xa0\\n\\xa0 \\xa0\\n\\xa0\\n\\xa0\\n\\xa0 \\xa0\\n\\xa0\\n\\xa0 \\xa0\\n\\xa0\\n\\xa0\\ndestinatária.\\xa0\\n\\xad\\nA pessoa física pode receber diversos perfis, mas se ela for uma usuária\\n\\xa0\\n\\xa0\\n\\xa0\\n\\xa0\\n\\xa0\\n\\xa0\\n\\xa0\\n\\xa0\\n\\xa0\\n\\xa0\\n\\xa0\\n\\xa0\\n\\xa0\\nexterna ao tribunal, deverá ser cadastrada como \\u200bAdvogado (se tiver o\\n\\xa0\\n\\xa0\\n\\xa0\\n\\xa0\\n\\xa0\\n\\xa0\\n\\xa0\\n\\xa0\\n\\xa0\\n\\xa0 \\xa0\\ncomprovante válido do vínculo com a OAB [informação que pode ser\\n\\xa0\\n\\xa0\\n\\xa0\\n\\xa0\\n\\xa0\\n\\xa0\\n\\xa0\\n\\xa0\\n\\xa0\\n\\xa0\\n\\xa0\\nconferida\\nno site da OAB nacional em: \\u200bhttp://cna.oab.org.br\\u200b]) que\\n\\xa0\\n\\xa0\\n\\xa0\\n\\xa0\\n\\xa0\\n\\xa0\\n\\xa0\\n\\xa0\\n\\xa0\\npermitirá que a pessoa consiga acessar além dos processos em que é\\n\\xa0\\n\\xa0 \\xa0\\n\\xa0\\n\\xa0\\n\\xa0\\n\\xa0\\n\\xa0\\n\\xa0\\n\\xa0\\n\\xa0 \\xa0\\nparte e dos expedientes que é a destinatária, os processos e os\\n\\xa0\\n\\xa0\\n\\xa0\\n\\xa0\\n\\xa0\\n\\xa0\\n\\xa0\\n\\xa0\\n\\xa0\\n\\xa0\\n\\xa0\\n\\xa0\\nexpedientes das pessoas que representam. Outro perfil que pode ser\\n\\xa0\\n\\xa0\\n\\xa0\\n\\xa0\\n\\xa0\\n\\xa0\\n\\xa0\\n\\xa0\\n\\xa0\\n\\xa0\\n11\\xa0\\n\\ncadastrado é o de \\u200bJusPostulandi\\u200b, este perfil não exige o vínculo da\\n\\xa0\\n\\xa0\\n\\xa0\\n\\xa0\\n\\xa0\\n\\xa0\\n\\xa0\\n\\xa0\\n\\xa0 \\xa0\\n\\xa0\\n\\xa0\\npessoa a nenhum órgão de representação e não exige o vínculo com a\\n\\xa0 \\xa0\\n\\xa0\\n\\xa0\\n\\xa0\\n\\xa0 \\xa0\\n\\xa0\\n\\xa0 \\xa0\\n\\xa0\\n\\xa0 \\xa0\\nOAB, sendo utilizado pelas pessoas que necessitem acessar o sistema\\n\\xa0\\n\\xa0\\n\\xa0\\n\\xa0\\n\\xa0\\n\\xa0\\n\\xa0\\n\\xa0 \\xa0\\n\\xa0\\ncomo\\xa0partes\\xa0de\\xa0processos\\xa0ou\\xa0destinatários\\xa0de\\xa0processos.\\xa0\\n\\xa0\\nPara atribuir um destes papéis ao cadastro das pessoas criadas deve\\xadse\\n\\xa0\\n\\xa0\\n\\xa0\\n\\xa0\\n\\xa0\\n\\xa0\\n\\xa0\\n\\xa0\\n\\xa0\\n\\xa0\\n\\xa0\\nacionar\\xa0ou\\xa0o\\xa0botão\\xa0“Tornar\\xa0advogado/procurador”\\xa0ou\\xa0“Tornar\\xa0\\u200bJusPostulandi\\u200b”;\\xa0\\n\\xa0\\n5.\\nO sistema criará o perfil correspondente para o usuário, mas no caso do perfil de\\n\\xa0\\n\\xa0\\n\\xa0 \\xa0\\n\\xa0\\n\\xa0\\n\\xa0 \\xa0\\n\\xa0\\n\\xa0\\n\\xa0\\n\\xa0\\n\\xa0\\n\\xa0\\n\\xa0\\nadvogado será necessário validar o cadastro, para isso acesse no menu do\\n\\xa0\\n\\xa0\\n\\xa0\\n\\xa0 \\xa0\\n\\xa0\\n\\xa0\\n\\xa0\\n\\xa0\\n\\xa0\\n\\xa0\\n\\xa0\\nsistema a opção de confirmar credenciamento dos advogados em Configuração\\n\\xa0 \\xa0\\n\\xa0\\n\\xa0\\n\\xa0\\n\\xa0\\n\\xa0\\n\\xa0\\n\\xa0\\n\\xa0\\n> Pessoa > Advogado > Confirmar credenciamento, abra os detalhes do\\n\\xa0\\n\\xa0\\n\\xa0\\n\\xa0\\n\\xa0\\n\\xa0\\n\\xa0\\n\\xa0\\n\\xa0\\n\\xa0\\n\\xa0\\nadvogado que se pretende validar o cadastro, complemente os dados da OAB e\\n\\xa0\\n\\xa0\\n\\xa0\\n\\xa0\\n\\xa0 \\xa0\\n\\xa0\\n\\xa0\\n\\xa0\\n\\xa0\\n\\xa0\\n\\xa0 \\xa0\\nclique\\xa0em\\xa0“Nova\\xa0validação\\xa0OAB”;\\xa0\\n\\xa0\\n6.\\nFeita a criação do perfil de \\u200bJusPostulandi ou a validação dos dados do\\n\\xa0\\n\\xa0\\n\\xa0\\n\\xa0\\n\\xa0\\n\\xa0\\n\\xa0\\n\\xa0\\n\\xa0\\n\\xa0\\n\\xa0\\n\\xa0\\n\\xa0\\nadvogado,\\xa0é\\xa0necessário\\xa0enviar\\xa0o\\xa0\\u200blink\\u200b\\xa0para\\xa0a\\xa0criação\\xa0da\\xa0senha.\\xa0O\\xa0botão:\\xa0\\npoderá ser acionado no cadastro de pessoas jurídicas, no cadastro de pessoas\\n\\xa0\\n\\xa0\\n\\xa0\\n\\xa0\\n\\xa0\\n\\xa0\\n\\xa0\\n\\xa0\\n\\xa0\\n\\xa0\\n\\xa0\\n\\xa0\\nfísicas ou no cadastro de Advogado, dependendo do perfil configurado para o\\n\\xa0\\n\\xa0\\n\\xa0\\n\\xa0\\n\\xa0\\n\\xa0\\n\\xa0\\n\\xa0\\n\\xa0\\n\\xa0\\n\\xa0 \\xa0\\nusuário. Acione este botão para que o usuário receba o \\u200blink de cadastro da\\n\\xa0\\n\\xa0\\n\\xa0\\n\\xa0\\n\\xa0\\n\\xa0 \\xa0\\n\\xa0\\n\\xa0 \\xa0\\n\\xa0\\n\\xa0\\n\\xa0\\n\\xa0\\nsenha\\xa0de\\xa0acesso\\xa0em\\xa0seu\\xa0e\\xadmail.\\xa0\\n\\xa0\\n7.\\nApós o envio do \\u200blink\\u200b, é necessário assinar o termo de responsabilidade de uso\\n\\xa0 \\xa0\\n\\xa0\\n\\xa0\\n\\xa0 \\xa0\\n\\xa0\\n\\xa0 \\xa0\\n\\xa0\\n\\xa0\\n\\xa0\\n\\xa0\\n\\xa0\\ndo sistema pelo usuário. Este termo deve ser assinado eletrônicamente pelo\\n\\xa0\\n\\xa0\\n\\xa0\\n\\xa0\\n\\xa0\\n\\xa0\\n\\xa0\\n\\xa0\\n\\xa0\\n\\xa0\\n\\xa0\\nservidor responsável pela verificação e confirmação dos dados do usuário que\\n\\xa0\\n\\xa0\\n\\xa0\\n\\xa0 \\xa0\\n\\xa0\\n\\xa0\\n\\xa0\\n\\xa0\\n\\xa0\\n\\xa0\\nutilizará o sistema. Para assinar este termo deve\\xadse acessar o cadastro de\\n\\xa0\\n\\xa0\\n\\xa0\\n\\xa0\\n\\xa0\\n\\xa0\\n\\xa0\\n\\xa0\\n\\xa0\\n\\xa0\\n\\xa0\\n\\xa0\\nJusPostulandi\\u200b\\xa0ou\\xa0de\\xa0Advogados\\xa0e\\xa0acionar\\xa0o\\xa0botão:\\xa0\\nEste botão será exibido apenas se o usuáio ainda não tiver um termo de\\n\\xa0\\n\\xa0\\n\\xa0\\n\\xa0\\n\\xa0\\n\\xa0\\n\\xa0\\n\\xa0\\n\\xa0\\n\\xa0\\n\\xa0\\n\\xa0\\n\\xa0\\n\\xa0\\ncompromisso assinado, se o usuário tiver o termo assinado este documento será\\n\\xa0\\n\\xa0\\n\\xa0 \\xa0\\n\\xa0\\n\\xa0 \\xa0\\n\\xa0\\n\\xa0\\n\\xa0\\n\\xa0\\n\\xa0\\nmostrado na aba “Documentos do \\u200bJusPostulandi\\u200b” ou aba “Documentos do\\n\\xa0\\n\\xa0\\n\\xa0\\n\\xa0\\n\\xa0\\n\\xa0\\n\\xa0\\n\\xa0\\n\\xa0\\n\\xa0\\nAdvogado”\\xa0dependendo\\xa0do\\xa0perfil\\xa0do\\xa0usuário.\\xa0\\n\\xa0\\n8.\\nAo acionar o botão “Anexar Termo” o sistema exibirá o texto do termo de\\n\\xa0\\n\\xa0\\n\\xa0\\n\\xa0\\n\\xa0\\n\\xa0\\n\\xa0\\n\\xa0\\n\\xa0\\n\\xa0\\n\\xa0\\n\\xa0\\n\\xa0\\n\\xa0\\ncompromisso e mostrará também um botão para a assinatura deste termo.\\n\\xa0\\n\\xa0\\n\\xa0\\n\\xa0\\n\\xa0\\n\\xa0\\n\\xa0\\n\\xa0\\n\\xa0\\n\\xa0\\n\\xa0\\nLeia\\xado atentamente e, ao final, acione o botão “Assinar digitalmente”. Ao fazer\\n\\xa0\\n\\xa0\\n\\xa0\\n\\xa0\\n\\xa0\\n\\xa0 \\xa0\\n\\xa0\\n\\xa0\\n\\xa0\\n\\xa0\\n\\xa0\\nisso, você estará comprovando que o usuário entregou a documentação\\n\\xa0\\n\\xa0\\n\\xa0\\n\\xa0\\n\\xa0\\n\\xa0\\n\\xa0\\n\\xa0\\n\\xa0\\n\\xa0\\n12\\xa0\\n\\nnecessária que comprova a identidade da pessoa e liberará a permissão para\\n\\xa0\\n\\xa0\\n\\xa0 \\xa0\\n\\xa0\\n\\xa0\\n\\xa0 \\xa0\\n\\xa0 \\xa0\\n\\xa0\\n\\xa0\\nque\\xa0ele\\xa0comece\\xa0a\\xa0utilizar\\xa0o\\xa0sistema\\xa0PJe.\\xa0\\n\\xa0\\n9.\\nCom isso, o procedimento do servidor do tribunal para cadastrar o usuário no\\n\\xa0\\n\\xa0 \\xa0\\n\\xa0\\n\\xa0\\n\\xa0\\n\\xa0\\n\\xa0\\n\\xa0\\n\\xa0 \\xa0\\n\\xa0\\n\\xa0\\nsistema estará finalizado, basta então solicitá\\xadlo que acesse o seu e\\xadmail e siga\\n\\xa0\\n\\xa0\\n\\xa0\\n\\xa0\\n\\xa0\\n\\xa0\\n\\xa0\\n\\xa0 \\xa0\\n\\xa0\\n\\xa0 \\xa0\\n\\xa0\\nas\\xa0instruções\\xa0lá\\xa0descritas\\xa0para\\xa0criar\\xa0uma\\xa0senha\\xa0de\\xa0acesso\\xa0ao\\xa0PJe.\\xa0\\n\\xa0\\n1. Possíveis problemas e respostas prováveis \\n\\xa0\\n\\xa0\\n\\xa0\\n13\\xa0\\n\\nV.\\nProcedimentos para o administrador do sistema \\nO administrador do sistema será o responsável pela configuração do sistema para a\\n\\xa0\\n\\xa0\\n\\xa0\\n\\xa0\\n\\xa0 \\xa0\\n\\xa0\\n\\xa0\\n\\xa0\\n\\xa0\\n\\xa0\\n\\xa0 \\xa0\\nutilização ou não da funcionalidade de acesso sem o certificado digital, além de outras\\n\\xa0\\n\\xa0\\n\\xa0\\n\\xa0\\n\\xa0\\n\\xa0\\n\\xa0\\n\\xa0\\n\\xa0\\n\\xa0\\n\\xa0\\n\\xa0\\n\\xa0\\n\\xa0\\nconfigurações\\xa0possíveis\\xa0para\\xa0o\\xa0acesso\\xa0sem\\xa0certificado\\xa0digital.\\xa0\\nEntre as tarefas disponibilizadas para o administrador descreveremos neste manual\\n\\xa0\\n\\xa0\\n\\xa0\\n\\xa0\\n\\xa0 \\xa0\\n\\xa0\\n\\xa0\\n\\xa0\\n\\xa0\\nsobre:\\xa0\\n\\xad\\na habilitação ou restrição do uso da solução de acesso ao sistema sem o\\n\\xa0\\n\\xa0\\n\\xa0\\n\\xa0\\n\\xa0\\n\\xa0\\n\\xa0\\n\\xa0\\n\\xa0\\n\\xa0\\n\\xa0\\n\\xa0\\n\\xa0\\n\\xa0\\ncertificado\\xa0digital;\\xa0\\n\\xad\\na\\xa0configuração\\xa0do\\xa0modelo\\xa0do\\xa0texto\\xa0do\\xa0termo\\xa0de\\xa0compromisso\\xa0de\\xa0uso\\xa0do\\xa0sistema;\\xa0\\n\\xad\\na configuração do modelo do texto que será utilizado para o envio do \\u200blink de\\n\\xa0\\n\\xa0\\n\\xa0\\n\\xa0\\n\\xa0\\n\\xa0\\n\\xa0\\n\\xa0\\n\\xa0\\n\\xa0 \\xa0\\n\\xa0\\n\\xa0\\n\\xa0\\n\\xa0\\ncadastramento\\xa0da\\xa0senha\\xa0do\\xa0sistema;\\xa0\\n\\xad\\nconfiguração no banco de dados de um novo \\u200bhash para alteração da senha na\\n\\xa0\\n\\xa0\\n\\xa0\\n\\xa0\\n\\xa0\\n\\xa0\\n\\xa0\\n\\xa0\\n\\xa0\\n\\xa0\\n\\xa0\\n\\xa0\\n\\xa0\\n\\xa0\\ninterface.\\xa0\\n\\xa0\\n1. Habilitação ou restrição da funcionalidade de acesso sem o certificado\\n \\n \\n \\n \\n \\n \\n \\n  \\n \\ndigital \\nA partir da versão 1.7.0 do sistema PJe nacional, lançada em setembro de 2014,\\n\\xa0\\n\\xa0\\n\\xa0\\n\\xa0\\n\\xa0\\n\\xa0\\n\\xa0\\n\\xa0\\n\\xa0\\n\\xa0\\n\\xa0\\n\\xa0\\n\\xa0\\n\\xa0\\nfoi incluída a possibilidade de acesso sem o certificado digital. No entanto, somente a\\n\\xa0\\n\\xa0 \\xa0\\n\\xa0\\n\\xa0\\n\\xa0\\n\\xa0 \\xa0\\n\\xa0\\n\\xa0\\n\\xa0\\n\\xa0\\n\\xa0 \\xa0\\npartir da versão 1.7.1, lançada em fevereiro de 2014, incluiu\\xadse a possibilidade de se\\n\\xa0\\n\\xa0\\n\\xa0\\n\\xa0\\n\\xa0\\n\\xa0\\n\\xa0\\n\\xa0\\n\\xa0\\n\\xa0 \\xa0\\n\\xa0\\n\\xa0\\n\\xa0\\nhabilitar\\xa0ou\\xa0não\\xa0a\\xa0possibilidade\\xa0de\\xa0o\\xa0usuário\\xa0poder\\xa0acessar\\xa0sem\\xa0o\\xa0certificado\\xa0digital.\\xa0\\nNa configuração dos parâmetros de configuração do sistema, foi criado o\\n\\xa0\\n\\xa0\\n\\xa0\\n\\xa0\\n\\xa0\\n\\xa0\\n\\xa0\\n\\xa0\\n\\xa0\\n\\xa0\\n\\xa0\\nparâmetro: \\u200bloginComCertificado que se não exitir ou se tiver um valor diferente de\\n\\xa0\\n\\xa0\\n\\xa0\\n\\xa0\\n\\xa0\\n\\xa0\\n\\xa0\\n\\xa0\\n\\xa0\\n\\xa0\\n\\xa0\\n\\xa0\\n\\xa0\\ntrue\\u200b, habilitará a possibilidade de acesso ao sistema utilizando usuário e senha, caso\\n\\xa0\\n\\xa0 \\xa0\\n\\xa0\\n\\xa0\\n\\xa0\\n\\xa0\\n\\xa0\\n\\xa0\\n\\xa0 \\xa0\\n\\xa0\\n\\xa0\\ncontrário, ou seja, se o parâmetro exitir com o valor \\u200btrue o sistema não permitirá que\\n\\xa0\\n\\xa0\\n\\xa0\\n\\xa0 \\xa0\\n\\xa0\\n\\xa0\\n\\xa0 \\xa0\\n\\xa0\\n\\xa0 \\xa0\\n\\xa0\\n\\xa0\\n\\xa0\\n\\xa0\\nseja\\xa0feito\\xa0o\\xa0acesso\\xa0sem\\xa0o\\xa0certificado\\xa0digital.\\xa0\\nPara configurar este parâmetro é necessário acessar o sistema com um usuário\\n\\xa0\\n\\xa0\\n\\xa0\\n\\xa0 \\xa0\\n\\xa0\\n\\xa0 \\xa0\\n\\xa0\\n\\xa0\\n\\xa0\\n\\xa0\\nque tenha perfil de administrador e acessar o menu: Configuração > Sistema >\\n\\xa0\\n\\xa0\\n\\xa0\\n\\xa0\\n\\xa0\\n\\xa0\\n\\xa0\\n\\xa0\\n\\xa0\\n\\xa0\\n\\xa0\\n\\xa0\\n\\xa0\\nParâmetro\\xa0e\\xa0pesquisar\\xa0por\\xa0este\\xa0parâmetro\\xa0ou\\xa0cadastrá\\xadlo\\xa0na\\xa0aba\\xa0Formulário,\\xa0assim:\\xa0\\nQuando o parâmetro estiver configurado para não permitir que os usuários\\n\\xa0\\n\\xa0\\n\\xa0\\n\\xa0\\n\\xa0\\n\\xa0\\n\\xa0\\n\\xa0\\n\\xa0\\n\\xa0\\n\\xa0\\nfaçam o acesso sem certificado digital (parâmetro \\u200bloginComCertificado com o valor\\n\\xa0 \\xa0\\n\\xa0\\n\\xa0\\n\\xa0\\n\\xa0\\n\\xa0\\n\\xa0\\n\\xa0 \\xa0\\n\\xa0\\ntrue\\u200b)\\xa0a\\xa0tela\\xa0inicial\\xa0de\\xa0\\u200blogin\\xa0\\u200bno\\xa0sistema\\xa0será\\xa0exibida\\xa0desta\\xa0forma:\\xa0\\n14\\xa0\\n\\n\\xa0\\nQuando o parâmetro estiver configurado de tal forma que se permita o acesso\\n\\xa0 \\xa0\\n\\xa0\\n\\xa0\\n\\xa0\\n\\xa0\\n\\xa0\\n\\xa0\\n\\xa0\\n\\xa0\\n\\xa0 \\xa0\\n\\xa0\\nao\\nsistema utilizando\\xadse usuário e senha (parâmetro \\u200bloginComCertificado não\\n\\xa0\\n\\xa0\\n\\xa0\\n\\xa0\\n\\xa0\\n\\xa0\\n\\xa0\\n\\xa0\\n\\xa0\\n15\\xa0\\n\\nexistente ou com o valor diferente de \\u200btrue\\u200b) a tela inicial de \\u200blogin \\u200bserá exibida da seguinte\\n\\xa0\\n\\xa0\\n\\xa0 \\xa0\\n\\xa0\\n\\xa0\\n\\xa0\\n\\xa0 \\xa0\\n\\xa0\\n\\xa0\\n\\xa0\\n\\xa0\\n\\xa0\\n\\xa0\\n\\xa0\\n\\xa0\\nforma:\\xa0\\xa0\\n2. Configuração do modelo do texto do termo de compromisso \\nEste é o mesmo modelo de documentos utilizado para o \\u200blogin diretamente com o\\n\\xa0 \\xa0 \\xa0\\n\\xa0\\n\\xa0\\n\\xa0\\n\\xa0\\n\\xa0\\n\\xa0 \\xa0\\n\\xa0\\n\\xa0\\n\\xa0 \\xa0\\ncertificado digital. Sendo um termo para o usuário com o perfil de \\u200bJusPostulandi e outro\\n\\xa0\\n\\xa0\\n\\xa0\\n\\xa0\\n\\xa0\\n\\xa0 \\xa0\\n\\xa0\\n\\xa0 \\xa0\\n\\xa0\\n\\xa0\\n\\xa0 \\xa0\\n\\xa0\\npara\\xa0o\\xa0perfil\\xa0Advogado.\\xa0\\nEste termo de compromisso assinado é necessário para que o usuário possa\\n\\xa0\\n\\xa0\\n\\xa0\\n\\xa0\\n\\xa0 \\xa0\\n\\xa0\\n\\xa0\\n\\xa0 \\xa0\\n\\xa0\\n\\xa0\\nutilizar\\xa0o\\xa0sistema,\\xa0independentemente\\xa0de\\xa0utilizar\\xa0ou\\xa0não\\xa0um\\xa0certificado\\xa0digital.\\xa0\\nSendo que a sua assinatura será dada pelo próprio usuário quando este fizer o\\n\\xa0\\n\\xa0 \\xa0\\n\\xa0\\n\\xa0\\n\\xa0\\n\\xa0\\n\\xa0\\n\\xa0\\n\\xa0\\n\\xa0\\n\\xa0\\n\\xa0 \\xa0\\nprimeiro acesso ao sistema utilizando um certificado digital ou poderá ser dada pelo\\n\\xa0\\n\\xa0\\n\\xa0\\n\\xa0\\n\\xa0\\n\\xa0\\n\\xa0\\n\\xa0\\n\\xa0\\n\\xa0\\n\\xa0\\n\\xa0\\n\\xa0\\nservidor do tribunal (possuidor de um certificado digital) que ao comprovar os dados do\\n\\xa0\\n\\xa0\\n\\xa0\\n\\xa0\\n\\xa0\\n\\xa0\\n\\xa0\\n\\xa0\\n\\xa0\\n\\xa0\\n\\xa0\\n\\xa0\\n\\xa0\\n\\xa0\\nusuário\\xa0pessoalmente\\xa0fará\\xa0a\\xa0assinatura\\xa0do\\xa0termo\\xa0de\\xa0compromisso.\\xa0\\nUma vez assinado o termo de compromisso, este não precisará ser assinado\\n\\xa0\\n\\xa0\\n\\xa0\\n\\xa0\\n\\xa0\\n\\xa0\\n\\xa0\\n\\xa0\\n\\xa0\\n\\xa0\\n\\xa0\\n\\xa0\\nnovamente.\\xa0\\nExistem dois modelos de documentos utilizados pelo sistema e ambos deverão\\n\\xa0\\n\\xa0\\n\\xa0\\n\\xa0\\n\\xa0\\n\\xa0\\n\\xa0\\n\\xa0 \\xa0\\n\\xa0\\n\\xa0\\nser criados pelo menu: Configuração > Documento > Modelo > Modelo. Sendo que o ID\\n\\xa0\\n\\xa0\\n\\xa0\\n\\xa0\\n\\xa0 \\xa0\\n\\xa0 \\xa0\\n\\xa0 \\xa0\\n\\xa0\\n\\xa0\\n\\xa0 \\xa0\\n\\xa0\\ndo modelo do termo de compromisso do usuário \\u200bJusPostulandi deverá ser identificado\\n\\xa0\\n\\xa0\\n\\xa0\\n\\xa0\\n\\xa0\\n\\xa0\\n\\xa0\\n\\xa0\\n\\xa0\\n\\xa0\\n\\xa0\\n\\xa0\\npelo parâmetro do sistema \"\\u200bpje:modelo:id:cadastroJusPostulandi\\u200b\" e o ID do modelo\\n\\xa0\\n\\xa0\\n\\xa0\\n\\xa0\\n\\xa0 \\xa0 \\xa0\\n\\xa0\\n\\xa0\\n\\xa0\\ndo\\ncomprovante\\nde\\ncadastro\\ndos\\nadvogados\\npelo\\nparâmetro\\nde\\nsistema\\n\\xa0\\n\\xa0\\n\\xa0\\n\\xa0\\n\\xa0\\n\\xa0\\n\\xa0\\n\\xa0\\n\\xa0\\n\\xa0\\n\"\\u200bpje:modelo:id:cadastroAdvogado\\u200b\".\\xa0\\n\\xa0 \\xa0\\n16\\xa0\\n\\n3. Configuração do modelo do texto do envio do \\u200blink para cadastro da\\n \\n \\n \\n \\n \\n \\n \\n \\n \\n \\n \\n \\nsenha \\n\\xad\\nDeve\\xadse verificar se o modelo de documento de email foi cadastrado. O modelo deve\\n\\xa0\\n\\xa0\\n\\xa0 \\xa0\\n\\xa0\\n\\xa0\\n\\xa0\\n\\xa0\\n\\xa0\\n\\xa0\\n\\xa0\\n\\xa0\\n\\xa0\\n\\xa0\\npossuir\\xa0as\\xa0seguintes\\xa0características:\\xa0\\n\\xad Tipo de modelo de documento: Comprovante cadastro de advogado (ou outro\\n\\xa0\\n\\xa0\\n\\xa0\\n\\xa0\\n\\xa0\\n\\xa0\\n\\xa0\\n\\xa0\\n\\xa0\\n\\xa0\\n\\xa0\\n\\xa0\\ntipo\\xa0que\\xa0melhor\\xa0identifique\\xa0este\\xa0documento)\\xa0\\n\\xad\\xa0Tipo\\xa0de\\xa0petição\\xa0ou\\xa0documento:\\xa0Sistema\\xa0\\n\\xad\\xa0Modelo\\xa0de\\xa0documento:\\xa0Modelo\\xa0de\\xa0mensagem\\xa0de\\xa0criação\\xa0e\\xa0troca\\xa0de\\xa0senha\\xa0\\n\\xad\\xa0Localização:\\xa0a\\xa0cargo\\xa0do\\xa0tribunal\\xa0\\n\\xad Modelo de documento: veja um exemplo na próxima subseção “\\u200bExemplo de\\n\\xa0\\n\\xa0\\n\\xa0\\n\\xa0\\n\\xa0\\n\\xa0\\n\\xa0\\n\\xa0\\n\\xa0\\n\\xa0\\n \\n \\nmodelo de texto do e-mail para alteração/cadastro da senha”\\u200b. \\u200bO modelo deve\\n \\n \\n \\n \\n \\n \\n \\n \\n\\xa0\\n\\xa0\\n\\xa0\\n\\xa0\\nter\\xa0obrigatoriamente\\xa0a\\xa0EL\\xa0\\u200b#{urlAtivacaoSenha}.\\xa0\\n\\xa0\\n\\xad\\nEm seguida, deve\\xadse cadastrar o parâmetro \\u200bidModeloEMailMudancaSenha com o\\n\\xa0\\n\\xa0\\n\\xa0\\n\\xa0\\n\\xa0\\n\\xa0\\n\\xa0\\n\\xa0\\n\\xa0\\nvalor\\xa0do\\xa0ID\\xa0do\\xa0modelo\\xa0de\\xa0documento\\xa0cadastrado\\xa0no\\xa0item\\xa0anterior;\\xa0\\n\\xa0\\n\\xad\\nPara habilitar o envio de email, deve\\xadse definir as seguintes variáveis presentes no\\n\\xa0\\n\\xa0 \\xa0\\n\\xa0\\n\\xa0\\n\\xa0\\n\\xa0\\n\\xa0\\n\\xa0\\n\\xa0\\n\\xa0\\n\\xa0\\n\\xa0\\narquivo\\xa0components.xml:\\xa0\\n\\xad\\xa0\\xa0\\xa0\\xa0\\xa0\\xa0\\xa0\\xa0\\xa0ssl\\xa0\\n\\xad\\xa0\\xa0\\xa0\\xa0\\xa0\\xa0\\xa0\\xa0\\xa0tls\\xa0\\n\\xad\\xa0\\xa0\\xa0\\xa0\\xa0\\xa0\\xa0\\xa0\\xa0debug\\xa0\\n\\xad\\xa0\\xa0\\xa0\\xa0\\xa0\\xa0\\xa0\\xa0\\xa0host\\xa0\\n\\xad\\xa0\\xa0\\xa0\\xa0\\xa0\\xa0\\xa0\\xa0\\xa0password\\xa0\\n\\xad\\xa0\\xa0\\xa0\\xa0\\xa0\\xa0\\xa0\\xa0\\xa0port\\xa0\\n\\xad\\xa0\\xa0\\xa0\\xa0\\xa0\\xa0\\xa0\\xa0\\xa0username\\xa0\\n\\xa0\\n<mail:mail\\xadsession\\nssl=\"false\"\\ntls=\"false\"\\ndebug=\"false\"\\nhost=\"hostname\"\\n\\xa0\\n\\xa0\\n\\xa0\\n\\xa0\\n\\xa0\\npassword=\"senha\"\\xa0port=\"25\"\\xa0username=\"usuario\"\\xa0/>\\xa0\\n \\nExemplo de modelo de texto do e-mail para alteração/cadastro da senha \\nCÓDIGO\\xa0HTML\\xa0(para\\xa0colar\\xa0no\\xa0campo\\xa0de\\xa0texto\\xa0do\\xa0modelo)\\xa0\\n<p>\\xa0\\n<p\\xa0style=\"text\\xadalign:\\xa0center;\">\\xa0\\n<span\\xa0style=\"font\\xadsize:\\xa0small;\">\\xa0\\n<span\\xa0style=\"font\\xadfamily:\\xa0arial,helvetica,sans\\xadserif;\">\\xa0\\n<strong>#{nomeSecaoJudiciaria}</strong>\\xa0\\n</span>\\xa0\\n</span>\\xa0\\n</p>\\xa0\\n<p\\xa0style=\"text\\xadalign:\\xa0center;\">\\xa0\\n17\\xa0\\n\\n<span\\xa0style=\"font\\xadsize:\\xa0small;\">\\xa0\\n<span\\xa0style=\"font\\xadfamily:\\xa0arial,helvetica,sans\\xadserif;\">\\xa0\\n<strong>\\xa0\\n<span\\xa0style=\"font\\xadsize:\\xa0small;\">\\xa0\\n#{nomeSistema}\\xa0\\n</span>\\xa0\\n</strong>\\xa0\\n</span>\\xa0\\n</span>\\xa0\\n</p>\\xa0\\n<p>\\xa0\\n<span\\xa0style=\"font\\xadsize:\\xa0small;\">\\xa0\\n<span\\xa0style=\"font\\xadsize:\\xa0small;\"><br\\xa0/></span>\\xa0\\n</span>\\xa0\\n</p>\\xa0\\n<p>\\xa0\\n<span\\xa0style=\"font\\xadsize:small;\">\\xa0\\n&nbsp;&nbsp;&nbsp;&nbsp;&nbsp;&nbsp;&nbsp;&nbsp;&nbsp;&nbsp;&n\\nbsp;\\xa0Senhor\\xa0Usu&aacute;rio,\\xa0\\n</span>\\xa0\\n</p>\\xa0\\n<p>\\xa0\\n<span\\xa0style=\"font\\xadsize:\\xa0small;\">\\xa0\\n&nbsp;\\xa0&nbsp;\\xa0&nbsp;\\xa0&nbsp;\\xa0&nbsp;\\xa0&nbsp;\\xa0\\nPara\\xa0alterar\\xa0sua\\xa0senha,\\xa0acesse\\xa0o\\xa0endere&ccedil;o\\xa0abaixo:\\xa0\\n</span>\\xa0\\n</p>\\xa0\\n<p\\xa0style=\"text\\xadalign:\\xa0center;\">\\xa0\\n<strong><span\\xa0style=\"font\\xadsize:small;\">\\xa0\\n#{urlAtivacaoSenha}\\xa0\\n</span></strong>\\xa0\\n</p>\\xa0\\n<p>\\xa0\\n<span\\xa0style=\"font\\xadsize:\\xa0small;\">\\xa0\\n<span\\xa0style=\"text\\xadalign:center;\">\\xa0\\n&nbsp;&nbsp;&nbsp;&nbsp;&nbsp;&nbsp;&nbsp;&nbsp;\\xa0\\n&nbsp;&nbsp;&nbsp;&nbsp;\\xa0\\nBras&iacute;lia,\\xa0#{dataAtual}.\\xa0\\n</span></span>\\xa0\\n</p>\\xa0\\n<p\\xa0style=\"text\\xadalign:\\xa0center;\">&nbsp;</p>\\xa0\\n</p>\\xa0\\n\\xa0\\n18\\xa0\\n\\nRESULTADO\\xa0DO\\xa0CÓDIGO\\xa0HTML\\xa0(para\\xa0colar\\xa0no\\xa0campo\\xa0de\\xa0texto\\xa0do\\xa0modelo)\\xa0\\n\\xad\\xad\\xad\\xa0\\n#{nomeSecaoJudiciaria}\\xa0\\n#{nomeSistema}\\xa0\\n\\xa0\\n\\xa0\\nSenhor\\xa0Usuário,\\xa0\\n\\xa0\\xa0\\xa0\\xa0\\xa0\\xa0\\xa0\\xa0\\xa0\\xa0\\xa0\\xa0Para\\xa0alterar\\xa0sua\\xa0senha,\\xa0acesse\\xa0o\\xa0endereço\\xa0abaixo:\\xa0\\n#{urlAtivacaoSenha}\\xa0\\n\\xa0\\xa0\\xa0\\xa0\\xa0\\xa0\\xa0\\xa0\\xa0\\xa0\\xa0\\xa0\\xa0\\xa0Brasília,\\xa0#{dataAtual}.\\xa0\\xa0\\n\\xad\\xad\\xad\\xa0\\n\\xa0\\n4. Alteração do \\u200bhash\\u200b para a troca da senha no banco de dados \\nCaso o sistema não esteja enviando e\\xadmails para a troca de senha, é possível\\n\\xa0 \\xa0\\n\\xa0\\n\\xa0\\n\\xa0\\n\\xa0\\n\\xa0\\n\\xa0 \\xa0\\n\\xa0\\n\\xa0\\n\\xa0 \\xa0\\n\\xa0\\nque\\xa0se\\xa0execute\\xa0o\\xa0seguinte\\xa0procedimento\\xa0manualmente:\\xa0\\n\\xa0\\n1.\\nExecute o script na base de dados para forçar a atualização da senha\\n\\xa0\\n\\xa0\\n\\xa0\\n\\xa0\\n\\xa0\\n\\xa0\\n\\xa0\\n\\xa0\\n\\xa0\\n\\xa0\\n\\xa0\\n\\xa0\\n\\xa0\\nmanualmente:\\xa0\\nupdate\\nacl.tb_usuario_login\\nset\\nhash_ativacao_senha\\n=\\n\\'<HASH>\\',\\n\\xa0\\n\\xa0\\n\\xa0\\n\\xa0\\n\\xa0\\n\\xa0\\nin_status_senha= \\'I\\', dt_validade_senha = current_date + 180 where ds_login =\\n\\xa0\\n\\xa0\\n\\xa0 \\xa0\\n\\xa0 \\xa0\\n\\xa0\\n\\xa0\\n\\xa0 \\xa0\\n\\'<CPF\\xadOU\\xadCNPJ\\xadUSUARIO>\\';\\xa0\\n2.\\nApós a execução do \\u200bscript\\u200b, acesse a seguinte URL para cadastrar uma nova\\n\\xa0\\n\\xa0\\n\\xa0\\n\\xa0\\n\\xa0\\n\\xa0 \\xa0\\n\\xa0\\n\\xa0\\n\\xa0\\n\\xa0\\n\\xa0\\n\\xa0\\nsenha:\\xa0\\nhttp://SERVIDOR:PORTA/pje/Senha/ativacaoSenha.seam?hashCodigoAtivacao\\n=<HASH>&login=<CPF\\xadOU\\xadCNPJ\\xadUSUARIO>\\xa0\\n \\n \\n \\n19\\xa0\\n\\nVI.\\nProcedimentos para os desenvolvedores do sistema \\n1. Simulando o acesso com certificado digital utilizando usuário e senha \\nOs usuários desenvolvedores e a equipe de testes normalmente necessitam\\n\\xa0\\n\\xa0\\n\\xa0\\n\\xa0\\n\\xa0\\n\\xa0\\n\\xa0\\n\\xa0\\n\\xa0\\n\\xa0\\nutilizar o sistema com usuários diferentes dos seus e para verificar o funcionamento\\n\\xa0\\n\\xa0\\n\\xa0\\n\\xa0\\n\\xa0\\n\\xa0\\n\\xa0\\n\\xa0 \\xa0\\n\\xa0\\n\\xa0 \\xa0\\n\\xa0\\ncorreto do sistema, muitas vezes necessitam assinar documentos e testar permissões\\n\\xa0\\n\\xa0\\n\\xa0\\n\\xa0\\n\\xa0\\n\\xa0\\n\\xa0\\n\\xa0 \\xa0\\n\\xa0\\n\\xa0\\nde acesso que só estão habilitadas quando se utiliza um certificado digital. Para isso, foi\\n\\xa0\\n\\xa0\\n\\xa0\\n\\xa0\\n\\xa0\\n\\xa0\\n\\xa0\\n\\xa0\\n\\xa0\\n\\xa0\\n\\xa0\\n\\xa0\\n\\xa0\\n\\xa0\\n\\xa0\\ncriada uma possibilidade de no ambiente de desenvolvimento do sistema, realizar o\\n\\xa0\\n\\xa0\\n\\xa0\\n\\xa0\\n\\xa0\\n\\xa0\\n\\xa0\\n\\xa0\\n\\xa0\\n\\xa0\\n\\xa0 \\xa0\\nacesso sem o uso do certificado digital, mas simulando o seu uso. Para que se consiga\\n\\xa0\\n\\xa0 \\xa0\\n\\xa0\\n\\xa0\\n\\xa0\\n\\xa0\\n\\xa0\\n\\xa0 \\xa0\\n\\xa0\\n\\xa0\\n\\xa0\\n\\xa0\\n\\xa0\\n\\xa0\\nfazer o acesso ao sistema com um usuário e senha, mas com as mesmas permissões\\n\\xa0 \\xa0\\n\\xa0\\n\\xa0\\n\\xa0\\n\\xa0\\n\\xa0\\n\\xa0 \\xa0\\n\\xa0\\n\\xa0\\n\\xa0\\n\\xa0\\n\\xa0\\n\\xa0\\nde\\xa0um\\xa0acesso\\xa0com\\xa0certificado\\xa0e\\xa0senha.\\xa0\\nPara\\xa0isso\\xa0siga\\xa0o\\xa0seguinte\\xa0procedimento:\\xa0\\n1.\\nPrimeiramente, este procedimento não poderá ser utilizado no ambiente de\\n\\xa0\\n\\xa0\\n\\xa0\\n\\xa0\\n\\xa0\\n\\xa0\\n\\xa0\\n\\xa0\\n\\xa0\\n\\xa0\\nprodução. O arquivo de configurações do ambiente PJe utilizado para o\\n\\xa0\\n\\xa0\\n\\xa0\\n\\xa0\\n\\xa0\\n\\xa0\\n\\xa0\\n\\xa0\\n\\xa0\\n\\xa0\\n\\xa0\\ndesenvolvimento,\\xa0POM.XML,\\xa0deverá\\xa0estar\\xa0configurado\\xa0da\\xa0seguinte\\xa0forma:\\xa0\\xa0\\n\\xad\\nprodução=false\\xa0\\n2.\\nO parâmetro de sistema \\u200bmodoTesteCertificado deverá estar configurado com o\\n\\xa0\\n\\xa0\\n\\xa0\\n\\xa0\\n\\xa0\\n\\xa0\\n\\xa0\\n\\xa0\\n\\xa0 \\xa0\\nvalor \\u200btrue \\xad para que o usuário possa assinar documentos sem utilizar um\\n\\xa0\\n\\xa0 \\xa0\\n\\xa0\\n\\xa0\\n\\xa0\\n\\xa0\\n\\xa0\\n\\xa0\\n\\xa0\\n\\xa0\\n\\xa0\\n\\xa0\\ncertificado\\xa0digital\\xa0real;\\xa0\\n3.\\nO parâmetro \\u200bloginComCertificado deverá habilitar a aplicação para o acesso\\n\\xa0\\n\\xa0\\n\\xa0\\n\\xa0\\n\\xa0 \\xa0\\n\\xa0\\n\\xa0 \\xa0\\n\\xa0\\nsem o certificado digital, tendo um valor diferente de \\u200btrue \\xad para que a tela inicial\\n\\xa0 \\xa0\\n\\xa0\\n\\xa0\\n\\xa0\\n\\xa0\\n\\xa0\\n\\xa0\\n\\xa0\\n\\xa0 \\xa0\\n\\xa0\\n\\xa0 \\xa0\\n\\xa0\\n\\xa0\\nde\\xa0\\u200blogin\\u200b\\xa0no\\xa0sistema\\xa0exiba\\xa0os\\xa0campos\\xa0de\\xa0usuário\\xa0e\\xa0de\\xa0senha.\\xa0\\n4.\\nPara acessar o sistema simulando o acesso com um certificado digital, deve\\xadse\\n\\xa0\\n\\xa0 \\xa0\\n\\xa0\\n\\xa0 \\xa0\\n\\xa0\\n\\xa0\\n\\xa0\\n\\xa0\\n\\xa0\\n\\xa0\\nutilizar na URL da tela de login o parâmetro GET: loginComCertificado=true.\\n\\xa0\\n\\xa0\\n\\xa0\\n\\xa0\\n\\xa0\\n\\xa0\\n\\xa0 \\xa0\\n\\xa0\\n\\xa0\\n\\xa0\\nAssim,\\xa0a\\xa0URL\\xa0deverá\\xa0ficar\\xa0parecida\\xa0com\\xa0o\\xa0exemplo:\\xa0\\nhttp://vanadiod04.cnj.jus.br:8080/pjecnj/login.seam?\\u200bloginComCertificado=true\\xa0\\n5.\\nApós acessar a tela inicial de login com o parâmetro para simular o login com o\\n\\xa0\\n\\xa0 \\xa0\\n\\xa0\\n\\xa0\\n\\xa0\\n\\xa0\\n\\xa0 \\xa0\\n\\xa0\\n\\xa0\\n\\xa0 \\xa0\\n\\xa0\\n\\xa0 \\xa0\\ncertificado digital, digite o CPF (ou o CNPJ) e a senha do usuário que se\\n\\xa0\\n\\xa0\\n\\xa0\\n\\xa0\\n\\xa0\\n\\xa0\\n\\xa0\\n\\xa0\\n\\xa0\\n\\xa0\\n\\xa0\\n\\xa0\\n\\xa0\\n\\xa0\\n\\xa0\\npretende\\xa0utilizar\\xa0o\\xa0sistema,\\xa0simulando\\xa0o\\xa0acesso\\xa0com\\xa0o\\xa0certificado\\xa0digital.\\xa0\\n6.\\nAcessando o sistema desta forma o sistema não aplicará as restrições de\\n\\xa0\\n\\xa0\\n\\xa0\\n\\xa0\\n\\xa0\\n\\xa0\\n\\xa0\\n\\xa0\\n\\xa0\\n\\xa0\\n\\xa0\\n\\xa0\\nacesso sem o certificado digital e será possível por exemplo, visualizar\\n\\xa0\\n\\xa0\\n\\xa0\\n\\xa0\\n\\xa0\\n\\xa0\\n\\xa0\\n\\xa0\\n\\xa0\\n\\xa0\\n\\xa0\\nprocessos sigilosos que o usuário possua acesso, registrar a ciência de\\n\\xa0\\n\\xa0\\n\\xa0\\n\\xa0\\n\\xa0\\n\\xa0\\n\\xa0\\n\\xa0\\n\\xa0\\n\\xa0\\n\\xa0\\nexpedientes\\xa0e\\xa0protocolar\\xa0e\\xa0assinar\\xa0petições.\\xa0\\n20\\xa0\\n'),\n",
       " ('../docs/processo_judicial_eletronico_grafica2.pdf',\n",
       "  'CONSELHO\\nNACIONAL\\nDE JUSTIÇA\\n\\nPJe – Processo Judicial Eletrônico\\n2010 Conselho Nacional de Justiça\\n\\t\\nPresidente\\t\\nMinistro Cezar Peluso\\n\\t\\nCorregedora Nacional de Justiça\\t\\nMinistra Eliana Calmon \\n\\t\\nConselheiros\\t\\nMinistro Ives Gandra\\n\\t\\n\\t\\nMilton Nobre\\n\\t\\n\\t\\nLeomar Barros\\n\\t\\n\\t\\nNelson Tomaz Braga\\n\\t\\n\\t\\nPaulo Tamburini\\n\\t\\n\\t\\nWalter Nunes\\n\\t\\n\\t\\nMorgana Richa\\n\\t\\n\\t\\nJosé Adonis Callou de Araújo Sá\\n\\t\\n\\t\\nFelipe Locke Cavalcanti\\n\\t\\n\\t\\nJefferson Kravchychyn\\n\\t\\n\\t\\nJorge Hélio\\n\\t\\n\\t\\nMarcelo Nobre\\n\\t\\n\\t\\nMarcelo Neves\\n\\t\\nSecretário-Geral\\t\\nFernando Marcondes\\n\\t\\nComissão Permanente de Tecnologia \\t  \\n\\t\\nda Informação e Infraestrutura\\t\\nMinistro Cezar Peluso – Presidente da Comissão\\n\\t\\n\\t\\nWalter Nunes da Silva Júnior - Conselheiro\\n\\t\\n\\t\\nFelipe Locke Cavalcanti - Conselheiro\\n\\t\\nComitê-Gestor do Projeto\\t\\nPaulo Cristovão de Araújo Silva Filho - Juiz Auxiliar da Presidência do CNJ\\n\\t\\n\\t\\nMarivaldo Dantas de Araújo - Juiz Auxiliar da Presidência do CNJ\\n\\t\\n\\t\\nAlexandre Libonati de Abreu – Juiz Federal (TRF2)\\n\\t\\n\\t\\nJosé Carlos Vasconcelos Filho – Juiz de Direito (TJPE)\\n\\t\\n\\t\\nMarcelo de Nardi – Juiz Federal (TRF4)\\n\\t\\n\\t\\nMarcelo Mesquita – Juiz de Direito (TJPI)\\n\\t\\n\\t\\nMarco Bruno Miranda Clementino – Juiz Federal (TRF5)\\n\\t\\n\\t\\nMaria Cristina Cristianini Trentini – Desembargadora do Trabalho (CSJT/TRT2)\\n\\t\\n\\t\\nOsmair Couto – Desembargador do Trabalho (CSJT/TRT23)\\n\\t\\n\\t\\nSamuel Alves de Melo Júnior – Desembargador (TJSP)\\n\\t\\n\\t\\nSamuel Hugo Lima – Desembargador do Traballho (CSJT/TRT15)\\nEXPEDIENTE\\n\\t\\nPorta voz do CNJ\\t\\nPedro Del Picchia\\n\\t\\nAssessor-chefe da\\t\\nMarcone Gonçalves \\n\\t\\nComunicação Social do CNJ\\n\\t\\nComunicação Institucional do CNJ\\t\\nTarso Rocha\\n\\t\\nRevisão\\t\\nGeysa Bigonha\\n\\t\\n\\t\\nMaria Deusirene\\n\\t\\nFotos\\t\\nGláucio Dettmar\\n\\t\\n\\t\\nLuiz Silveira\\n\\t\\nArte e Designer\\t\\nDivanir Junior\\n\\n\\t\\nS u m á r i o\\nApresentação     5\\nO processo eletrônico     6\\nEfeitos do processo eletrônico     7\\nHistória do PJe     8\\nA gerência do projeto     8\\nO cronograma     9\\nO que muda?     10\\nFluxos     10\\nAtos ou movimentos?     11\\nProcesso criminal em foco     12\\nSegurança e liberdade     13\\nSer um ou ser muitos, eis a questão     14\\nModelos de documentos     14\\nProdução de documentos no sistema, e não para o sistema     15\\nA visualização do processo     16\\nAjuda em contexto e editável     17\\nPesquisa textual     17\\nRegistro das alterações     18\\nTabelas unificadas     18\\nDistribuição mais transparente e justa     19\\nUso de assinatura digital com certificado     19\\nReplicação automática de informações de gestão     20\\nIntegração com terceiros     20\\nPreparação do tribunal     21\\nEscolha da estratégia de implantação     21\\nPreparação dos recursos humanos     21\\nPreparação do ambiente de tecnologia da informação     22\\nAmbientes dos usuários     22\\nAmbiente dos equipamentos servidores     22\\n\\nCONSELHO\\nNACIONAL\\nDE JUSTIÇA\\n\\nA p r e s e n t a ç ã o\\nO sistema Processo Judicial eletrônico (PJe) é um software elaborado pelo \\nConselho Nacional de Justiça (CNJ) a partir da experiência e com a cola-\\nboração de diversos tribunais brasileiros. \\nO objetivo principal buscado pelo CNJ é elaborar e manter um sistema \\nde processo judicial eletrônico capaz de permitir a prática de atos pro-\\ncessuais pelos magistrados, servidores e demais participantes da relação \\nprocessual diretamente no sistema, assim como o acompanhamento \\ndesse processo judicial, independentemente de o processo tramitar na \\nJustiça Federal, na Justiça dos Estados, na Justiça Militar dos Estados e na \\nJustiça do Trabalho.\\nAlém desse grande objetivo, o CNJ pretende fazer convergir os esforços \\ndos tribunais brasileiros para a adoção de uma solução única, gratuita para \\nos próprios tribunais e atenta para requisitos importantes de segurança e \\nde interoperabilidade, racionalizando gastos com elaboração e aquisição \\nde softwares e permitindo o emprego desses valores financeiros e de \\npessoal em atividades mais dirigidas à finalidade do Judiciário: resolver \\nos conflitos.\\nNeste material, você conhecerá um pouco mais do processo eletrônico, \\nde como ele pode beneficiar a administração da Justiça, como ele está \\nsendo elaborado no sistema PJe e como um tribunal pode se preparar \\npara começar a utilizar essa ferramenta.\\n5\\n\\nIV ENCONTRO NACIONAL DE JUDICIÁRIO\\nO  p r o c e s s o  e l e t r ô n i c o\\nO processo judicial eletrônico, tal como o processo ju-\\ndicial tradicional, em papel, é um instrumento utilizado \\npara chegar a um fim: a decisão judicial definitiva capaz \\nde resolver um conflito. A grande diferença entre um e \\noutro é que o eletrônico tem a potencialidade de redu-\\nzir o tempo para se chegar à decisão. \\nA redução do tempo pode ocorrer de várias maneiras: \\n \\x07extinguindo atividades antes existentes e desnecessá-\\nrias em um cenário de processo eletrônico, tais como \\njuntadas de petições, baixa de agravos de instrumen-\\nto, juntadas de decisões proferidas por Cortes espe-\\nciais ou pelo Supremo Tribunal Federal;\\n \\x07suprimindo a própria necessidade de formação de \\nautos de agravo em razão da disponibilidade inerente \\ndo processo eletrônico;\\n \\x07eliminando a necessidade de contagens e prestação \\nde informações gerenciais para órgãos de controle \\ntais como as corregedorias e os conselhos;\\n \\x07atribuindo ao computador tarefas repetitivas  antes \\nexecutadas por pessoas – e, portanto, propensas a \\nerros –, tais como a contagem de prazos processuais \\ne prescricionais;\\n \\x07otimizando o próprio trabalho nos processos judiciais, \\nacrescentando funcionalidades antes inexistentes \\ncapazes de agilizar a apreciação de pedidos e peças \\nprocessuais;\\n \\x07deslocando a força de trabalho dedicada às ativida-\\ndes suprimidas para as remanescentes, aumentando \\na força de trabalho na área fim;\\n \\x07automatizando passos que antes precisavam de uma \\nintervenção humana;\\n \\x07permitindo a execução de tarefas de forma paralela \\nou simultânea por várias pessoas.\\nEssas medidas têm como resultado a redução do tem-\\npo de atividades acessórias ao processo judicial, permitin-\\ndo que sejam praticados mais atos tendentes à solução do \\nprocesso e, portanto, agilizando a solução dos conflitos.\\nUma comparação razoável seria imaginar o Judiciário \\ncomo um veículo que tem que transportar uma carga de \\num ponto a outro. A carga seria a decisão judicial, o motor, os \\nmagistrados e servidores; e o tempo e o combustível, o custo \\ndo processo judicial. Em um processo tradicional, o Judiciá-\\nrio seria um caminhão pesado, gastando mais combustível \\ne levando mais tempo para chegar ao destino porque seu \\nmotor tem que mover, além da carga “útil”, a carga do pró-\\nprio caminhão. No processo eletrônico, o Judiciário seria um \\nveículo de passeio, com um motor mais leve,  que consegue \\nlevar a carga ao destino mais rápido e com um custo menor.\\nCNJ  DEZEMBRO/2010\\n6\\n\\nsistema Processo Judicial eletrônico (PJe)\\nE f e i t o s  d o  p r o c e s s o  e l e t r ô n i c o\\nEmbora seja apenas um meio, o processo eletrônico \\ntraz algumas mudanças significativas na gestão dos tribu-\\nnais. Há uma verdadeira revolução na forma de trabalhar \\no processo judicial. A essa revolução deve corresponder \\numa revisão das rotinas e práticas tradicionais, porquanto \\no que havia antes deve adaptar-se à nova realidade.\\nA primeira grande mudança é relativa à guarda do pro-\\ncesso. No regime tradicional, o processo judicial fica nas \\nmãos e sob a responsabilidade do diretor de secretaria, \\ndo escrivão, do magistrado e dos advogados. Com o pro-\\ncesso eletrônico, essa responsabilidade recai sobre quem \\ntem a atribuição de guardar os dados da instituição – a \\nárea de tecnologia da informação. O processo eletrônico \\npassa a poder estar em todos os lugares, mas essa facili-\\ndade vem acompanhada da necessidade de ele não estar \\nem qualquer lugar, mas apenas naqueles lugares apro-\\npriados – a tela do magistrado, do servidor, dos advoga-\\ndos e das partes. Isso faz com que a área de tecnologia da \\ninformação se torne estratégica, pareando-se, do ponto \\nde vista organizacional, com as atividades das secretarias \\ne dos cartórios judiciais. \\nA segunda grande mudança deve ocorrer na distri-\\nbuição do trabalho em um órgão judiciário. Em varas de \\nprimeiro grau e em órgãos que processam feitos origi-\\nnários, boa parte do tempo do processo é despendido \\nna secretaria, para a realização de atos processuais de-\\nterminados pelos magistrados. Suprimidas as atividades \\nmecânicas, haverá uma atrofia de secretarias e cartórios, \\nao que corresponderá uma redução do tempo neces-\\nsário para que um processo volte aos gabinetes, que \\nse verão repletos de processos em um curto espaço de \\ntempo. Há a necessidade, portanto, de deslocar a força \\nde trabalho das secretarias e cartórios para os gabinetes \\ndos magistrados. Essa é uma mudança que demonstra \\nde forma cristalina como o processo eletrônico pode \\nlevar a uma melhoria na atividade jurisdicional, já que é \\nlá, no gabinete, que são produzidos os atos que justifi-\\ncam sua existência.\\nO terceiro grande impacto ocorre na cultura estabe-\\nlecida quanto à tramitação do processo judicial. Embo-\\nra ainda não tenham ocorrido mudanças legislativas a \\nrespeito, é certo que o processo eletrônico, em razão de \\nsua ubiquidade, dispensa práticas até hoje justificáveis \\ne presentes nos códigos de processo, como a obrigato-\\nriedade de formação de instrumento em recursos. Mais \\nque isso. Não há mais a necessidade de uma tramita-\\nção linear do processo, o qual, podendo estar em vários \\nlugares ao mesmo tempo, retira qualquer justificativa \\npara a concessão de prazos em dobro em determinadas \\nsituações. Não bastasse isso, como se verá adiante, o \\nPJe inova substancialmente a própria forma de trabalho \\nutilizada.\\nFinalmente, há o impacto do funcionamento ininter-\\nrupto do Judiciário, com possibilidade de peticionamen-\\nto 24 horas, 7 dias por semana, permitindo uma melhor \\ngerência de trabalho por parte dos atores externos e in-\\nternos. Além disso, a disponibilidade possibilita que se \\ntrabalhe de qualquer lugar do mundo, a qualquer hora, o \\nque também causará gigantescas modificações na forma \\ncomo lidamos com o processo.\\nDEZEMBRO/2010  CNJ\\n7\\n\\nIV ENCONTRO NACIONAL DE JUDICIÁRIO\\nH i s t ó r i a  d o  PJ e\\nO projeto PJe – Processo Judicial Eletrônico – foi ini-\\nciado no Conselho Nacional de Justiça, em setembro de \\n2009. Esse começo, na verdade, foi uma retomada dos tra-\\nbalhos realizados pelo CNJ junto com os cinco tribunais \\nregionais federais e com o Conselho da Justiça Federal \\n(CJF). Naquele momento, foram reunidas as experiências \\ndos tribunais federais e, quando o projeto foi paralisado, \\no Tribunal Regional Federal da 5ª Região (TRF5) deu início, \\npor conta própria, à execução. \\nO CNJ e os demais tribunais, ao terem conhecimento \\nde tais circunstâncias, visitaram o TRF5 para conhecer os \\nprocedimentos e concluíram que aquele era o projeto \\nque atendia às restrições mais críticas com grande poten-\\ncial de sucesso, atentando especialmente para a necessi-\\ndade de uso de software aberto, para a conveniência de \\no conhecimento ficar dentro do Judiciário e para o fato \\nde se observar as demandas dos tribunais.\\nApós a celebração do convênio inicial com o CJF e com \\nos cinco regionais federais, o sistema foi apresentado para \\na Justiça do Trabalho e para muitos tribunais de justiça. A \\nJustiça do Trabalho aderiu em peso por meio de convênio \\nfirmado com o Conselho Superior da Justiça do Trabalho \\n(CSJT) e com o Tribunal Superior do Trabalho (TST), os quais \\nfirmaram, por sua vez, convênios com todos os tribunais \\nregionais do trabalho. Aderiram também 16 tribunais de \\njustiça e o Tribunal de Justiça Militar de Minas Gerais.\\nO sistema foi instalado em abril em 2010 na Subseção \\nJudiciária de Natal/RN, pertencente ao TRF5, sendo aper-\\nfeiçoado desde então, assim como instalado em outras \\nseções judiciárias daquele tribunal. Em dezembro de 2010, \\nserá instalada a versão nacional no Tribunal de Justiça de \\nPernambuco e no Tribunal Regional Federal da 3ª Região, \\na partir do que será validada a versão a ser disponibilizada \\npara os demais tribunais que aderiram ao projeto.\\nA  g e r ê n c i a  d o  p r o j e t o\\nO projeto é coordenado pela Comissão de Tecnologia \\nda Informação e Infraestrutura do Conselho Nacional de \\nJustiça, presidida pelo Ministro Cezar Peluso e integrada \\ntambém pelos conselheiros Walter Nunes e Felipe Locke.\\nNa gestão direta, o projeto conta com um comitê for-\\nmado por dois juízes auxiliares da Presidência do Conse-\\nlho Nacional de Justiça e nove magistrados, três de cada \\num dos principais segmentos do Judiciário que fazem \\nparte do projeto. \\nSob esse comitê, há a gerência técnica do projeto, forma-\\nda por três servidores do Judiciário capacitados em gestão \\nde projetos, um grupo gerenciador de mudanças e o grupo \\nde interoperabilidade. O grupo gerenciador de mudanças \\ntem a responsabilidade de tratar das solicitações de mu-\\ndanças a partir do momento da implantação da versão \\nnacional. O grupo de interoperabilidade, por estabelecer \\nas diretrizes de troca de informação entre o Judiciário e os \\noutros participantes da administração da Justiça. Em razão \\ndisso, esse grupo é formado por representantes do Con-\\nselho Nacional do Ministério Público, do Conselho Federal \\nda Ordem dos Advogados do Brasil, da Advocacia-Geral da \\nUnião, da Defensoria Pública da União, de Procuradores de \\nEstado e de Procuradores de Município. \\nCNJ  DEZEMBRO/2010\\n8\\n\\nsistema Processo Judicial eletrônico (PJe)\\nO  c r o n o g r a m a\\nAlém das versões preliminares que já foram instaladas \\nno Tribunal Regional Federal da 5ª Região, o projeto tem \\nquatro versões nacionais previstas para entrega em um \\nano:\\nVersão\\nLançamento\\nCaracterísticas gerais\\n1.0\\ndezembro/2010\\nVersão inicial, com possibilidade de tramitação de processos judiciais de qualuqer natureza, mas focado \\nno processo civil, contemplando replicação de dados e distribuição objetiva dos processos judiciais\\n1.2\\nmarço/2011\\nVersão contemplando características específicas dos processos criminais e automatização de ritos \\nprocessuais específicos decorrentes da definição de fluxos por classes\\n1.4\\njunho/2011\\nInclusão de características de interoperabilidade com sistemas externos mais robustas, suprimindo-se a \\nnecessidade de os magistrados ou servidores fazerem uso de sistemas de terceiros para praticar atos de \\ninteresse do processo judicial\\n2.0\\ndezembro/2011\\nRevisão da forma de gravação de documentos processuais, permitindo um maior controle da atuação.\\nOs detalhes de cada uma das versões podem ser con-\\nsultados pelos representantes dos tribunais participantes \\nno portal do projeto no sítio de colaboração do Conselho \\nNacional de Justiça\\nhttp://colaboracao.cnj.jus.br/projects/show/sisprocessual.\\nDEZEMBRO/2010  CNJ\\n9\\n\\nIV ENCONTRO NACIONAL DE JUDICIÁRIO\\nF l u x o s\\nO PJe já está fazendo uso de fluxos para a definição \\nde como o processo judicial deverá tramitar. É possível \\natribuir um fluxo diferente para cada uma das classes pro-\\ncessuais existentes. Quanto mais específico o fluxo, mais \\nfácil será automatizar tarefas de gabinete e secretaria. \\nÀ primeira vista, pode ser que pensemos que essa é \\numa característica dispensável. A experiência mostra, no \\nentanto, que ela é essencial. \\nCom honrosas exceções, a grande maioria dos sistemas \\nprocessuais trabalha em dois extremos no que concerne \\nà tramitação ou ao acompanhamento da tramitação dos \\nprocessos judiciais. \\nDe um lado, temos o engessamento total: o sistema \\ntem em seu código os passos passíveis de serem pratica-\\ndos e alteração dessa via reclama reescrever o programa \\nem algum grau.\\nDo outro lado, temos a liberdade absoluta: o sistema \\npermite que o usuário pratique qualquer ato. Não há li-\\nmites e, em razão disso, surge o problema dos erros rei-\\nterados: sem freio, uma desatenção momentânea pode \\nfazer com que um processo siga um tortuoso caminho, in-\\nclusive com a possibilidade da anulação da decisão. Mais \\nque isso, a liberdade total não vem sem outro custo: uma \\nimensa dificuldade em automatizar procedimentos, já que \\nsempre é necessária uma intervenção humana para, fa-\\nzendo uso da inteligência, informar à máquina qual deve \\nser o próximo passo.\\nO PJe, com seus fluxos configuráveis, fica entre esses \\ndois extremos. Embora se possa definir caminhos mais \\nrígidos se isso for conveniente ou necessário, a alte-\\nração dos fluxos não depende da reescrita do sistema \\nou do pessoal da TI, mas da atuação de alguém que \\nconhece processo judicial, muito provavelmente um \\nservidor especialista do tribunal. Além disso, esses ca-\\nminhos rígidos podem levar à automatização de tarefas \\nrepetitivas. Finalmente, pode-se definir caminhos tão \\namplos que estaríamos simulando a situação da liber-\\ndade absoluta. Tudo depende de como se quer ver o \\nsistema funcionar.\\nO  q u e  m u d a ?\\nO sistema PJe trará uma verdadeira revolução ao Judiciário Brasileiro. \\nNeste tópico, apresentamos uma relação das grandes quebras de \\nparadigma que ele acarretará.\\nCNJ  DEZEMBRO/2010\\n10\\n\\nsistema Processo Judicial eletrônico (PJe)\\nA t o s  o u  m o v i m e n t o s ?\\nO PJe estimula, igualmente, uma significativa mudança \\nna forma de se conduzir processos judiciais em secretaria. \\nOrdinariamente, o acompanhamento eletrônico da tra-\\nmitação de processos judiciais é feito em um regime de \\npós-fato: pratica-se um ato e, então, registra-se que ele \\naconteceu por meio do lançamento de movimentações. \\nNo PJe, os fluxos permitem que essa lógica seja alterada: \\npratica-se o ato e lança-se a movimentação no mesmo \\nmomento. Em situações específicas, o magistrado e o \\nservidor nem sequer perceberão que a movimentação \\nfoi lançada porque isso é feito independentemente de \\numa atuação dirigida ao lançamento. \\nEssa nova abordagem trará significativo benefício à tra-\\nmitação de processos, visto que o tempo perdido com o \\nlançamento de movimentações será aproveitado na práti-\\nca dos próprios atos, reduzindo o custo do processo. Esses \\nbenefícios mais intensos à medida que, com a experiência, \\nos fluxos processuais sejam otimizados.\\nDEZEMBRO/2010  CNJ\\n11\\n\\nIV ENCONTRO NACIONAL DE JUDICIÁRIO\\nP r o c e s s o  c r i m i n a l  e m  f o c o\\nO PJe também trata de forma inovadora \\no processo criminal. Partindo-se da cons-\\ntatação de que é indispensável agregar in-\\nformações individualizadas sobre delitos \\ne informações que interferem no curso \\ndo processo criminal, foi criado no CNJ \\ngrupo específico para tratar do tema, en-\\nvolvendo magistrados e servidores, tanto \\nda área judiciária quanto de tecnologia da \\ninformação.\\nComo resultado, estão sendo elabo-\\nradas funcionalidades que primam por \\nabranger todo o espectro do processo \\ncriminal, da tramitação do inquérito à re-\\nabilitação criminal, passando pelo acom-\\npanhamento da execução penal.  As \\ninformações de prisão, soltura, condena-\\nção são armazenadas de forma individu-\\nal – por réu – chegando-se ao detalhe de \\nindicar a magistrados e servidores quais \\npenas estão previstas para cada tipo penal.\\nTudo isto permitirá um controle muito \\nmais efetivo pelas partes, pelos procura-\\ndores e pelos magistrados, com verifica-\\nção dos riscos de prescrição punitiva e \\nexecutória, registro dos fatos de interesse \\npara a execução criminal, contagens au-\\ntomáticas de prazos de cumprimento e \\noutras facilidades que reduzirão o tempo \\nde análise dos processos criminais.\\nPoderemos ainda expedir certidões \\nnacionais e trocar informações com os \\nórgãos de segurança pública de forma \\nmais eficiente.\\nCNJ  DEZEMBRO/2010\\n12\\n\\nsistema Processo Judicial eletrônico (PJe)\\nS e g u r a n ç a  e  l i b e r d a d e\\nO Processo Judicial eletrônico traz para \\no processo eletrônico uma liberdade que \\nera onipresente em sistemas de acompa-\\nnhamento processual e que se perdeu \\ncom a implantação de sistemas de pro-\\ncesso eletrônico: a de definir com preci-\\nsão quais os poderes de um determinado \\nusuário. A regra geral é que, nos novos sis-\\ntemas, criavam-se “perfis” e se instaurava \\numa sistemática de “tudo ou nada”: ou se \\natribui ou não se atribui um perfil.\\nNo PJe, embora essa sistemática de \\nperfis possa ser mantida, os administra-\\ndores de uma comarca ou subseção e \\nos administradores de Órgãos judiciários \\npodem definir com extrema precisão o \\nque pode ou não ser acessado por um \\nusuário. Assim, ele pode atribuir um perfil \\npré-definido, mas também pode acres-\\ncentar recursos àquele usuário específico, \\nsem precisar entrar em contato com a TI \\npara alterar o perfil – procedimento que, \\ninclusive, pode ter impacto negativo em \\noutras unidades judiciárias. \\nTem-se, portanto, mais liberdade para \\ndefinição dos poderes de cada usuário da \\nunidade, o que contribui para a segurança \\ndo trâmite do processo judicial, porquanto \\no magistrado, o escrivão ou o diretor de se-\\ncretaria poderão delegar poderes somente \\nàqueles que efetivamente têm a responsa-\\nbilidade para os exercer, sem serem obri-\\ngados a escolher entre um perfil poderoso, \\nmas que não poderia ser dado a um deter-\\nminado usuário, e um perfil débil, que não \\ntrará as funcionalidades necessárias para \\num adequado andamento da vara.\\nDEZEMBRO/2010  CNJ\\n13\\n\\nIV ENCONTRO NACIONAL DE JUDICIÁRIO\\nS e r  u m  o u  s e r  m u i t o s ,  e i s  a  q u e s t ã o\\nAlém da facilidade de definir os perfis, é possível no PJe \\natribuir mais de um perfil a um mesmo usuário, inclusive \\nem localidades ou órgãos diferentes.\\nAo lado da possibilidade de se utilizar perfis padroniza-\\ndos sem a necessidade de modificação para usuário idên-\\ntico, a ideia é permitir a otimização dos recursos humanos, \\ncom a possibilidade de um mesmo servidor do Judiciário \\natuar em órgãos ou varas diversas sem a necessidade de \\ndeslocamento físico ou de nova lotação. \\nCom isso, aquelas varas ou secretarias assoberbadas \\npoderão receber auxílio momentâneo de servidores lo-\\ntados em varas que estão com demanda aquém de sua \\ncapacidade regular. \\nM o d e l o s  d e  d o c u m e n t o s\\nA utilização de modelos de documentos pessoais ou de \\num determinado Órgão é prática amplamente difundida \\nno Judiciário. Essa reutilização estimula a existência de \\npadrões, reduz a possibilidade de erros e agiliza o tempo \\nde aprendizagem de novos integrantes das equipes.\\nO PJe não poderia, em razão disso, deixar de prever a \\nutilização de modelos de documentos. Avança-se já na \\nversão inicial, permitindo-se a classificação de modelos, \\no que viabiliza a automatização dos fluxos processuais. \\nAdmite-se ainda que os atores externos, notadamente \\nos advogados de escritórios pessoais ou de menor por-\\nte, mantenham seus modelos mais comuns no sistema, \\ncolaborando-se assim com a agilidade do processo.\\nNas versões futuras, essa sistemática estará melhora-\\nda com a adoção de taxonomia mais estável de tipos de \\ndocumentos e com a possibilidade de estruturação dos \\ndocumentos apresentados pelas partes e produzidos no \\npróprio sistema, por elas ou pelos servidores do Judiciário\\nCNJ  DEZEMBRO/2010\\n14\\n\\nsistema Processo Judicial eletrônico (PJe)\\nO PJe estimula o advogado e os demais \\nparticipantes do processo judicial a elaborem \\nseus documentos no próprio sistema, utili-\\nzando editor de texto integrado ao navegador \\nWeb.\\nEsse estímulo tem várias razões de ser: não \\nse obriga o advogado nem o tribunal a ad-\\nquirir processadores de texto proprietários \\ncom alto custo para as organizações; os do-\\ncumentos produzidos têm reduzido tamanho \\nde armazenamento e transmissão, permitin-\\ndo manter a infraestrutura de comunicação \\nmais modesta e garantindo maior velocidade \\npara acesso ao conteúdo; os documentos são \\nfacilmente indexáveis por ferramentas auto-\\nmáticas, facilitando pesquisas rápidas em seus \\nmetadados e conteúdos.\\nÉ claro que os editores utilizados têm alguns \\nrecursos a menos que aqueles constantes em \\nprocessadores de texto, mas é certo que essas \\nlimitações têm pouco ou nenhum impacto \\nsobre a produção de um documento jurídi-\\nco, como são aqueles com os quais tratamos. \\nMais à frente, os benefícios decorrentes disso \\nsurgirão na forma de jurisprudências mais \\nselecionadas, facilidade de uso e visualização.\\nP r o d u ç ã o  d e  d o c u m e n t o s  n o  s i s t e m a ,  e  n ã o  p a r a  o  s i s t e m a\\nDEZEMBRO/2010  CNJ\\n15\\n\\nIV ENCONTRO NACIONAL DE JUDICIÁRIO\\nUm dos grandes calcanhares dos \\nsistemas processuais eletrônicos é \\na visualização do processo. Sair de \\num encarte de peças processuais \\nsequenciais para uma sequência de \\ncliques e janelas múltiplas é doloro-\\nso para quem lida tradicionalmente \\ncom processos judiciais. \\nNo PJe, isso é facilitado pelo uso de \\num novo visualizador capaz de mostrar \\nas peças sequencialmente, sem a ne-\\ncessidade de abrir novas janelas e com \\na apresentação simultânea de alguns \\nmetadados sobre a peça sob visualiza-\\nção. Essa nova forma de ver o processo, \\ncombinada com o uso de dois moni-\\ntores nos computadores de quem vai \\noperar o sistema, permitirá ganho sig-\\nnificativo de produtividade, chegando \\npróximo ao uso direto dos autos.\\nMais à frente, com a inclusão de \\nmarcadores personalizados nos do-\\ncumentos, esse ganho se tornará \\nainda maior, muito provavelmente \\ntornando o processo eletrônico subs-\\ntancialmente mais fácil de examinar \\nque os processos tradicionais.\\nA  v i s u a l i z a ç ã o  d o  p r o c e s s o\\nCNJ  DEZEMBRO/2010\\n16\\n\\nsistema Processo Judicial eletrônico (PJe)\\nA j u d a  e m  c o n t e x t o  e  e d i t á v e l\\nAjudar o usuário a entender como funciona um siste-\\nma é um dos grandes desafios de quem o elabora. No \\nPJe, isso pode ser feito de forma colaborativa e de modo \\nmuito mais intuitivo em razão da ajuda contextual e da \\nutilização do formato wiki na produção da ajuda.\\nEssas expressões significam que, ao clicar na ajuda, o \\nusuário não se deparará com um índice da ajuda, mas \\ncom o texto relativo especificamente à página que es-\\ntava aberta no momento em que ele clicou. Além disso, \\no próprio texto da ajuda não é estável, e sim editável \\npor usuários selecionados pelo tribunal, de modo \\nque ela ganha o dinamismo próprio das ferramentas co-\\nlaborativas hoje amplamente conhecidas. Se encontrada \\numa dúvida não esclarecida, o editor da ajuda pode, des-\\nde logo, modificar o texto para que todos, e não apenas \\naquele que perguntou, tomem conhecimento da solução.\\nP e s q u i s a  t e x t u a l\\nO PJe também inova no que concerne à pesquisa de \\ndados. Em vez de extensos formulários, o usuário pode \\nusar um campo de pesquisa que funciona da maneira já \\nconsagrada nas ferramentas de busca da internet.\\nTudo aquilo que for indexável e acessível ao usuário \\nficará acessível de forma rápida e eficiente. E isso não pre-\\njudica a pesquisa tradicional com a aplicação de filtros em \\ntelas de trabalho.\\nDEZEMBRO/2010  CNJ\\n17\\n\\nIV ENCONTRO NACIONAL DE JUDICIÁRIO\\nR e g i s t r o  d a s  a l t e r a ç õ e s\\nJá obedecendo a requisito previsto no MoReq-Jus apro-\\nvado pela Resolução n. 91, o PJe armazena registros de \\ntodas as alterações ocorridas no sistema para eventual \\nnecessidade de posterior auditoria.\\nA medida, em vez de ser mero preciosismo, é imprescin-\\ndível em um momento em que o processo sai do campo \\nfísico, no qual temos a sensação de segurança quanto à \\nimutabilidade dos atos processuais, para o campo do vir-\\ntual, no qual a sensação mais comum é a de imaterialidade.\\n \\xa0\\nT a b e l a s  u n i f i c a d a s\\nO PJe também já trará consigo as \\ntabelas unificadas nacionais. As alte-\\nrações futuras dessas tabelas serão \\nacompanhadas da atualização do \\nPJe, evitando o retrabalho que hoje \\nexiste quando elas são republicadas.\\nCNJ  DEZEMBRO/2010\\n18\\n\\nsistema Processo Judicial eletrônico (PJe)\\nA distribuição dos processos judi-\\nciais é até hoje um grande problema \\ndos tribunais brasileiros. Há uma sen-\\nsação de falta de transparência que, \\ninfelizmente, colabora para formar \\numa imagem negativa do Poder Ju-\\ndiciário. Do lado interno, muitos ma-\\ngistrados têm a sensação de injustiça \\nna distribuição do trabalho.\\nNo PJe, a distribuição recebeu uma \\nespecial atenção. Embora seja pos-\\nsível manter o modelo atual mais \\ncomum, fundado na igualdade de \\nprocessos entre classes processuais, a \\ndistribuição será regida por um con-\\njunto de fatores que levarão a medir \\no verdadeiro trabalho decorrente do \\nprocesso. Esses fatores podem ser \\ntrabalhados pelas corregedorias e \\npresidências de modo a deixar claros \\nos critérios adotados, e justa a distri-\\nD i s t r i b u i ç ã o  m a i s  t r a n s p a r e n t e  e  j u s t a\\nbuição da carga de trabalho, sem que \\nisso afete o princípio do Juiz Natural \\ne a obrigação legal de sorteio dos \\nprocessos entre os igualmente com-\\npetentes. \\nO trabalho foi realizado com a \\nparticipação de representantes es-\\npecialistas na área de distribuição de \\ndiversos tribunais brasileiros e con-\\ntempla praticamente todas as hipó-\\nteses possíveis, tornando objetiva a \\ndistribuição.\\nFinalmente, a sistemática é cercada \\nde cuidados que permitirão demons-\\ntrar para os jurisdicionados a retidão \\nna distribuição dos processos.\\nO PJe trabalhará desde o início com \\no uso de assinaturas digitais com \\nbase em certificados da estrutura do \\nICP-Brasil. Trata-se de medida tam-\\nbém prevista no modelo de requi-\\nsitos de sistemas judiciários que as-\\nsegurará características importantes \\npara a segurança do processo judicial \\neletrônico.\\nMais adiante, esse recurso permi-\\ntirá que o advogado, entregando \\ndocumentos eletrônicos assinados, \\npossa repassar a tarefa de protocolo \\npara seus auxiliares, reduzindo, assim, \\na necessidade de interação direta \\ncom o sistema.\\nU s o  d e  a s s i n a t u r a  d i g i t a l  c o m  c e r t i f i c a d o\\nDEZEMBRO/2010  CNJ\\n19\\n\\nIV ENCONTRO NACIONAL DE JUDICIÁRIO\\nR e p l i c a ç ã o  a u t o m á t i c a  d e  i n f o r m a ç õ e s  d e  g e s t ã o\\nO Conselho Nacional de Justiça e os demais conselhos \\nsolicitam periodicamente informações aos tribunais. Es-\\nsas informações são utilizadas para a tomada de decisões \\nestratégicas de gestão e de política legislativa no Poder \\nJudiciário. Embora extremamente importantes, a produ-\\nção das informações consomem muitos recursos dos \\ntribunais, que alocam servidores e outros recursos para \\nessas atividades. Essa, inclusive, é uma das mais recorren-\\ntes reclamações dos magistrados.\\nNo PJe, a maior parte das informações serão replicadas \\nautomaticamente, sem necessidade de alocação de re-\\ncursos dos tribunais, o que liberará os recursos e pessoal \\npara outras atividades mais vinculadas ao fim do Poder \\nJudiciário. Além disso, essa replicação automatizada per-\\nmitirá a concretização de serviços essenciais para nosso \\nsistema atual, tais como a emissão de certidões negativas \\ne a verificação de prevenção nacional.\\nI n t e g r a ç ã o  c o m  t e r c e i r o s\\nO PJe também permitirá a integração dos tribunais com \\nsistemas de terceiros colaboradores do Judiciário e, mais \\nadiante, com sistemas de escritórios de advocacia. As pro-\\ncuradorias e escritórios de advocacia poderão, em razão \\ndisso, trabalhar em seus próprios sistemas. A comunicação \\nentre esses sistemas e o dos tribunais será feita exclusiva-\\nmente pelos computadores.\\nIsso tem por efeito direto uma melhor aceitação do sis-\\ntema pelos atores externos, com a redução do impacto \\nsobre suas atividades, além do efeito indireto de reduzir \\nas demandas de infraestrutura para tratamento das soli-\\ncitações nos sítios de internet dos tribunais. \\nO sistema já está integrado com a Secretaria da Recei-\\nta Federal do Brasil – o que facilita o cadastramento das \\npartes e evita a multiplicação de homônimos – e com o \\nConselho Federal da Ordem dos Advogados do Brasil – \\nque valida o cadastro de advogados no sistema. \\nPretende-se, nas versões futuras, concluir a integração \\ncom as procuradorias, com o Ministério Público e com os \\nCorreios, além de outros órgãos que têm intensa ligação \\ncom o Judiciário.\\nCNJ  DEZEMBRO/2010\\n20\\n\\nsistema Processo Judicial eletrônico (PJe)\\nP r e p a r a ç ã o  d o  t r i b u n a l\\nA instalação de novo sistema processual não é algo \\nsimples. Como se viu no transcorrer do texto, há muitas \\nmudanças e o ser humano naturalmente é avesso a elas. \\nAlém disso, é imprescindível a preparação da infraestru-\\ntura do tribunal para receber o sistema a fim de evitar \\nsurpresas no futuro.\\nEm razão disso, apresentamos a seguir um guia rápido, \\nmas não exaustivo, do que deve ser feito. Ele deve ser \\ncomplementado considerando as características próprias \\nde cada tribunal.\\nE s c o l h a  d a  e s t r a t é g i a  d e  i m p l a n t a ç ã o\\nO primeiro passo para a instalação do sistema é es-\\ncolher uma estratégia de implantação. A instalação em \\nmúltiplas frentes tem a desvantagem de potencializar o \\nefeito de problemas simples, já que este se reproduzirá \\nem vários pontos ao mesmo tempo. Por outro lado, ins-\\ntalar em apenas um ponto pode ocultar a emergência de \\ndesafios que seriam localizados em outras varas. \\nO ideal é partir para a implantação em sistema de piloto, \\napós breve homologação e treinamento dos usuários da \\nunidade piloto, que também deverá ser escolhida entre \\nas que têm maior tendência de colaborar com a implanta-\\nção. Essa boa vontade é imprescindível para que a comu-\\nnicação seja estabelecida e as soluções para os inevitáveis \\nproblemas sejam alcançadas.\\nDo ponto de vista da competência, a utilização em pi-\\nloto reclama delimitação clara para evitar confusões com \\nos atores externos. Além disso, é fundamental ter planos \\nde contingência para os casos em que seja impossível o \\ntratamento dos casos via sistema.\\nP r e p a r a ç ã o  d o s  r e c u r s o s  h u m a n o s\\nPara a instalação de novo sistema, o primeiro passo é \\npreparar os recursos humanos. São os servidores do Judi-\\nciário que darão vida ao sistema e, na falta deles e da sua \\nboa vontade, qualquer iniciativa fracassará.\\nÉ necessário, portanto, que sejam abertas duas frentes \\npara essa preparação: treinamento do pessoal da área de \\ntecnologia da informação e treinamento de servidores da \\nárea fim quanto à configuração e uso do sistema.\\nO pessoal da área de TI deve estar preparado para ins-\\ntalar e manter o sistema, assim como encontrar, reparar \\ne reportar erros. Nesse ponto, a comunicação é o grande \\nfator determinante. O CNJ ofertou e prosseguirá oferecen-\\ndo cursos para que o pessoal de TI se prepare para o uso \\ndo sistema. Além dessa capacitação, é importante que ao \\nmenos dois servidores de TI acompanhem a configuração \\ndo sistema para tirarem dúvidas dos servidores da área \\njudiciária e busquem neles o esclarecimento daquelas \\nrelativas ao que se quer na configuração.\\nNa área judiciária, devem ser preparados servidores para \\nas seguintes áreas: administração do sistema; administra-\\nção de órgão julgador e uso em geral. A configuração \\nda administração do sistema, por ocasião da instalação \\ndo PJe pelo CNJ, deve ser acompanhada pelos servidores \\nda área responsável, o que dará uma substancial base de \\nconhecimento. A administração de órgão julgador deve-\\nrá ser preparada para multiplicadores, preferencialmente \\na começar pelos órgãos que funcionarem como piloto. \\nIgual estratégia deve ser adotada quanto aos usuários.\\nDEZEMBRO/2010  CNJ\\n21\\n\\nIV ENCONTRO NACIONAL DE JUDICIÁRIO\\nA m b i e n t e  d o s  e q u i p a m e n t o s  s e r v i d o r e s\\nRecurso\\nDescrição\\nServidores de aplicação\\n2 servidores de aplicação, cada um com a seguinte configuração; • 2 processadores quad-core com  2.0GHz/núcleo; • 32 GB de memória RAM; • 75 GB \\nde espaço em disco, preferencialmente em RAID 1 ou 5; • 2 interfaces SAN HBA de 8Gbps; • 2 interfaces de rede de 1Gbps; • Sistema operacional linux \\nou unix-like; • Java Runtime Environment versão 1.6;• JBoss Application Server versão 5.0.1.GA e • Certificado A1 ICP-Brasil\\nServidores de banco de dados 2 servidores de bancos de dados, configurados como master e slave, instalados, cada um, com a seguinte configuração:; • 2 processadores quad-core \\ncom  2.0GHz/núcleo; • 32 GB de memória RAM; • 75 GB de espaço em disco do sistema operacional, preferencialmente em RAID 1 ou 5; • 2 x 2 TB \\nde espaço em disco para os arquivos do sistema gerenciador de banco de dados, um para cada banco de dados do PJe, preferencialmente em RAID 5; \\n• 2 interfaces SAN HBA de 8Gbps; • 2 interfaces de rede de 1Gbps; • Sistema operacional linux ou unix-like; • Java Runtime Environment versão 1.; • \\nPostgreSQL 8.4.1 ou, na versão de março, Oracle 11g\\nLinks entre os equipamentos \\nservidores\\nO ideal é que os equipamentos servidores estejam interligados em rede de altíssima velocidade, se possível por meio de barramento de fibra ótica.\\nUm ambiente de tecnologia da informação ade-\\nquadamente preparado tem significativo impacto \\nsobre as impressões a respeito do sistema. Falhas, \\nquedas e indisponibilidades podem dar a impressão \\nde que um sistema é instável ou imprestável.\\nA equipe de tecnologia da informação do tribunal \\ndeve, portanto, preparar o ambiente de execução, tan-\\nto do ponto de vista de quem provê o sistema quanto \\nde quem o utiliza. \\nEm razão disso, a Diretoria de Tecnologia de Infor-\\nmação do Conselho Nacional de Justiça, juntamente \\ncom os servidores líderes técnicos do projeto elabo-\\nraram as seguintes características para uma instala-\\nção ótima do sistema, sem embargo de ele poder \\nfuncionar em contextos mais modestos.\\nP r e p a r a ç ã o  d o  a m b i e n t e  d e  t e c n o l o g i a  d a  i n f o r m a ç ã o\\nA m b i e n t e s  d o s  u s u á r i o s\\nRecurso\\nDescrição\\nMicrocomputadores\\n• Processador de 2 núcleos com 2.0 GHz/núcleo; • 2GB de memória RAM; • 2 adaptadores de vídeo (para utilização de dois monitores)\\n2 monitores de vídeo com resolução mínima de 1024x768; • Leitora de cartão inteligente (smartcard) ou entrada USB para token criptográfico, \\nconforme o hardware de certificados dos magistrados, servidores e auxiliares; • Navegadores: Mozilla Firefox 3.5 ou superior; Microsoft Internet \\nExplorer 8.0 ou superior; quanto aos demais, recomenda-se testar a versão mais recente. O uso em sistemas operacionais outros que não o MS \\nWindows será liberado na versão 1.2.\\nScanners\\nA quantidade de scanners e sua configuração devem ser estudadas de acordo com a demanda prevista de documentos a serem digitalizados nos \\nambientes dos tribunais.\\nSala de atendimento\\nInstalação de sala para autoatendimento dos advogados que praticarão atos diretamente nas dependências do órgão julgador, inclusive com \\nequipamentos para digitalização. Este equipamento deverá ter tanto a leitura de cartão inteligente quanto a entrada USB para token criptográfico\\nLinks de comunicação\\nRecomenda-se a adoção, por ambiente, de link de 2Mbps, conforme a Resolução 90 do CNJ\\nCertificados A3 ICP-Br\\nOs usuários do sistema obrigatoriamente devem utilizar certificados ICP-Brasil A3 para assinaturas de documentos no sistema. Os certificados têm \\nvalidade de 3 anos.\\nO b s e r v a ç õ e s :\\nOs servidores de aplicação podem ser máquinas virtuais\\nSugere-se não virtualizar os servidores de bancos de dados\\nAs interfaces SAN somente são necessárias caso sejam \\nutilizados storages\\nO espaço em disco indicado para os sistemas de bancos \\nde dados pode ser suprido por storages de alta perfor-\\nmance ligados em SAN ou em serviços de CAS transpa-\\nrentes para os CDBs\\nO espaço em disco indicado para armazenamento do \\nbanco de dados de arquivos binários pode ser suprido \\npor storages ligados em rede TCP\\nCNJ  DEZEMBRO/2010\\n22\\n\\n\\nwww.cnj.jus.br\\n'),\n",
       " ('../docs/TRT04 - Guia para participação em audiências_sessões com a ferramenta Zoom.pdf',\n",
       "  'PODER JUDICIÁRIO\\nTRIBUNAL REGIONAL DO TRABALHO DA 4ª REGIÃO\\nSecretaria de Tecnologia da Informação e Comunicações\\nCoordenadoria de Implantação de Sistemas\\nTRT4\\nZoom: Guia rápido para participação em audiências e sessões por\\nvideoconferência\\nParticipando de uma audiência/sessão por videoconferência no Zoom\\n2\\n1.1 Requisitos\\n2\\n1.2 Acesso às audiências/sessões\\n2\\n1.3 Participando de audiências/sessões pelo computador\\n4\\n1.4 Participando de reuniões/sessões pelo celular\\n7\\nNa sala de audiência/sessão\\n8\\n2.1 Ícones\\n8\\n2.2 Sala de espera\\n10\\n2.3 Pano de fundo\\n10\\nParticipando de uma audiência/sessão por videoconferência no Zoom\\n11\\nAlterando o nome antes de entrar na audiência/sessão (advogados)\\n12\\n4.1 No celular\\n12\\n1\\nMaterial elaborado pela SETIC/CIS\\n\\nPODER JUDICIÁRIO\\nTRIBUNAL REGIONAL DO TRABALHO DA 4ª REGIÃO\\nSecretaria de Tecnologia da Informação e Comunicações\\nCoordenadoria de Implantação de Sistemas\\nPúblico-alvo\\ndeste\\nmaterial:\\nadvogados,\\npartes\\ne\\nperitos que irão participar de sessões ou audiências\\ntelepresenciais em processos judiciais do TRT04.\\nA Justiça do Trabalho instituiu, por meio do ATO CONJUNTO N. 54/TST.CSJT.GP,\\nDE 29 DE DEZEMBRO DE 2020, a plataforma Zoom como sistema oficial para a realização\\nde audiências e sessões de julgamento.\\nEm virtude disso, a Secretaria de Tecnologia da Informação e Comunicações do\\nTribunal Regional do Trabalho da 4ª Região disponibiliza o presente guia, com orientações\\ntécnicas para a participação em audiências e sessões através de videoconferência.\\n1. Participando de uma audiência/sessão por videoconferência no Zoom\\n1.1 Requisitos\\nComputador ou smartphone com acesso à internet. Recomenda-se o uso de\\nequipamentos com câmera, microfone e saída de áudio integrados ou a utilização de\\nfones de ouvido com microfone.\\n1.2 Acesso às audiências/sessões\\nPara entrar na sala em que ocorrerá a audiência/sessão é necessário clicar\\nno link que foi previamente informado pela unidade judiciária ou colá-lo no\\nnavegador de internet. O link também pode ter sido enviado no teor da intimação.\\nÀ exceção do Tribunal Pleno e Órgão Especial que disponibilizam o link para\\na sessão no Youtube. O link do Zoom é enviado apenas para aqueles advogados\\ninscritos para sustentação oral e outros interessados que o solicitarem previamente\\nà Secretaria do Tribunal Pleno e Órgão Especial\\nPara facilitar o acesso às salas de audiências e sessões, os links para\\nacesso às videoconferências também estarão disponíveis no site do TRT, junto às\\ninformações das pautas, conforme indicações abaixo:\\n●\\nPara as audiências de primeiro grau: https://www.trt4.jus.br/portais/trt4/pauta-1grau\\n2\\nMaterial elaborado pela SETIC/CIS\\n\\nPODER JUDICIÁRIO\\nTRIBUNAL REGIONAL DO TRABALHO DA 4ª REGIÃO\\nSecretaria de Tecnologia da Informação e Comunicações\\nCoordenadoria de Implantação de Sistemas\\n●\\nOs endereços das salas de sessões de cada turma e especializada podem ser\\nobtidos em: https://www.trt4.jus.br/portais/trt4/sessoestrt\\n3\\nMaterial elaborado pela SETIC/CIS\\n\\nPODER JUDICIÁRIO\\nTRIBUNAL REGIONAL DO TRABALHO DA 4ª REGIÃO\\nSecretaria de Tecnologia da Informação e Comunicações\\nCoordenadoria de Implantação de Sistemas\\nComo já informado o link para as sessões do Pleno e Órgão Especial direcionam\\npara o acompanhamento pelo Youtube.\\nAcessar a unidade desejada e localizar o link fixo da sala conforme as imagens\\nabaixo:\\n●\\nPrimeiro grau:\\n●\\nSegundo grau:\\n1.3 Participando de audiências/sessões pelo computador\\nDepois de clicar no link da audiência/sessão, abre-se a possibilidade de\\nentrar na sala com o aplicativo do Zoom ou entrando diretamente pelo navegador.\\nRecomendamos que os usuários não instalem o Zoom no computador e que entrem\\nna audiência/sessão pelo navegador. Para isso, ao clicar no link da sala selecione\\n“Iniciar a Reunião”:\\n4\\nMaterial elaborado pela SETIC/CIS\\n\\nPODER JUDICIÁRIO\\nTRIBUNAL REGIONAL DO TRABALHO DA 4ª REGIÃO\\nSecretaria de Tecnologia da Informação e Comunicações\\nCoordenadoria de Implantação de Sistemas\\nDepois clique em “Ingresse em seu navegador””:\\nNa tela “Ingressar em uma reunião”, digite seu nome ou, se for advogado, o\\nTRT solicita que coloque no espaço destinado ao nome o número do processo ao\\nqual se refere à audiência que vai participar. Dessa forma, facilitará que o Secretário\\nlocalize na sala de espera os advogados representantes das partes, e possa\\nautorizar sua entrada na sala de audiências no momento adequado. Depois clique\\nem “Não sou robô\\'\\' e em “Entrar\\'\\'.\\n5\\nMaterial elaborado pela SETIC/CIS\\n\\nPODER JUDICIÁRIO\\nTRIBUNAL REGIONAL DO TRABALHO DA 4ª REGIÃO\\nSecretaria de Tecnologia da Informação e Comunicações\\nCoordenadoria de Implantação de Sistemas\\nNa sequência, DÊ AS PERMISSÕES (todas: notificações, microfone e\\ncâmera) necessárias para utilização da plataforma e clique em “Entrar áudio por\\ncomputador”.\\nAo entrar na sala de audiência/sessão, o usuário é direcionado para a sala\\nde espera e deverá aguardar até que seja permitido o acesso à sala principal, local\\nem que de fato acontecerá a audiência/sessão.\\n6\\nMaterial elaborado pela SETIC/CIS\\n\\nPODER JUDICIÁRIO\\nTRIBUNAL REGIONAL DO TRABALHO DA 4ª REGIÃO\\nSecretaria de Tecnologia da Informação e Comunicações\\nCoordenadoria de Implantação de Sistemas\\nSe o usuário entrar pelo aplicativo baixado no computador não será possível\\neditar o nome antes de entrar na audiência/sessão, o que pode ocasionar\\ndificuldades na hora da autorização da entrada na sala.\\n1.4 Participando de reuniões/sessões pelo celular\\nPara utilizar o celular para entrar nas audiências/sessões é preciso instalar o\\naplicativo do Zoom por meio da Play Store (Android) ou Apple Store (iOS),\\npreviamente.\\nApós a instalação do App, clicando no link da reunião, o usuário é\\ndirecionado para a sala de espera e deverá aguardar até que seja permitido o\\nacesso à sala principal. Deve-se entrar sempre com a câmera ligada, microfone\\ndesligado e aguardar autorização para a entrada na sala principal.\\nNão\\nrecomendamos\\nque\\nos\\nadvogados\\nentrem\\ncom\\no\\ncelular\\nnas\\naudiências/sessões em virtude do nome, que precisa ser alterado pelo número do\\nprocesso à qual audiência/sessão se refere. Mas caso não haja outro meio de o\\n7\\nMaterial elaborado pela SETIC/CIS\\n\\nPODER JUDICIÁRIO\\nTRIBUNAL REGIONAL DO TRABALHO DA 4ª REGIÃO\\nSecretaria de Tecnologia da Informação e Comunicações\\nCoordenadoria de Implantação de Sistemas\\nadvogado entrar consulte o item 4 para verificar como alterar o nome antes de cada\\naudiência/sessão.\\n2. Na sala de audiência/sessão\\nNa sala da audiência/sessão é a área da reunião propriamente dita, onde são\\nexibidas as informações, tais como: imagens dos participantes ou vídeos/áudios dos\\nmesmos e recursos do Zoom.\\n2.1 Ícones\\nNa área de reunião também são exibidos ícones das principais ações\\ndurante a audiência/sessão.\\n8\\nMaterial elaborado pela SETIC/CIS\\n\\nPODER JUDICIÁRIO\\nTRIBUNAL REGIONAL DO TRABALHO DA 4ª REGIÃO\\nSecretaria de Tecnologia da Informação e Comunicações\\nCoordenadoria de Implantação de Sistemas\\nMicrofone\\nUsado para ativar ou desativar o áudio, devendo-se deixar desligado e ativar\\napenas quando for falar.\\nCâmera\\nUsado para ativar ou desativar o vídeo/imagem, devendo-se deixar sempre\\nligada.\\nParticipantes\\nExibe as pessoas que estão na audiência/sessão.\\nBate-papo\\nUsado para troca de mensagens.\\nSair\\n9\\nMaterial elaborado pela SETIC/CIS\\n\\nPODER JUDICIÁRIO\\nTRIBUNAL REGIONAL DO TRABALHO DA 4ª REGIÃO\\nSecretaria de Tecnologia da Informação e Comunicações\\nCoordenadoria de Implantação de Sistemas\\nUsado para sair da audiência/sessão.\\nVisualizar\\nNeste ícone, pode-se escolher a forma de visualização dos participantes.\\nInformações da Reunião\\nSão exibidos os dados da audiência/sessão.\\n2.2 Sala de espera\\nCada sala de audiência ou sessão possui uma sala de espera e permite que\\no anfitrião (secretário de audiência ou sessão) controle quando um participante pode\\nentrar na sala principal. Não é possível renomear seu usuário já na sala de espera,\\nIsso precisa ser feito antes de acessar o link da audiência.\\n2.3 Pano de fundo\\nA fim de resguardar a segurança da audiência e dos procedimentos\\nrealizados à distância, os participantes não devem configurar pano de fundo no\\nZoom. Se por um lapso, o usuário estiver com essa configuração, deverá desfazê-la\\nseguindo os passos descritos a seguir:\\nNa tela da audiência/sessão, deve-se clicar no ícone dos “Três pontinhos\" ao\\nlado do do seu nome:\\nClicar em “Escolher pano de fundo virtual”\\n10\\nMaterial elaborado pela SETIC/CIS\\n\\nPODER JUDICIÁRIO\\nTRIBUNAL REGIONAL DO TRABALHO DA 4ª REGIÃO\\nSecretaria de Tecnologia da Informação e Comunicações\\nCoordenadoria de Implantação de Sistemas\\nE na tela que abrir escolher “None”:\\n3. Participando de uma audiência/sessão por videoconferência no Zoom\\n11\\nMaterial elaborado pela SETIC/CIS\\n\\nPODER JUDICIÁRIO\\nTRIBUNAL REGIONAL DO TRABALHO DA 4ª REGIÃO\\nSecretaria de Tecnologia da Informação e Comunicações\\nCoordenadoria de Implantação de Sistemas\\n●\\nMantenha\\nseu\\nmicrofone\\ndesativado\\nquando\\nnão\\nestiver\\nfalando.Isso\\ncolabora para a compreensão de todos e evita interferências externas.\\n●\\nO uso de microfones/fones de ouvido melhora a transmissão/captação do\\náudio. Dê preferência aos microfones que captam som localizado, aqueles\\nque ficam próximos a boca do usuário, pois os microfones que captam o som\\ndo ambiente ao redor costumam prejudicar a qualidade da reunião porque\\ncausam ruídos que poluem o áudio geral da sala. Fones que acompanham\\nos smartphones são uma boa opção nesse caso.\\n●\\nSe for usar o celular, certifique-se de que a bateria esteja plenamente\\ncarregada ou que haja uma fonte de energia próxima para carregá-la.\\n●\\nQuando o participante da videoconferência utiliza vídeo, é recomendável que\\nele se certifique de que o ambiente ao seu redor esteja organizado de modo\\nque não haja muita poluição visual. Deve-se observar se existem elementos\\ninapropriados à situação aparecendo ao fundo, como imagens/gravuras,\\nobjetos íntimos, entre outros elementos que possam causar constrangimento\\naos outros participantes. Não se esqueça que é um ato solene.\\n●\\nEsteja vestido adequadamente para a ocasião, com roupas condizentes com\\no decoro e a formalidade do referido ato.\\n4. Alterando o nome antes de entrar na audiência/sessão (advogados)\\n4.1 No celular\\nOs advogados precisam identificar-se com o número do processo que está na pauta\\nda audiência e esse procedimento não pode ser feito na Sala de Espera. Assim,\\nesteja atento para fazer a alteração antes de entrar.. Para alterar o nome antes de\\niniciar a audiência/sessão, abra o aplicativo, faça login e pressione “Configurações:\\n12\\nMaterial elaborado pela SETIC/CIS\\n\\nPODER JUDICIÁRIO\\nTRIBUNAL REGIONAL DO TRABALHO DA 4ª REGIÃO\\nSecretaria de Tecnologia da Informação e Comunicações\\nCoordenadoria de Implantação de Sistemas\\nDepois pressione a parte em que aparece o nome conforme a imagem abaixo:\\n13\\nMaterial elaborado pela SETIC/CIS\\n\\nPODER JUDICIÁRIO\\nTRIBUNAL REGIONAL DO TRABALHO DA 4ª REGIÃO\\nSecretaria de Tecnologia da Informação e Comunicações\\nCoordenadoria de Implantação de Sistemas\\nApós pressione “Nome de exibição”:\\nPor fim, altere o nome colocando o número do processo e parte que representa e\\npressione “Salvar”: Outra opção para identificação do advogado é indicar o horário da\\naudiência, por exemplo: 14h- adv rte; 14h - adv-rda.\\n14\\nMaterial elaborado pela SETIC/CIS\\n\\nPODER JUDICIÁRIO\\nTRIBUNAL REGIONAL DO TRABALHO DA 4ª REGIÃO\\nSecretaria de Tecnologia da Informação e Comunicações\\nCoordenadoria de Implantação de Sistemas\\nRealizada essa configuração, na hora de entrar na audiência/sessão será exibido\\nem sua identificação na sala de espera o número do processo (ou o horário), permitindo a\\nverificação por parte do secretário de audiência/sessão. Sempre que for entrar em uma\\naudiência/sessão é necessário fazer a alteração do nome. Sem esse cuidado, o secretário\\nde audiência não terá como identificá-lo para admiti-lo na sala de audiência.\\nObservação: Oriente as partes e testemunhas a utilizarem nomes que permitam\\nidentificá-los. Pode-se usar, no lugar do nome, o número do processo ou o horário (14h-rte,\\n14h-rda, 14h-test rte). Certifique-se de que é possível identificá-los quando estão na sala\\nde espera, o que contribuirá para o bom andamento do trabalho.\\n15\\nMaterial elaborado pela SETIC/CIS\\n')]"
      ]
     },
     "execution_count": 33,
     "metadata": {},
     "output_type": "execute_result"
    }
   ],
   "source": [
    "documents_all[:3]"
   ]
  },
  {
   "cell_type": "markdown",
   "metadata": {},
   "source": [
    "### Simple chunking\n",
    "\n",
    "Just for clarification, below is given examples of chunk_size."
   ]
  },
  {
   "cell_type": "code",
   "execution_count": 28,
   "metadata": {},
   "outputs": [
    {
     "name": "stdout",
     "output_type": "stream",
     "text": [
      "Characters count: 997\n"
     ]
    }
   ],
   "source": [
    "text = \"\"\"\n",
    "Guia\n",
    "do\n",
    "Rápido\n",
    "  Pendentes de ciência ou de seu registro: conjunto de atos de comunicação em relação ao qual ainda \n",
    "não há registro de ciência pelo destinatário, independentemente do meio de intimação utilizado. Quando \n",
    "se tratar de citação ou notificação eletrônica na forma da Lei n.º 11.419/2006, é incluída a informação do \n",
    "prazo máximo para ciência pelo destinatário, após o que ocorrerá a ciência ficta. O ícone “lupa vermelha” \n",
    "permite que o destinatário tome ciência do ato. O ícone de resposta levará à ciência e a uma página em que \n",
    "a resposta pode ser elaborada.\n",
    "  Ciência dada pelo destinatário direto ou indireto e dentro do prazo: conjunto de atos de comu­\n",
    "nicação em relação ao qual houve ciência pelo destinatário ou por quem o represente, independentemente \n",
    "do meio de intimação utilizado, e cujo prazo ainda está em curso. Caso o ato não tenha prazo para resposta, \n",
    "será exibido no agrupador “Sem prazo”. O prazo limite provável é exibido no canto inferior direito, assim como \n",
    "\"\"\"\n",
    "\n",
    "print(f\"Characters count: {len(text)}\")"
   ]
  },
  {
   "cell_type": "code",
   "execution_count": 37,
   "metadata": {},
   "outputs": [
    {
     "data": {
      "text/plain": [
       "[{'filename': '../docs/Manual_de_utilização_do_PJe_sem_certificado_digital.pdf'},\n",
       " {'filename': '../docs/processo_judicial_eletronico_grafica2.pdf'},\n",
       " {'filename': '../docs/TRT04 - Guia para participação em audiências_sessões com a ferramenta Zoom.pdf'},\n",
       " {'filename': '../docs/TRT04 - PJE 2.10.1 - Manual de autuação no  painel do procurador.pdf'},\n",
       " {'filename': '../docs/guiapje-tribunal.pdf'}]"
      ]
     },
     "execution_count": 37,
     "metadata": {},
     "output_type": "execute_result"
    }
   ],
   "source": [
    "metadata_ = [ {\"filename\": doc[0] } for doc in documents_all ]\n",
    "metadata_[:5]"
   ]
  },
  {
   "cell_type": "code",
   "execution_count": 38,
   "metadata": {},
   "outputs": [],
   "source": [
    "from langchain_text_splitters import CharacterTextSplitter\n",
    "\n",
    "characterTextSplitter = CharacterTextSplitter(\n",
    "    separator=\"\\n\\n\",\n",
    "    chunk_size=1000,\n",
    "    chunk_overlap=200,\n",
    "    length_function=len,\n",
    "    is_separator_regex=False,\n",
    ")"
   ]
  },
  {
   "cell_type": "code",
   "execution_count": 47,
   "metadata": {},
   "outputs": [
    {
     "name": "stderr",
     "output_type": "stream",
     "text": [
      "Created a chunk of size 1042, which is longer than the specified 1000\n",
      "Created a chunk of size 2791, which is longer than the specified 1000\n",
      "Created a chunk of size 1673, which is longer than the specified 1000\n",
      "Created a chunk of size 1306, which is longer than the specified 1000\n",
      "Created a chunk of size 1880, which is longer than the specified 1000\n",
      "Created a chunk of size 1054, which is longer than the specified 1000\n",
      "Created a chunk of size 2112, which is longer than the specified 1000\n",
      "Created a chunk of size 1228, which is longer than the specified 1000\n",
      "Created a chunk of size 1423, which is longer than the specified 1000\n",
      "Created a chunk of size 2737, which is longer than the specified 1000\n",
      "Created a chunk of size 2492, which is longer than the specified 1000\n",
      "Created a chunk of size 1688, which is longer than the specified 1000\n",
      "Created a chunk of size 1702, which is longer than the specified 1000\n",
      "Created a chunk of size 1028, which is longer than the specified 1000\n",
      "Created a chunk of size 1680, which is longer than the specified 1000\n",
      "Created a chunk of size 1002, which is longer than the specified 1000\n",
      "Created a chunk of size 1372, which is longer than the specified 1000\n",
      "Created a chunk of size 2525, which is longer than the specified 1000\n",
      "Created a chunk of size 3315, which is longer than the specified 1000\n",
      "Created a chunk of size 3273, which is longer than the specified 1000\n",
      "Created a chunk of size 1323, which is longer than the specified 1000\n",
      "Created a chunk of size 2234, which is longer than the specified 1000\n",
      "Created a chunk of size 1067, which is longer than the specified 1000\n",
      "Created a chunk of size 1419, which is longer than the specified 1000\n",
      "Created a chunk of size 1603, which is longer than the specified 1000\n",
      "Created a chunk of size 1806, which is longer than the specified 1000\n",
      "Created a chunk of size 1254, which is longer than the specified 1000\n",
      "Created a chunk of size 1069, which is longer than the specified 1000\n",
      "Created a chunk of size 1418, which is longer than the specified 1000\n",
      "Created a chunk of size 2047, which is longer than the specified 1000\n",
      "Created a chunk of size 2216, which is longer than the specified 1000\n",
      "Created a chunk of size 3270, which is longer than the specified 1000\n",
      "Created a chunk of size 4214, which is longer than the specified 1000\n",
      "Created a chunk of size 1898, which is longer than the specified 1000\n",
      "Created a chunk of size 1116, which is longer than the specified 1000\n",
      "Created a chunk of size 1124, which is longer than the specified 1000\n",
      "Created a chunk of size 1833, which is longer than the specified 1000\n",
      "Created a chunk of size 1102, which is longer than the specified 1000\n",
      "Created a chunk of size 1122, which is longer than the specified 1000\n",
      "Created a chunk of size 1426, which is longer than the specified 1000\n",
      "Created a chunk of size 1475, which is longer than the specified 1000\n",
      "Created a chunk of size 1486, which is longer than the specified 1000\n",
      "Created a chunk of size 1360, which is longer than the specified 1000\n",
      "Created a chunk of size 1260, which is longer than the specified 1000\n",
      "Created a chunk of size 1141, which is longer than the specified 1000\n",
      "Created a chunk of size 1243, which is longer than the specified 1000\n",
      "Created a chunk of size 1776, which is longer than the specified 1000\n",
      "Created a chunk of size 1026, which is longer than the specified 1000\n",
      "Created a chunk of size 1132, which is longer than the specified 1000\n",
      "Created a chunk of size 1006, which is longer than the specified 1000\n",
      "Created a chunk of size 1255, which is longer than the specified 1000\n",
      "Created a chunk of size 1546, which is longer than the specified 1000\n",
      "Created a chunk of size 1014, which is longer than the specified 1000\n",
      "Created a chunk of size 1642, which is longer than the specified 1000\n",
      "Created a chunk of size 1440, which is longer than the specified 1000\n",
      "Created a chunk of size 1291, which is longer than the specified 1000\n",
      "Created a chunk of size 1427, which is longer than the specified 1000\n",
      "Created a chunk of size 1251, which is longer than the specified 1000\n",
      "Created a chunk of size 1455, which is longer than the specified 1000\n",
      "Created a chunk of size 1153, which is longer than the specified 1000\n",
      "Created a chunk of size 1668, which is longer than the specified 1000\n",
      "Created a chunk of size 1094, which is longer than the specified 1000\n",
      "Created a chunk of size 1794, which is longer than the specified 1000\n",
      "Created a chunk of size 1597, which is longer than the specified 1000\n",
      "Created a chunk of size 1175, which is longer than the specified 1000\n",
      "Created a chunk of size 1394, which is longer than the specified 1000\n",
      "Created a chunk of size 1257, which is longer than the specified 1000\n",
      "Created a chunk of size 1192, which is longer than the specified 1000\n",
      "Created a chunk of size 1398, which is longer than the specified 1000\n",
      "Created a chunk of size 1340, which is longer than the specified 1000\n",
      "Created a chunk of size 1833, which is longer than the specified 1000\n",
      "Created a chunk of size 1227, which is longer than the specified 1000\n",
      "Created a chunk of size 1063, which is longer than the specified 1000\n",
      "Created a chunk of size 1761, which is longer than the specified 1000\n",
      "Created a chunk of size 2534, which is longer than the specified 1000\n",
      "Created a chunk of size 2352, which is longer than the specified 1000\n",
      "Created a chunk of size 1576, which is longer than the specified 1000\n",
      "Created a chunk of size 1321, which is longer than the specified 1000\n",
      "Created a chunk of size 1273, which is longer than the specified 1000\n",
      "Created a chunk of size 1239, which is longer than the specified 1000\n",
      "Created a chunk of size 2583, which is longer than the specified 1000\n",
      "Created a chunk of size 1317, which is longer than the specified 1000\n",
      "Created a chunk of size 1984, which is longer than the specified 1000\n",
      "Created a chunk of size 2268, which is longer than the specified 1000\n",
      "Created a chunk of size 2413, which is longer than the specified 1000\n"
     ]
    }
   ],
   "source": [
    "docs = [doc[1] for doc in documents_all] # take the doc out form the tuple\n",
    "documents_lc = characterTextSplitter.create_documents( docs, metadatas=metadata_ )"
   ]
  },
  {
   "cell_type": "code",
   "execution_count": 48,
   "metadata": {},
   "outputs": [
    {
     "name": "stdout",
     "output_type": "stream",
     "text": [
      "page_content='Manual de utilização do PJe sem certificado \n",
      "digital \n",
      " \n",
      "Índice \n",
      " \n",
      "Introdução \n",
      "Restrições de acesso ao usuário que acessar o PJe sem certificado digital \n",
      "Procedimento para criar uma senha de acesso ao sistema sem certificado digital \n",
      "Novos usuários do sistema \n",
      "Usuário que já possuam um certificado digital \n",
      "Usuário sem certificado digital \n",
      "Usuário já existente com certificado digital \n",
      "Usuário cadastrado como Push, sem certificado digital \n",
      "Procedimento de secretaria nos tribunais \n",
      "Possíveis problemas e respostas prováveis \n",
      "Procedimentos para o administrador do sistema \n",
      "Habilitação ou restrição da funcionalidade de acesso sem o certificado digital \n",
      "Configuração do modelo do texto do termo de compromisso \n",
      "Configuração do modelo do texto do envio do link para cadastro da senha \n",
      "Exemplo de modelo de texto do e­mail para alteração/cadastro da senha \n",
      "Alteração do hash para a troca da senha no banco de dados \n",
      "Procedimentos para os desenvolvedores do sistema \n",
      "Simulando o acesso com certificado digital utilizando usuário e senha \n",
      " \n",
      " \n",
      " \n",
      "1' metadata={'filename': '../docs/Manual_de_utilização_do_PJe_sem_certificado_digital.pdf'}\n"
     ]
    }
   ],
   "source": [
    "print(documents_lc[0])"
   ]
  },
  {
   "cell_type": "markdown",
   "metadata": {},
   "source": [
    "### Saving in the vector store"
   ]
  },
  {
   "cell_type": "code",
   "execution_count": null,
   "metadata": {},
   "outputs": [],
   "source": []
  },
  {
   "cell_type": "code",
   "execution_count": null,
   "metadata": {},
   "outputs": [],
   "source": []
  },
  {
   "cell_type": "code",
   "execution_count": null,
   "metadata": {},
   "outputs": [],
   "source": []
  }
 ],
 "metadata": {
  "kernelspec": {
   "display_name": ".venv",
   "language": "python",
   "name": "python3"
  },
  "language_info": {
   "codemirror_mode": {
    "name": "ipython",
    "version": 3
   },
   "file_extension": ".py",
   "mimetype": "text/x-python",
   "name": "python",
   "nbconvert_exporter": "python",
   "pygments_lexer": "ipython3",
   "version": "3.11.10"
  }
 },
 "nbformat": 4,
 "nbformat_minor": 4
}
